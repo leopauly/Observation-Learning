{
 "cells": [
  {
   "cell_type": "markdown",
   "metadata": {},
   "source": [
    "### Experiment1_Plotting distances and angles\n",
    "Author : @leopauly | cnlp@leeds.ac.uk <br>\n",
    "Description : Studying the feature vectors in the feature space"
   ]
  },
  {
   "cell_type": "code",
   "execution_count": 1,
   "metadata": {},
   "outputs": [
    {
     "name": "stderr",
     "output_type": "stream",
     "text": [
      "Using TensorFlow backend.\n"
     ]
    }
   ],
   "source": [
    "import os\n",
    "from six.moves import xrange  # pylint: disable=redefined-builtin\n",
    "import PIL.Image as Image\n",
    "import random\n",
    "import numpy as np\n",
    "import cv2\n",
    "import time\n",
    "import math\n",
    "import matplotlib.pyplot as plt\n",
    "import tensorflow as tf\n",
    "from keras import backend as K\n",
    "\n",
    "# Custom scripts\n",
    "import lscript as lsp\n",
    "import modelling as md"
   ]
  },
  {
   "cell_type": "code",
   "execution_count": 2,
   "metadata": {
    "collapsed": true
   },
   "outputs": [],
   "source": [
    "height=112 \n",
    "width=112 \n",
    "channel=3\n",
    "crop_size=112\n",
    "\n",
    "cluster_length=16\n",
    "feature_size=4608 #8192   #16384  #487\n",
    "nb_classes=2\n",
    "saved_path='/nobackup/leopauly/logdirp100'\n",
    "\n",
    "batch_size=32\n",
    "memory_batch_size_train=266\n",
    "memory_batch_size_test=170\n",
    "next_batch_start=0\n",
    "sample_batch_size=10"
   ]
  },
  {
   "cell_type": "code",
   "execution_count": 3,
   "metadata": {},
   "outputs": [
    {
     "name": "stderr",
     "output_type": "stream",
     "text": [
      "/home/ufaserv1_f/cnlp/Seeing_to_Learn/Observation-Learning/ExperimentSet_C_Basics/modelling.py:281: UserWarning: Update your `Conv3D` call to the Keras 2 API: `Conv3D(64, (3, 3, 3), activation=\"relu\", name=\"conv1\", input_shape=(16, 112, ..., padding=\"same\")`\n",
      "  input_shape=input_shape))\n",
      "/home/ufaserv1_f/cnlp/Seeing_to_Learn/Observation-Learning/ExperimentSet_C_Basics/modelling.py:283: UserWarning: Update your `MaxPooling3D` call to the Keras 2 API: `MaxPooling3D(pool_size=(1, 2, 2), strides=(1, 2, 2), name=\"pool1\", padding=\"valid\")`\n",
      "  border_mode='valid', name='pool1'))\n",
      "/home/ufaserv1_f/cnlp/Seeing_to_Learn/Observation-Learning/ExperimentSet_C_Basics/modelling.py:286: UserWarning: Update your `Conv3D` call to the Keras 2 API: `Conv3D(128, (3, 3, 3), activation=\"relu\", name=\"conv2\", padding=\"same\")`\n",
      "  border_mode='same', name='conv2'))\n",
      "/home/ufaserv1_f/cnlp/Seeing_to_Learn/Observation-Learning/ExperimentSet_C_Basics/modelling.py:288: UserWarning: Update your `MaxPooling3D` call to the Keras 2 API: `MaxPooling3D(pool_size=(2, 2, 2), strides=(2, 2, 2), name=\"pool2\", padding=\"valid\")`\n",
      "  border_mode='valid', name='pool2'))\n",
      "/home/ufaserv1_f/cnlp/Seeing_to_Learn/Observation-Learning/ExperimentSet_C_Basics/modelling.py:291: UserWarning: Update your `Conv3D` call to the Keras 2 API: `Conv3D(256, (3, 3, 3), activation=\"relu\", name=\"conv3a\", padding=\"same\")`\n",
      "  border_mode='same', name='conv3a'))\n",
      "/home/ufaserv1_f/cnlp/Seeing_to_Learn/Observation-Learning/ExperimentSet_C_Basics/modelling.py:293: UserWarning: Update your `Conv3D` call to the Keras 2 API: `Conv3D(256, (3, 3, 3), activation=\"relu\", name=\"conv3b\", padding=\"same\")`\n",
      "  border_mode='same', name='conv3b'))\n",
      "/home/ufaserv1_f/cnlp/Seeing_to_Learn/Observation-Learning/ExperimentSet_C_Basics/modelling.py:295: UserWarning: Update your `MaxPooling3D` call to the Keras 2 API: `MaxPooling3D(pool_size=(2, 2, 2), strides=(2, 2, 2), name=\"pool3\", padding=\"valid\")`\n",
      "  border_mode='valid', name='pool3'))\n",
      "/home/ufaserv1_f/cnlp/Seeing_to_Learn/Observation-Learning/ExperimentSet_C_Basics/modelling.py:298: UserWarning: Update your `Conv3D` call to the Keras 2 API: `Conv3D(512, (3, 3, 3), activation=\"relu\", name=\"conv4a\", padding=\"same\")`\n",
      "  border_mode='same', name='conv4a'))\n",
      "/home/ufaserv1_f/cnlp/Seeing_to_Learn/Observation-Learning/ExperimentSet_C_Basics/modelling.py:300: UserWarning: Update your `Conv3D` call to the Keras 2 API: `Conv3D(512, (3, 3, 3), activation=\"relu\", name=\"conv4b\", padding=\"same\")`\n",
      "  border_mode='same', name='conv4b'))\n",
      "/home/ufaserv1_f/cnlp/Seeing_to_Learn/Observation-Learning/ExperimentSet_C_Basics/modelling.py:302: UserWarning: Update your `MaxPooling3D` call to the Keras 2 API: `MaxPooling3D(pool_size=(2, 2, 2), strides=(2, 2, 2), name=\"pool4\", padding=\"valid\")`\n",
      "  border_mode='valid', name='pool4'))\n",
      "/home/ufaserv1_f/cnlp/Seeing_to_Learn/Observation-Learning/ExperimentSet_C_Basics/modelling.py:305: UserWarning: Update your `Conv3D` call to the Keras 2 API: `Conv3D(512, (3, 3, 3), activation=\"relu\", name=\"conv5a\", padding=\"same\")`\n",
      "  border_mode='same', name='conv5a'))\n",
      "/home/ufaserv1_f/cnlp/Seeing_to_Learn/Observation-Learning/ExperimentSet_C_Basics/modelling.py:307: UserWarning: Update your `Conv3D` call to the Keras 2 API: `Conv3D(512, (3, 3, 3), activation=\"relu\", name=\"conv5b\", padding=\"same\")`\n",
      "  border_mode='same', name='conv5b'))\n",
      "/home/ufaserv1_f/cnlp/Seeing_to_Learn/Observation-Learning/ExperimentSet_C_Basics/modelling.py:310: UserWarning: Update your `MaxPooling3D` call to the Keras 2 API: `MaxPooling3D(pool_size=(2, 2, 2), strides=(2, 2, 2), name=\"pool5\", padding=\"valid\")`\n",
      "  border_mode='valid', name='pool5'))\n"
     ]
    },
    {
     "name": "stdout",
     "output_type": "stream",
     "text": [
      "_________________________________________________________________\n",
      "Layer (type)                 Output Shape              Param #   \n",
      "=================================================================\n",
      "conv1 (Conv3D)               (None, 16, 112, 112, 64)  5248      \n",
      "_________________________________________________________________\n",
      "pool1 (MaxPooling3D)         (None, 16, 56, 56, 64)    0         \n",
      "_________________________________________________________________\n",
      "conv2 (Conv3D)               (None, 16, 56, 56, 128)   221312    \n",
      "_________________________________________________________________\n",
      "pool2 (MaxPooling3D)         (None, 8, 28, 28, 128)    0         \n",
      "_________________________________________________________________\n",
      "conv3a (Conv3D)              (None, 8, 28, 28, 256)    884992    \n",
      "_________________________________________________________________\n",
      "conv3b (Conv3D)              (None, 8, 28, 28, 256)    1769728   \n",
      "_________________________________________________________________\n",
      "pool3 (MaxPooling3D)         (None, 4, 14, 14, 256)    0         \n",
      "_________________________________________________________________\n",
      "conv4a (Conv3D)              (None, 4, 14, 14, 512)    3539456   \n",
      "_________________________________________________________________\n",
      "conv4b (Conv3D)              (None, 4, 14, 14, 512)    7078400   \n",
      "_________________________________________________________________\n",
      "pool4 (MaxPooling3D)         (None, 2, 7, 7, 512)      0         \n",
      "_________________________________________________________________\n",
      "conv5a (Conv3D)              (None, 2, 7, 7, 512)      7078400   \n",
      "_________________________________________________________________\n",
      "conv5b (Conv3D)              (None, 2, 7, 7, 512)      7078400   \n",
      "_________________________________________________________________\n",
      "zeropad5 (ZeroPadding3D)     (None, 2, 8, 8, 512)      0         \n",
      "_________________________________________________________________\n",
      "pool5 (MaxPooling3D)         (None, 1, 4, 4, 512)      0         \n",
      "_________________________________________________________________\n",
      "flatten_1 (Flatten)          (None, 8192)              0         \n",
      "_________________________________________________________________\n",
      "fc6 (Dense)                  (None, 4096)              33558528  \n",
      "_________________________________________________________________\n",
      "dropout_1 (Dropout)          (None, 4096)              0         \n",
      "_________________________________________________________________\n",
      "fc7 (Dense)                  (None, 4096)              16781312  \n",
      "_________________________________________________________________\n",
      "dropout_2 (Dropout)          (None, 4096)              0         \n",
      "_________________________________________________________________\n",
      "fc8 (Dense)                  (None, 101)               413797    \n",
      "=================================================================\n",
      "Total params: 78,409,573\n",
      "Trainable params: 78,409,573\n",
      "Non-trainable params: 0\n",
      "_________________________________________________________________\n",
      "None\n",
      "Miscellenious items finished..!!\n"
     ]
    }
   ],
   "source": [
    "## Defining placeholders in tf for images and targets\n",
    "x_image = tf.placeholder(tf.float32, [None, 16,height,width,channel],name='x') \n",
    "y_true = tf.placeholder(tf.float32, [None, nb_classes],name='y_true')\n",
    "y_true_cls = tf.placeholder(tf.int64, [None],name='y_true_cls')\n",
    "\n",
    "model_keras = md.C3D_ucf101_training_model_tf(summary=True)\n",
    "out=model_keras(x_image)\n",
    "y_pred = tf.nn.softmax(out)\n",
    "y_pred_cls = tf.argmax(out, dimension=1)\n",
    "correct_prediction = tf.equal(y_pred_cls, y_true_cls)\n",
    "accuracy = tf.reduce_mean(tf.cast(correct_prediction, tf.float32))\n",
    "\n",
    "print('Miscellenious items finished..!!',flush=True)"
   ]
  },
  {
   "cell_type": "code",
   "execution_count": 4,
   "metadata": {
    "collapsed": true
   },
   "outputs": [],
   "source": [
    "def dotproduct(v1, v2):\n",
    "  return sum((a*b) for a, b in zip(v1, v2))\n",
    "\n",
    "def length(v):\n",
    "  return math.sqrt(dotproduct(v, v))\n",
    "\n",
    "def angle(v1, v2):\n",
    "    cos_val=dotproduct(v1, v2) / (length(v1) * length(v2))\n",
    "    cos_val=float(cos_val)\n",
    "    cos_val=clean_cos(cos_val)\n",
    "    angle_in_rad=math.acos(cos_val)\n",
    "    #print(angle_in_rad)\n",
    "    return angle_in_rad\n",
    "\n",
    "def clean_cos(cos_val):\n",
    "    return min(1,max(cos_val,-1))"
   ]
  },
  {
   "cell_type": "code",
   "execution_count": 5,
   "metadata": {
    "collapsed": true
   },
   "outputs": [],
   "source": [
    "def get_compress_frames_data(filename, num_frames_per_clip=16):\n",
    "  ''' Given a directory containing extracted frames, return a video clip of\n",
    "  (num_frames_per_clip) consecutive frames as a list of np arrays '''\n",
    "  ret_arr = []\n",
    "  for parent, dirnames, filenames in os.walk(filename):\n",
    "\n",
    "    filenames = sorted(filenames)\n",
    "    jump=math.floor((len(filenames)/num_frames_per_clip))\n",
    "    loop=0\n",
    "    for i in range(0,len(filenames),jump):\n",
    "      if (loop>15):\n",
    "        break\n",
    "      if (filenames[i].endswith('.png')):\n",
    "        image_name = str(filename) + '/' + str(filenames[i])\n",
    "        img = Image.open(image_name)\n",
    "        img_data = np.array(img)\n",
    "        ret_arr.append(img_data)\n",
    "        loop=loop+1\n",
    "  ret_arr=np.array(ret_arr)\n",
    "  #ret_arr=ret_arr/255\n",
    "  return np.array(ret_arr)"
   ]
  },
  {
   "cell_type": "code",
   "execution_count": 6,
   "metadata": {
    "collapsed": true
   },
   "outputs": [],
   "source": [
    "## Extraction of features - baseline\n",
    "def extract_baseline_video_features(vid):\n",
    "    vid_=vid.reshape(-1,cluster_length,height,width,channel)\n",
    "    f_v = sess.graph.get_tensor_by_name('flatten_1/Reshape:0')\n",
    "    f_v_val=sess.run([f_v], feed_dict={'conv1_input:0':vid_,x_image:vid_,K.learning_phase(): 0 })\n",
    "    features=np.reshape(f_v_val,(-1))\n",
    "    return features"
   ]
  },
  {
   "cell_type": "code",
   "execution_count": 7,
   "metadata": {
    "collapsed": true
   },
   "outputs": [],
   "source": [
    "def dist_angle_calc(directory1,directory2):\n",
    "    baseline_dist=[]\n",
    "    baseline_angle=[]\n",
    "    activity_dist=[]\n",
    "    activitynet_angle=[]\n",
    "    \n",
    "    subfolders1=os.listdir(directory1)\n",
    "    subfolders1=sorted(subfolders1)\n",
    "    subfolders2=os.listdir(directory2)\n",
    "    subfolders2=sorted(subfolders2)\n",
    "    \n",
    "    for subfolder1_ in subfolders1:\n",
    "        data1=get_compress_frames_data(directory1+'/'+subfolder1_)\n",
    "        \n",
    "        for subfolder2_ in subfolders2:\n",
    "            data2=get_compress_frames_data(directory2+'/'+subfolder2_)\n",
    "            \n",
    "            dist_base_=np.linalg.norm(extract_baseline_video_features(data1)-extract_baseline_video_features(data2))\n",
    "            \n",
    "            baseline_dist.append(dist_base_)\n",
    "            \n",
    "            angle_base_=angle(extract_baseline_video_features(data1),extract_baseline_video_features(data2))\n",
    "            \n",
    "            baseline_angle.append(angle_base_)\n",
    "    \n",
    "    return baseline_dist,baseline_angle"
   ]
  },
  {
   "cell_type": "code",
   "execution_count": 8,
   "metadata": {},
   "outputs": [
    {
     "name": "stdout",
     "output_type": "stream",
     "text": [
      "INFO:tensorflow:Restoring parameters from /nobackup/leopauly/logdirp100/activity_model_1.ckpt-86\n",
      "Model restored from file: /nobackup/leopauly/logdirp100\n"
     ]
    }
   ],
   "source": [
    "#### Start the session with logging placement.\n",
    "init_op = tf.global_variables_initializer()\n",
    "sess = tf.Session(config=tf.ConfigProto(allow_soft_placement=True, log_device_placement=False))\n",
    "sess.run(init_op)\n",
    "\n",
    "### Restore model weights from previously saved model\n",
    "#saver = tf.train.import_meta_graph(os.path.join(saved_path,'activity_model_1.ckpt-43.meta'))\n",
    "saver = tf.train.Saver()\n",
    "saver.restore(sess, os.path.join(saved_path,'activity_model_1.ckpt-86'))\n",
    "print(\"Model restored from file: %s\" % saved_path,flush=True)"
   ]
  },
  {
   "cell_type": "code",
   "execution_count": 9,
   "metadata": {},
   "outputs": [],
   "source": [
    "## Getting feature space distances for values for similar activity videos\n",
    "baseline_plot_sim=[]\n",
    "baseline_plot_angle_sim=[]\n",
    "activitynet_plot_sim=[]\n",
    "\n",
    "\n",
    "baseline_dist_,baseline_angle_=dist_angle_calc('/nobackup/leopauly/leeds_reordered/hit','/nobackup/leopauly/leeds_reordered/hit')\n",
    "#print(baseline_dist_)\n",
    "baseline_plot_sim.append([baseline_dist_])\n",
    "baseline_plot_angle_sim.append([baseline_angle_])\n",
    "\n",
    "baseline_dist_,baseline_angle_=dist_angle_calc('/nobackup/leopauly/leeds_reordered/push','/nobackup/leopauly/leeds_reordered/push')\n",
    "baseline_plot_sim.append([baseline_dist_])\n",
    "baseline_plot_angle_sim.append([baseline_angle_])\n",
    "\n",
    "baseline_dist_,baseline_angle_=dist_angle_calc('/nobackup/leopauly/leeds_reordered/reach','/nobackup/leopauly/leeds_reordered/reach')\n",
    "baseline_plot_sim.append([baseline_dist_])\n",
    "baseline_plot_angle_sim.append([baseline_angle_])\n",
    "\n",
    "baseline_dist_,baseline_angle_=dist_angle_calc('/nobackup/leopauly/leeds_reordered/pour','/nobackup/leopauly/leeds_reordered/pour')\n",
    "baseline_plot_sim.append([baseline_dist_])\n",
    "baseline_plot_angle_sim.append([baseline_angle_])\n"
   ]
  },
  {
   "cell_type": "code",
   "execution_count": 10,
   "metadata": {},
   "outputs": [
    {
     "name": "stdout",
     "output_type": "stream",
     "text": [
      "[   0.          214.6890564   138.8571167   204.93371582  195.28845215\n",
      "  214.6890564     0.          178.37379456  201.95092773  152.240448\n",
      "  138.8571167   178.37379456    0.          192.39793396  179.76544189\n",
      "  204.93371582  201.95092773  192.39793396    0.          149.66079712\n",
      "  195.28845215  152.240448    179.76544189  149.66079712    0.            0.\n",
      "  106.77308655  149.79588318  192.1375885   178.80818176  106.77308655\n",
      "    0.          132.45361328  191.5222168   169.97914124  149.79588318\n",
      "  132.45361328    0.          167.38540649  131.93006897  192.1375885\n",
      "  191.5222168   167.38540649    0.          139.95205688  178.80818176\n",
      "  169.97914124  131.93006897  139.95205688    0.            0.\n",
      "   99.32570648  140.04351807  138.49116516  167.89743042   99.32570648\n",
      "    0.          134.08007812  145.51939392  158.38066101  140.04351807\n",
      "  134.08007812    0.           90.63344574  128.18432617  138.49116516\n",
      "  145.51939392   90.63344574    0.          122.34399414  167.89743042\n",
      "  158.38066101  128.18432617  122.34399414    0.            0.\n",
      "  333.96124268  263.1932373   169.65684509  303.71932983  333.96124268\n",
      "    0.          225.54039001  344.30438232  312.44244385  263.1932373\n",
      "  225.54039001    0.          271.42254639  280.62390137  169.65684509\n",
      "  344.30438232  271.42254639    0.          284.49890137  303.71932983\n",
      "  312.44244385  280.62390137  284.49890137    0.        ]\n",
      "(100,)\n"
     ]
    }
   ],
   "source": [
    "baseline_plot_sim=np.array(baseline_plot_sim)\n",
    "baseline_plot_sim=baseline_plot_sim.reshape(100)\n",
    "print(baseline_plot_sim)\n",
    "print(baseline_plot_sim.shape)"
   ]
  },
  {
   "cell_type": "code",
   "execution_count": 11,
   "metadata": {},
   "outputs": [
    {
     "name": "stdout",
     "output_type": "stream",
     "text": [
      "[  0.00000000e+00   4.82141060e-01   3.05294037e-01   4.49120527e-01\n",
      "   4.39108244e-01   4.82141060e-01   1.49011612e-08   3.98623907e-01\n",
      "   4.47841933e-01   3.49271111e-01   3.05294037e-01   3.98623907e-01\n",
      "   0.00000000e+00   4.21042755e-01   4.02992919e-01   4.49120527e-01\n",
      "   4.47841933e-01   4.21042755e-01   0.00000000e+00   3.28776038e-01\n",
      "   4.39108244e-01   3.49271111e-01   4.02992919e-01   3.28776038e-01\n",
      "   0.00000000e+00   0.00000000e+00   2.18798526e-01   3.18345321e-01\n",
      "   4.10585137e-01   3.78579328e-01   2.18798526e-01   1.49011612e-08\n",
      "   2.72339961e-01   3.99427805e-01   3.52077899e-01   3.18345321e-01\n",
      "   2.72339961e-01   0.00000000e+00   3.61822801e-01   2.81266326e-01\n",
      "   4.10585137e-01   3.99427805e-01   3.61822801e-01   0.00000000e+00\n",
      "   2.98991109e-01   3.78579328e-01   3.52077899e-01   2.81266326e-01\n",
      "   2.98991109e-01   1.49011612e-08   1.49011612e-08   1.95607640e-01\n",
      "   2.75115712e-01   2.72314309e-01   3.33575981e-01   1.95607640e-01\n",
      "   1.49011612e-08   2.72470579e-01   2.96761663e-01   3.23807493e-01\n",
      "   2.75115712e-01   2.72470579e-01   0.00000000e+00   1.91704854e-01\n",
      "   2.73359004e-01   2.72314309e-01   2.96761663e-01   1.91704854e-01\n",
      "   0.00000000e+00   2.60128043e-01   3.33575981e-01   3.23807493e-01\n",
      "   2.73359004e-01   2.60128043e-01   0.00000000e+00   0.00000000e+00\n",
      "   8.81086378e-01   7.14410631e-01   4.54234738e-01   8.58462577e-01\n",
      "   8.81086378e-01   0.00000000e+00   5.92271906e-01   9.72454398e-01\n",
      "   8.60417834e-01   7.14410631e-01   5.92271906e-01   0.00000000e+00\n",
      "   7.96681862e-01   8.12852319e-01   4.54234738e-01   9.72454398e-01\n",
      "   7.96681862e-01   0.00000000e+00   8.84294393e-01   8.58462577e-01\n",
      "   8.60417834e-01   8.12852319e-01   8.84294393e-01   1.49011612e-08]\n",
      "(100,)\n"
     ]
    }
   ],
   "source": [
    "baseline_plot_angle_sim=np.array(baseline_plot_angle_sim)\n",
    "baseline_plot_angle_sim=baseline_plot_angle_sim.reshape(100)\n",
    "print(baseline_plot_angle_sim)\n",
    "print(baseline_plot_angle_sim.shape)"
   ]
  },
  {
   "cell_type": "code",
   "execution_count": 12,
   "metadata": {
    "collapsed": true
   },
   "outputs": [],
   "source": [
    "## Getting feature space distances for values for dissimilar activity videos\n",
    "baseline_plot_dis=[]\n",
    "baseline_plot_angle_dis=[]\n",
    "activitynet_plot_dis=[]\n",
    "\n",
    "\n",
    "baseline_dist_,baseline_angle_=dist_angle_calc('/nobackup/leopauly/leeds_reordered/hit','/nobackup/leopauly/leeds_reordered/push')\n",
    "#print(baseline_dist_)\n",
    "baseline_plot_dis.append([baseline_dist_])\n",
    "baseline_plot_angle_dis.append([baseline_angle_])\n",
    "\n",
    "baseline_dist_,baseline_angle_=dist_angle_calc('/nobackup/leopauly/leeds_reordered/hit','/nobackup/leopauly/leeds_reordered/reach')\n",
    "baseline_plot_dis.append([baseline_dist_])\n",
    "baseline_plot_angle_dis.append([baseline_angle_])\n",
    "\n",
    "baseline_dist_,baseline_angle_=dist_angle_calc('/nobackup/leopauly/leeds_reordered/push','/nobackup/leopauly/leeds_reordered/reach')\n",
    "baseline_plot_dis.append([baseline_dist_])\n",
    "baseline_plot_angle_dis.append([baseline_angle_])\n",
    "\n",
    "baseline_dist_,baseline_angle_=dist_angle_calc('/nobackup/leopauly/leeds_reordered/pour','/nobackup/leopauly/leeds_reordered/reach')\n",
    "baseline_plot_dis.append([baseline_dist_])\n",
    "baseline_plot_angle_dis.append([baseline_angle_])\n",
    "\n",
    "baseline_dist_,baseline_angle_=dist_angle_calc('/nobackup/leopauly/leeds_reordered/pour','/nobackup/leopauly/leeds_reordered/hit')\n",
    "baseline_plot_dis.append([baseline_dist_])\n",
    "baseline_plot_angle_dis.append([baseline_angle_])\n",
    "\n",
    "baseline_dist_,baseline_angle_=dist_angle_calc('/nobackup/leopauly/leeds_reordered/pour','/nobackup/leopauly/leeds_reordered/push')\n",
    "baseline_plot_dis.append([baseline_dist_])\n",
    "baseline_plot_angle_dis.append([baseline_angle_])"
   ]
  },
  {
   "cell_type": "code",
   "execution_count": 13,
   "metadata": {},
   "outputs": [
    {
     "name": "stdout",
     "output_type": "stream",
     "text": [
      "[ 235.09512329  253.25396729  256.17807007  213.30937195  239.80848694\n",
      "  198.16447449  213.56880188  202.61155701  145.3336792   172.99676514\n",
      "  211.15078735  218.63818359  219.6550293   152.05664062  198.60197449\n",
      "  175.99308777  187.67308044  197.65058899  209.83078003  203.5821228\n",
      "  144.56634521  170.58763123  161.4677887   174.98704529  178.8589325\n",
      "  260.53509521  256.88546753  222.51992798  245.38835144  234.1288147\n",
      "  277.16210938  283.02526855  240.55967712  240.77555847  222.06790161\n",
      "  266.28707886  271.93768311  225.05097961  238.1910553   224.37658691\n",
      "  207.94374084  226.31614685  182.02940369  182.78935242  173.81478882\n",
      "  231.07318115  237.44631958  194.92466736  187.4699707   167.28753662\n",
      "  211.82917786  212.1496582   184.8841095   171.71505737  132.10461426\n",
      "  193.2162323   208.95599365  185.70881653  164.11950684  156.38444519\n",
      "  248.04814148  254.19186401  225.04995728  204.01976013  190.777771\n",
      "  288.05889893  294.27835083  248.68716431  246.64547729  233.02153015\n",
      "  249.46083069  254.48390198  220.54421997  211.32063293  196.14321899\n",
      "  338.29656982  343.61029053  307.02044678  310.07434082  322.24078369\n",
      "  424.01040649  419.88739014  393.87176514  388.03128052  393.71932983\n",
      "  391.95806885  388.26864624  355.38928223  349.07110596  356.61740112\n",
      "  342.07531738  340.80169678  310.05960083  311.62142944  315.11791992\n",
      "  438.68356323  432.87231445  402.35171509  402.95449829  403.44906616\n",
      "  312.18109131  301.18399048  307.22479248  301.30245972  285.78890991\n",
      "  409.4977417   386.43551636  410.73648071  392.63552856  375.30551147\n",
      "  370.57867432  347.26885986  366.46786499  353.67120361  331.01400757\n",
      "  306.69909668  298.09353638  300.24917603  302.85095215  282.30612183\n",
      "  387.15774536  377.19143677  393.36645508  394.39544678  370.00485229\n",
      "  338.47003174  337.84759521  322.40939331  327.53829956  328.43902588\n",
      "  407.95108032  414.41921997  398.07778931  407.15621948  404.69439697\n",
      "  370.05026245  370.99731445  342.51672363  358.85244751  355.2071228\n",
      "  327.44534302  328.34197998  305.50097656  315.04302979  311.66192627\n",
      "  411.33450317  422.47979736  403.6239624   404.77890015  411.2802124 ]\n",
      "(150,)\n"
     ]
    }
   ],
   "source": [
    "baseline_plot_dis=np.array(baseline_plot_dis)\n",
    "baseline_plot_dis=baseline_plot_dis.reshape(150)\n",
    "print(baseline_plot_dis)\n",
    "print(baseline_plot_dis.shape)"
   ]
  },
  {
   "cell_type": "code",
   "execution_count": 14,
   "metadata": {},
   "outputs": [
    {
     "name": "stdout",
     "output_type": "stream",
     "text": [
      "[ 0.50762776  0.5357912   0.56229203  0.46750261  0.52035992  0.42851337\n",
      "  0.4493115   0.44715743  0.31861475  0.37397882  0.45443788  0.45947163\n",
      "  0.48011421  0.33145123  0.42877245  0.3756351   0.3911782   0.42843918\n",
      "  0.45649266  0.4375356   0.30530276  0.34976038  0.35359152  0.38653573\n",
      "  0.38724413  0.53408708  0.53854801  0.48258128  0.53225871  0.51179609\n",
      "  0.57307348  0.60109761  0.52873712  0.52763317  0.49055446  0.54665882\n",
      "  0.57168205  0.48806721  0.51604634  0.48981824  0.41927783  0.470207\n",
      "  0.39101175  0.39169527  0.37549758  0.46744162  0.49742295  0.42510218\n",
      "  0.40633503  0.36585917  0.42697308  0.43696158  0.39200489  0.36311467\n",
      "  0.28009683  0.38608669  0.42548267  0.3856207   0.339575    0.32367488\n",
      "  0.50542989  0.52987303  0.48399546  0.4369662   0.41146925  0.59253596\n",
      "  0.61824625  0.53727092  0.5315529   0.50560286  0.50699644  0.52801496\n",
      "  0.47056757  0.44966793  0.4197127   0.72397453  0.76003673  0.7046807\n",
      "  0.70988049  0.75205947  0.94057363  0.95173906  0.92397295  0.90592113\n",
      "  0.93114225  0.86925571  0.88396239  0.83918402  0.81865968  0.85116724\n",
      "  0.72049523  0.74800875  0.71078704  0.71153103  0.73742892  1.01272338\n",
      "  1.02474891  0.98787608  0.98582556  1.00165847  0.74230614  0.73582512\n",
      "  0.72871583  0.70346007  0.70216478  0.99043719  0.95236336  0.99319359\n",
      "  0.93470729  0.92996324  0.90942573  0.87110108  0.89728831  0.8503145\n",
      "  0.83420101  0.736004    0.74328804  0.71531801  0.70886192  0.70565541\n",
      "  0.97599086  0.97842779  0.99398923  0.9832378   0.96724291  0.78067802\n",
      "  0.75478897  0.75452593  0.77154435  0.75915003  0.95450723  0.94722363\n",
      "  0.94468541  0.97237235  0.95078354  0.87228037  0.84758622  0.81463914\n",
      "  0.86367703  0.83685207  0.75522494  0.72330689  0.7106841   0.74524994\n",
      "  0.71339224  1.00607842  1.00671839  1.00501438  1.01342778  1.01253213]\n",
      "(150,)\n"
     ]
    }
   ],
   "source": [
    "baseline_plot_angle_dis=np.array(baseline_plot_angle_dis)\n",
    "baseline_plot_angle_dis=baseline_plot_angle_dis.reshape(150)\n",
    "print(baseline_plot_angle_dis)\n",
    "print(baseline_plot_angle_dis.shape)"
   ]
  },
  {
   "cell_type": "code",
   "execution_count": 15,
   "metadata": {},
   "outputs": [
    {
     "data": {
      "image/png": "[encoded data removed]",
      "text/plain": [
       "<matplotlib.figure.Figure at 0x2b52e1607b70>"
      ]
     },
     "metadata": {},
     "output_type": "display_data"
    }
   ],
   "source": [
    "## Plotting\n",
    "plt.plot(baseline_plot_sim,'ro')\n",
    "plt.plot(baseline_plot_dis,'x')\n",
    "plt.ylabel('Distance')\n",
    "plt.show()"
   ]
  },
  {
   "cell_type": "code",
   "execution_count": 16,
   "metadata": {},
   "outputs": [
    {
     "data": {
      "image/png": "[encoded data removed]",
      "text/plain": [
       "<matplotlib.figure.Figure at 0x2b52f669aa58>"
      ]
     },
     "metadata": {},
     "output_type": "display_data"
    }
   ],
   "source": [
    "## Plotting\n",
    "plt.plot(baseline_plot_angle_sim,'ro')\n",
    "plt.plot(baseline_plot_angle_dis,'x')\n",
    "plt.ylabel('angle')\n",
    "plt.show()"
   ]
  }
 ],
 "metadata": {
  "kernelspec": {
   "display_name": "Python 3",
   "language": "python",
   "name": "python3"
  },
  "language_info": {
   "codemirror_mode": {
    "name": "ipython",
    "version": 3
   },
   "file_extension": ".py",
   "mimetype": "text/x-python",
   "name": "python",
   "nbconvert_exporter": "python",
   "pygments_lexer": "ipython3",
   "version": "3.6.1"
  }
 },
 "nbformat": 4,
 "nbformat_minor": 2
}
