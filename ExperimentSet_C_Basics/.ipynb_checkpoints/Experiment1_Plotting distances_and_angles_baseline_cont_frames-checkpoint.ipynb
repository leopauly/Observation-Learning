{
 "cells": [
  {
   "cell_type": "markdown",
   "metadata": {},
   "source": [
    "### Experiment1_Plotting distances and angles\n",
    "Author : @leopauly | cnlp@leeds.ac.uk <br>\n",
    "Description : Studying the feature vectors in the feature space"
   ]
  },
  {
   "cell_type": "code",
   "execution_count": 1,
   "metadata": {},
   "outputs": [
    {
     "name": "stderr",
     "output_type": "stream",
     "text": [
      "Using TensorFlow backend.\n"
     ]
    }
   ],
   "source": [
    "import os\n",
    "from six.moves import xrange  # pylint: disable=redefined-builtin\n",
    "import PIL.Image as Image\n",
    "import random\n",
    "import numpy as np\n",
    "import cv2\n",
    "import time\n",
    "import math\n",
    "import matplotlib.pyplot as plt\n",
    "from keras.applications.vgg16 import preprocess_input\n",
    "\n",
    "# Custom scripts\n",
    "import lscript as lsp\n",
    "import modelling as md"
   ]
  },
  {
   "cell_type": "code",
   "execution_count": 2,
   "metadata": {
    "collapsed": true
   },
   "outputs": [],
   "source": [
    "height=112 \n",
    "width=112 \n",
    "channel=3\n",
    "crop_size=112\n",
    "\n",
    "cluster_length=16\n",
    "feature_size=4608 #8192   #16384  #487\n",
    "nb_classes=2\n",
    "\n",
    "batch_size=32\n",
    "memory_batch_size_train=266\n",
    "memory_batch_size_test=170\n",
    "next_batch_start=0\n",
    "sample_batch_size=10\n",
    "mean=[123.68, 116.779, 103.939] "
   ]
  },
  {
   "cell_type": "code",
   "execution_count": 3,
   "metadata": {},
   "outputs": [
    {
     "name": "stdout",
     "output_type": "stream",
     "text": [
      "_________________________________________________________________\n",
      "Layer (type)                 Output Shape              Param #   \n",
      "=================================================================\n",
      "input_1 (InputLayer)         (None, None, None, 3)     0         \n",
      "_________________________________________________________________\n",
      "block1_conv1 (Conv2D)        (None, None, None, 64)    1792      \n",
      "_________________________________________________________________\n",
      "block1_conv2 (Conv2D)        (None, None, None, 64)    36928     \n",
      "_________________________________________________________________\n",
      "block1_pool (MaxPooling2D)   (None, None, None, 64)    0         \n",
      "_________________________________________________________________\n",
      "block2_conv1 (Conv2D)        (None, None, None, 128)   73856     \n",
      "_________________________________________________________________\n",
      "block2_conv2 (Conv2D)        (None, None, None, 128)   147584    \n",
      "_________________________________________________________________\n",
      "block2_pool (MaxPooling2D)   (None, None, None, 128)   0         \n",
      "_________________________________________________________________\n",
      "block3_conv1 (Conv2D)        (None, None, None, 256)   295168    \n",
      "_________________________________________________________________\n",
      "block3_conv2 (Conv2D)        (None, None, None, 256)   590080    \n",
      "_________________________________________________________________\n",
      "block3_conv3 (Conv2D)        (None, None, None, 256)   590080    \n",
      "_________________________________________________________________\n",
      "block3_pool (MaxPooling2D)   (None, None, None, 256)   0         \n",
      "_________________________________________________________________\n",
      "block4_conv1 (Conv2D)        (None, None, None, 512)   1180160   \n",
      "_________________________________________________________________\n",
      "block4_conv2 (Conv2D)        (None, None, None, 512)   2359808   \n",
      "_________________________________________________________________\n",
      "block4_conv3 (Conv2D)        (None, None, None, 512)   2359808   \n",
      "_________________________________________________________________\n",
      "block4_pool (MaxPooling2D)   (None, None, None, 512)   0         \n",
      "_________________________________________________________________\n",
      "block5_conv1 (Conv2D)        (None, None, None, 512)   2359808   \n",
      "_________________________________________________________________\n",
      "block5_conv2 (Conv2D)        (None, None, None, 512)   2359808   \n",
      "_________________________________________________________________\n",
      "block5_conv3 (Conv2D)        (None, None, None, 512)   2359808   \n",
      "_________________________________________________________________\n",
      "block5_pool (MaxPooling2D)   (None, None, None, 512)   0         \n",
      "=================================================================\n",
      "Total params: 14,714,688\n",
      "Trainable params: 14,714,688\n",
      "Non-trainable params: 0\n",
      "_________________________________________________________________\n",
      "None\n"
     ]
    }
   ],
   "source": [
    "base_model=md.get_vgg16_imagenet(summary=True,include_fc=False)"
   ]
  },
  {
   "cell_type": "code",
   "execution_count": 4,
   "metadata": {
    "collapsed": true
   },
   "outputs": [],
   "source": [
    "def dotproduct(v1, v2):\n",
    "  return sum((a*b) for a, b in zip(v1, v2))\n",
    "\n",
    "def length(v):\n",
    "  return math.sqrt(dotproduct(v, v))\n",
    "\n",
    "def angle(v1, v2):\n",
    "    cos_val=dotproduct(v1, v2) / (length(v1) * length(v2))\n",
    "    cos_val=float(cos_val)\n",
    "    cos_val=clean_cos(cos_val)\n",
    "    angle_in_rad=math.acos(cos_val)\n",
    "    #print(angle_in_rad)\n",
    "    return angle_in_rad\n",
    "\n",
    "def clean_cos(cos_val):\n",
    "    return min(1,max(cos_val,-1))"
   ]
  },
  {
   "cell_type": "code",
   "execution_count": 5,
   "metadata": {
    "collapsed": true
   },
   "outputs": [],
   "source": [
    "def get_compress_frames_data(filename, num_frames_per_clip=16):\n",
    "  ''' Given a directory containing extracted frames, return a video clip of\n",
    "  (num_frames_per_clip) consecutive frames as a list of np arrays '''\n",
    "  ret_arr = []\n",
    "  for parent, dirnames, filenames in os.walk(filename):\n",
    "\n",
    "    filenames = sorted(filenames)\n",
    "    jump=math.floor((len(filenames)/num_frames_per_clip))\n",
    "    loop=0\n",
    "    for i in range(0,len(filenames),jump):\n",
    "      if (loop>15):\n",
    "        break\n",
    "      if (filenames[i].endswith('.png')):\n",
    "        image_name = str(filename) + '/' + str(filenames[i])\n",
    "        img = Image.open(image_name)\n",
    "        img_data = np.array(img)\n",
    "        ret_arr.append(img_data)\n",
    "        loop=loop+1\n",
    "  ret_arr=np.array(ret_arr)\n",
    "  #ret_arr=ret_arr/255\n",
    "  return np.array(ret_arr)"
   ]
  },
  {
   "cell_type": "code",
   "execution_count": 6,
   "metadata": {
    "collapsed": true
   },
   "outputs": [],
   "source": [
    "## Extraction of features - baseline\n",
    "def extract_baseline_video_features(vid):\n",
    "    \n",
    "    sum_val=0\n",
    "    for i in range(cluster_length):\n",
    "        frame_=vid[i]\n",
    "        \n",
    "        #frame_=frame_.reshape(-1,height,width,channel)\n",
    "        #frame= preprocess_input(frame_) # prepare the image for the VGG model\n",
    "        \n",
    "        frame=preprocess(frame_,mean)\n",
    "        frame=frame.reshape(-1,height,width,channel)\n",
    "        \n",
    "        temp_val=base_model.predict(frame)\n",
    "        temp_val=temp_val.reshape(feature_size)\n",
    "        #print('temp_val',temp_val.shape)\n",
    "        sum_val=sum_val+temp_val\n",
    "        #print('sum_val',sum_val.shape)\n",
    "    features=sum_val/cluster_length\n",
    "    #print('feature from one video.shape',features.shape)\n",
    "    return features"
   ]
  },
  {
   "cell_type": "code",
   "execution_count": 7,
   "metadata": {
    "collapsed": true
   },
   "outputs": [],
   "source": [
    "def preprocess(im,mean):\n",
    "        im = np.float32(im)\n",
    "        im[:,:,2] -= 103.939\n",
    "        im[:,:,1] -= 116.779\n",
    "        im[:,:,0] -= 123.68\n",
    "        im = im[:, :, ::-1]  # change to BGR\n",
    "        return im"
   ]
  },
  {
   "cell_type": "code",
   "execution_count": 8,
   "metadata": {
    "collapsed": true
   },
   "outputs": [],
   "source": [
    "def dist_angle_calc(directory1,directory2):\n",
    "    baseline_dist=[]\n",
    "    baseline_angle=[]\n",
    "    activity_dist=[]\n",
    "    activitynet_angle=[]\n",
    "    \n",
    "    subfolders1=os.listdir(directory1)\n",
    "    subfolders1=sorted(subfolders1)\n",
    "    subfolders2=os.listdir(directory2)\n",
    "    subfolders2=sorted(subfolders2)\n",
    "    \n",
    "    for subfolder1_ in subfolders1:\n",
    "        data1=get_compress_frames_data(directory1+'/'+subfolder1_)\n",
    "        \n",
    "        for subfolder2_ in subfolders2:\n",
    "            data2=get_compress_frames_data(directory2+'/'+subfolder2_)\n",
    "            \n",
    "            dist_base_=np.linalg.norm(extract_baseline_video_features(data1)-extract_baseline_video_features(data2))\n",
    "            #dist_act_=activity_model(data1)-activity_model(data2)\n",
    "            \n",
    "            baseline_dist.append(dist_base_)\n",
    "            #activity_dist.append(dist_act_)\n",
    "            \n",
    "            angle_base_=angle(extract_baseline_video_features(data1),extract_baseline_video_features(data2))\n",
    "            #angle_act_=activity_model(data1)-activity_model(data2)\n",
    "            \n",
    "            baseline_angle.append(angle_base_)\n",
    "            #activity_angle.append(dist_angle_)\n",
    "    \n",
    "    return baseline_dist,baseline_angle#,activitynet_dist"
   ]
  },
  {
   "cell_type": "code",
   "execution_count": 9,
   "metadata": {},
   "outputs": [],
   "source": [
    "## Getting feature space distances for values for similar activity videos\n",
    "baseline_plot_sim=[]\n",
    "baseline_plot_angle_sim=[]\n",
    "activitynet_plot_sim=[]\n",
    "\n",
    "\n",
    "baseline_dist_,baseline_angle_=dist_angle_calc('/nobackup/leopauly/leeds_reordered/hit','/nobackup/leopauly/leeds_reordered/hit')\n",
    "#print(baseline_dist_)\n",
    "baseline_plot_sim.append([baseline_dist_])\n",
    "baseline_plot_angle_sim.append([baseline_angle_])\n",
    "\n",
    "baseline_dist_,baseline_angle_=dist_angle_calc('/nobackup/leopauly/leeds_reordered/push','/nobackup/leopauly/leeds_reordered/push')\n",
    "baseline_plot_sim.append([baseline_dist_])\n",
    "baseline_plot_angle_sim.append([baseline_angle_])\n",
    "\n",
    "baseline_dist_,baseline_angle_=dist_angle_calc('/nobackup/leopauly/leeds_reordered/reach','/nobackup/leopauly/leeds_reordered/reach')\n",
    "baseline_plot_sim.append([baseline_dist_])\n",
    "baseline_plot_angle_sim.append([baseline_angle_])\n",
    "\n",
    "baseline_dist_,baseline_angle_=dist_angle_calc('/nobackup/leopauly/leeds_reordered/pour','/nobackup/leopauly/leeds_reordered/pour')\n",
    "baseline_plot_sim.append([baseline_dist_])\n",
    "baseline_plot_angle_sim.append([baseline_angle_])\n"
   ]
  },
  {
   "cell_type": "code",
   "execution_count": 10,
   "metadata": {},
   "outputs": [
    {
     "name": "stdout",
     "output_type": "stream",
     "text": [
      "[   0.          637.78582764  543.45587158  592.88702393  587.01812744\n",
      "  637.78582764    0.          621.62237549  678.21099854  535.38323975\n",
      "  543.45587158  621.62237549    0.          537.20367432  628.75976562\n",
      "  592.88702393  678.21099854  537.20367432    0.          558.30682373\n",
      "  587.01812744  535.38323975  628.75976562  558.30682373    0.            0.\n",
      "  381.4850769   496.70892334  542.706604    494.20098877  381.4850769     0.\n",
      "  455.20739746  467.72802734  522.35308838  496.70892334  455.20739746\n",
      "    0.          406.61410522  348.80639648  542.706604    467.72802734\n",
      "  406.61410522    0.          420.36779785  494.20098877  522.35308838\n",
      "  348.80639648  420.36779785    0.            0.          195.20582581\n",
      "  580.13421631  534.48419189  481.86697388  195.20582581    0.\n",
      "  602.97833252  575.16784668  537.32507324  580.13421631  602.97833252\n",
      "    0.          250.13162231  510.70056152  534.48419189  575.16784668\n",
      "  250.13162231    0.          476.49639893  481.86697388  537.32507324\n",
      "  510.70056152  476.49639893    0.            0.          653.17132568\n",
      "  612.10351562  555.19085693  691.0189209   653.17132568    0.          433.7220459\n",
      "  576.95635986  587.5657959   612.10351562  433.7220459     0.\n",
      "  411.95324707  522.02801514  555.19085693  576.95635986  411.95324707\n",
      "    0.          580.421875    691.0189209   587.5657959   522.02801514\n",
      "  580.421875      0.        ]\n",
      "(100,)\n"
     ]
    }
   ],
   "source": [
    "baseline_plot_sim=np.array(baseline_plot_sim)\n",
    "baseline_plot_sim=baseline_plot_sim.reshape(100)\n",
    "print(baseline_plot_sim)\n",
    "print(baseline_plot_sim.shape)"
   ]
  },
  {
   "cell_type": "code",
   "execution_count": 11,
   "metadata": {},
   "outputs": [
    {
     "name": "stdout",
     "output_type": "stream",
     "text": [
      "[  0.00000000e+00   6.75423325e-01   5.80979061e-01   6.38385244e-01\n",
      "   6.31430102e-01   6.75423325e-01   0.00000000e+00   6.67208937e-01\n",
      "   7.34021235e-01   5.73460925e-01   5.80979061e-01   6.67208937e-01\n",
      "   0.00000000e+00   5.86742970e-01   6.90087801e-01   6.38385244e-01\n",
      "   7.34021235e-01   5.86742970e-01   0.00000000e+00   6.13214319e-01\n",
      "   6.31430102e-01   5.73460925e-01   6.90087801e-01   6.13214319e-01\n",
      "   0.00000000e+00   0.00000000e+00   4.95502693e-01   6.30054448e-01\n",
      "   6.58735778e-01   6.41444079e-01   4.95502693e-01   0.00000000e+00\n",
      "   5.58996256e-01   5.52504933e-01   6.54258700e-01   6.30054448e-01\n",
      "   5.58996256e-01   0.00000000e+00   4.72163178e-01   4.21668970e-01\n",
      "   6.58735778e-01   5.52504933e-01   4.72163178e-01   0.00000000e+00\n",
      "   4.91480601e-01   6.41444079e-01   6.54258700e-01   4.21668970e-01\n",
      "   4.91480601e-01   0.00000000e+00   0.00000000e+00   2.44582021e-01\n",
      "   7.34200604e-01   6.69136704e-01   6.68493664e-01   2.44582021e-01\n",
      "   0.00000000e+00   7.49641257e-01   7.10128628e-01   7.20450880e-01\n",
      "   7.34200604e-01   7.49641257e-01   0.00000000e+00   2.97343635e-01\n",
      "   6.51655048e-01   6.69136704e-01   7.10128628e-01   2.97343635e-01\n",
      "   0.00000000e+00   5.97334542e-01   6.68493664e-01   7.20450880e-01\n",
      "   6.51655048e-01   5.97334542e-01   0.00000000e+00   0.00000000e+00\n",
      "   9.96936388e-01   9.75176524e-01   8.61085381e-01   1.08588019e+00\n",
      "   9.96936388e-01   0.00000000e+00   7.66598206e-01   1.05934850e+00\n",
      "   1.01778327e+00   9.75176524e-01   7.66598206e-01   1.49011612e-08\n",
      "   8.42536365e-01   9.91618575e-01   8.61085381e-01   1.05934850e+00\n",
      "   8.42536365e-01   0.00000000e+00   1.11561434e+00   1.08588019e+00\n",
      "   1.01778327e+00   9.91618575e-01   1.11561434e+00   2.10734243e-08]\n",
      "(100,)\n"
     ]
    }
   ],
   "source": [
    "baseline_plot_angle_sim=np.array(baseline_plot_angle_sim)\n",
    "baseline_plot_angle_sim=baseline_plot_angle_sim.reshape(100)\n",
    "print(baseline_plot_angle_sim)\n",
    "print(baseline_plot_angle_sim.shape)"
   ]
  },
  {
   "cell_type": "code",
   "execution_count": 12,
   "metadata": {},
   "outputs": [],
   "source": [
    "## Getting feature space distances for values for dissimilar activity videos\n",
    "baseline_plot_dis=[]\n",
    "baseline_plot_angle_dis=[]\n",
    "activitynet_plot_dis=[]\n",
    "\n",
    "\n",
    "baseline_dist_,baseline_angle_=dist_angle_calc('/nobackup/leopauly/leeds_reordered/hit','/nobackup/leopauly/leeds_reordered/push')\n",
    "#print(baseline_dist_)\n",
    "baseline_plot_dis.append([baseline_dist_])\n",
    "baseline_plot_angle_dis.append([baseline_angle_])\n",
    "\n",
    "baseline_dist_,baseline_angle_=dist_angle_calc('/nobackup/leopauly/leeds_reordered/hit','/nobackup/leopauly/leeds_reordered/reach')\n",
    "baseline_plot_dis.append([baseline_dist_])\n",
    "baseline_plot_angle_dis.append([baseline_angle_])\n",
    "\n",
    "baseline_dist_,baseline_angle_=dist_angle_calc('/nobackup/leopauly/leeds_reordered/push','/nobackup/leopauly/leeds_reordered/reach')\n",
    "baseline_plot_dis.append([baseline_dist_])\n",
    "baseline_plot_angle_dis.append([baseline_angle_])\n",
    "\n",
    "baseline_dist_,baseline_angle_=dist_angle_calc('/nobackup/leopauly/leeds_reordered/pour','/nobackup/leopauly/leeds_reordered/reach')\n",
    "baseline_plot_dis.append([baseline_dist_])\n",
    "baseline_plot_angle_dis.append([baseline_angle_])\n",
    "\n",
    "baseline_dist_,baseline_angle_=dist_angle_calc('/nobackup/leopauly/leeds_reordered/pour','/nobackup/leopauly/leeds_reordered/hit')\n",
    "baseline_plot_dis.append([baseline_dist_])\n",
    "baseline_plot_angle_dis.append([baseline_angle_])\n",
    "\n",
    "baseline_dist_,baseline_angle_=dist_angle_calc('/nobackup/leopauly/leeds_reordered/pour','/nobackup/leopauly/leeds_reordered/push')\n",
    "baseline_plot_dis.append([baseline_dist_])\n",
    "baseline_plot_angle_dis.append([baseline_angle_])"
   ]
  },
  {
   "cell_type": "code",
   "execution_count": 13,
   "metadata": {},
   "outputs": [
    {
     "name": "stdout",
     "output_type": "stream",
     "text": [
      "[  686.44921875   664.56994629   685.40618896   597.86151123   686.90783691\n",
      "   715.42468262   754.35211182   740.55340576   695.82696533   715.82440186\n",
      "   573.31719971   506.77145386   507.66305542   364.96469116   523.82623291\n",
      "   612.66674805   550.14599609   623.30828857   597.06134033   659.89074707\n",
      "   644.99066162   643.20129395   622.15472412   656.33227539   659.43804932\n",
      "   630.21826172   655.84570312   720.15789795   701.76312256   733.16558838\n",
      "   702.98388672   720.85803223   786.39880371   772.50091553   763.94885254\n",
      "   658.95617676   681.17852783   675.2543335    671.81451416   698.29290771\n",
      "   577.13031006   605.52050781   596.4473877    576.9107666    599.91943359\n",
      "   596.6262207    645.46453857   727.18328857   694.43133545   711.45501709\n",
      "   447.2074585    478.47164917   620.30480957   597.46246338   480.78967285\n",
      "   520.45068359   546.69580078   566.82678223   553.70318604   544.5057373\n",
      "   621.66333008   672.60571289   650.43676758   632.30212402   630.20166016\n",
      "   658.98120117   691.12609863   634.1729126    642.5145874    673.24212646\n",
      "   606.46343994   656.44793701   691.67541504   668.7833252    608.74969482\n",
      "   894.48223877   923.0614624    945.06298828   947.86785889   895.2276001\n",
      "   875.0925293    911.86340332   942.22747803   937.98272705   850.91461182\n",
      "   820.05053711   858.29858398   880.18951416   877.77093506   771.07275391\n",
      "   831.97003174   869.96331787   891.3168335    888.78991699   778.48187256\n",
      "   867.05541992   905.84442139   955.44165039   948.50238037   842.85528564\n",
      "  1033.7557373    995.12097168  1015.83190918   989.47436523   997.63574219\n",
      "  1014.25286865  1034.69140625  1031.27099609  1003.98443604   996.65014648\n",
      "   993.60076904   992.51629639   988.05426025   963.65826416   958.10919189\n",
      "  1012.94610596  1009.62823486  1000.91766357   976.88867188   983.31072998\n",
      "  1027.92419434  1021.57025146  1028.2623291   1007.22332764  1012.36773682\n",
      "   887.28894043   928.23937988   969.99432373   979.93811035   972.47930908\n",
      "   860.41558838   923.92388916   957.03808594  1004.63995361   948.76263428\n",
      "   800.29943848   872.94793701   902.36047363   952.06396484   888.9609375\n",
      "   803.89880371   876.39752197   910.94256592   954.97924805   894.4921875\n",
      "   849.13446045   922.86755371   953.50183105   994.3538208    931.16870117]\n",
      "(150,)\n"
     ]
    }
   ],
   "source": [
    "baseline_plot_dis=np.array(baseline_plot_dis)\n",
    "baseline_plot_dis=baseline_plot_dis.reshape(150)\n",
    "print(baseline_plot_dis)\n",
    "print(baseline_plot_dis.shape)"
   ]
  },
  {
   "cell_type": "code",
   "execution_count": 14,
   "metadata": {},
   "outputs": [
    {
     "name": "stdout",
     "output_type": "stream",
     "text": [
      "[ 0.79377254  0.75204167  0.7687395   0.65390139  0.77563794  0.83356715\n",
      "  0.86511456  0.83534749  0.76709059  0.8106458   0.66036339  0.57360705\n",
      "  0.57110691  0.40061415  0.59306235  0.72449947  0.63355386  0.71560174\n",
      "  0.67079441  0.76653427  0.76909527  0.7500197   0.71341535  0.74003072\n",
      "  0.76510109  0.71321643  0.74091442  0.81146649  0.78720244  0.86196793\n",
      "  0.80802308  0.82212301  0.89245111  0.87297804  0.90523672  0.77368528\n",
      "  0.79295131  0.77423148  0.76809826  0.8397576   0.6725963   0.703045\n",
      "  0.68311008  0.65797775  0.70631843  0.69722125  0.7527057   0.8433674\n",
      "  0.80043307  0.86636526  0.61453041  0.63279989  0.8075418   0.76968474\n",
      "  0.70163276  0.67636154  0.69496696  0.70276681  0.68261664  0.73155305\n",
      "  0.78999061  0.84118448  0.79359445  0.76738034  0.82482651  0.80911843\n",
      "  0.83731339  0.74995525  0.75802983  0.84779099  0.78208486  0.8312131\n",
      "  0.85745279  0.82390287  0.81001256  1.28403908  1.28837188  1.28337576\n",
      "  1.28140278  1.3588186   1.3580016   1.3707769   1.37388861  1.3576839\n",
      "  1.40636881  1.3589623   1.37019167  1.34985699  1.3340958   1.37087557\n",
      "  1.38300092  1.39354524  1.37184427  1.35578661  1.38517186  1.37809327\n",
      "  1.3932244   1.43204893  1.40917943  1.43294542  1.28927072  1.22918586\n",
      "  1.29364327  1.26297529  1.27403258  1.33320947  1.36717875  1.40426892\n",
      "  1.36823254  1.35319973  1.37262566  1.36780095  1.41316026  1.37791051\n",
      "  1.3637154   1.4117543   1.40217876  1.43886088  1.40426039  1.41539928\n",
      "  1.3830779   1.36911547  1.42819779  1.40239671  1.41000264  1.33118249\n",
      "  1.29767792  1.32268046  1.28932137  1.34882397  1.40790213  1.39448852\n",
      "  1.40008324  1.42370648  1.41289467  1.41521802  1.4035286   1.39596928\n",
      "  1.42193487  1.40255263  1.42087542  1.40897662  1.41259723  1.4263044\n",
      "  1.41256639  1.42701462  1.42800968  1.42689964  1.43656257  1.41365301]\n",
      "(150,)\n"
     ]
    }
   ],
   "source": [
    "baseline_plot_angle_dis=np.array(baseline_plot_angle_dis)\n",
    "baseline_plot_angle_dis=baseline_plot_angle_dis.reshape(150)\n",
    "print(baseline_plot_angle_dis)\n",
    "print(baseline_plot_angle_dis.shape)"
   ]
  },
  {
   "cell_type": "code",
   "execution_count": 15,
   "metadata": {},
   "outputs": [
    {
     "data": {
      "image/png": "[encoded data removed]",
      "text/plain": [
       "<matplotlib.figure.Figure at 0x2b2054682978>"
      ]
     },
     "metadata": {},
     "output_type": "display_data"
    }
   ],
   "source": [
    "## Plotting\n",
    "plt.plot(baseline_plot_sim,'ro')\n",
    "plt.plot(baseline_plot_dis,'x')\n",
    "plt.ylabel('Distance')\n",
    "plt.show()"
   ]
  },
  {
   "cell_type": "code",
   "execution_count": 16,
   "metadata": {},
   "outputs": [
    {
     "data": {
      "image/png": "[encoded data removed]",
      "text/plain": [
       "<matplotlib.figure.Figure at 0x2b205153f048>"
      ]
     },
     "metadata": {},
     "output_type": "display_data"
    }
   ],
   "source": [
    "## Plotting\n",
    "plt.plot(baseline_plot_angle_sim,'ro')\n",
    "plt.plot(baseline_plot_angle_dis,'x')\n",
    "plt.ylabel('angle')\n",
    "plt.show()"
   ]
  },
  {
   "cell_type": "code",
   "execution_count": null,
   "metadata": {
    "collapsed": true
   },
   "outputs": [],
   "source": []
  }
 ],
 "metadata": {
  "kernelspec": {
   "display_name": "Python 3",
   "language": "python",
   "name": "python3"
  },
  "language_info": {
   "codemirror_mode": {
    "name": "ipython",
    "version": 3
   },
   "file_extension": ".py",
   "mimetype": "text/x-python",
   "name": "python",
   "nbconvert_exporter": "python",
   "pygments_lexer": "ipython3",
   "version": "3.6.1"
  }
 },
 "nbformat": 4,
 "nbformat_minor": 2
}
