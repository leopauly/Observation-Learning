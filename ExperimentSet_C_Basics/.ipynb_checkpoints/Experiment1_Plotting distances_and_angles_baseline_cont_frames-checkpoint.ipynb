{
 "cells": [
  {
   "cell_type": "markdown",
   "metadata": {},
   "source": [
    "### Experiment1_Plotting distances and angles\n",
    "Author : @leopauly | cnlp@leeds.ac.uk <br>\n",
    "Description : Studying the feature vectors in the feature space"
   ]
  },
  {
   "cell_type": "code",
   "execution_count": 1,
   "metadata": {},
   "outputs": [
    {
     "name": "stderr",
     "output_type": "stream",
     "text": [
      "Using TensorFlow backend.\n"
     ]
    }
   ],
   "source": [
    "import os\n",
    "from six.moves import xrange  # pylint: disable=redefined-builtin\n",
    "import PIL.Image as Image\n",
    "import random\n",
    "import numpy as np\n",
    "import cv2\n",
    "import time\n",
    "import math\n",
    "import matplotlib.pyplot as plt\n",
    "from keras.applications.vgg16 import preprocess_input\n",
    "\n",
    "# Custom scripts\n",
    "import lscript as lsp\n",
    "import modelling as md"
   ]
  },
  {
   "cell_type": "code",
   "execution_count": 2,
   "metadata": {
    "collapsed": true
   },
   "outputs": [],
   "source": [
    "height=112 \n",
    "width=112 \n",
    "channel=3\n",
    "crop_size=112\n",
    "\n",
    "cluster_length=16\n",
    "feature_size=4608 #8192   #16384  #487\n",
    "nb_classes=2\n",
    "\n",
    "batch_size=32\n",
    "memory_batch_size_train=266\n",
    "memory_batch_size_test=170\n",
    "next_batch_start=0\n",
    "sample_batch_size=10\n",
    "mean=[123.68, 116.779, 103.939] "
   ]
  },
  {
   "cell_type": "code",
   "execution_count": 3,
   "metadata": {},
   "outputs": [
    {
     "name": "stdout",
     "output_type": "stream",
     "text": [
      "_________________________________________________________________\n",
      "Layer (type)                 Output Shape              Param #   \n",
      "=================================================================\n",
      "input_1 (InputLayer)         (None, None, None, 3)     0         \n",
      "_________________________________________________________________\n",
      "block1_conv1 (Conv2D)        (None, None, None, 64)    1792      \n",
      "_________________________________________________________________\n",
      "block1_conv2 (Conv2D)        (None, None, None, 64)    36928     \n",
      "_________________________________________________________________\n",
      "block1_pool (MaxPooling2D)   (None, None, None, 64)    0         \n",
      "_________________________________________________________________\n",
      "block2_conv1 (Conv2D)        (None, None, None, 128)   73856     \n",
      "_________________________________________________________________\n",
      "block2_conv2 (Conv2D)        (None, None, None, 128)   147584    \n",
      "_________________________________________________________________\n",
      "block2_pool (MaxPooling2D)   (None, None, None, 128)   0         \n",
      "_________________________________________________________________\n",
      "block3_conv1 (Conv2D)        (None, None, None, 256)   295168    \n",
      "_________________________________________________________________\n",
      "block3_conv2 (Conv2D)        (None, None, None, 256)   590080    \n",
      "_________________________________________________________________\n",
      "block3_conv3 (Conv2D)        (None, None, None, 256)   590080    \n",
      "_________________________________________________________________\n",
      "block3_pool (MaxPooling2D)   (None, None, None, 256)   0         \n",
      "_________________________________________________________________\n",
      "block4_conv1 (Conv2D)        (None, None, None, 512)   1180160   \n",
      "_________________________________________________________________\n",
      "block4_conv2 (Conv2D)        (None, None, None, 512)   2359808   \n",
      "_________________________________________________________________\n",
      "block4_conv3 (Conv2D)        (None, None, None, 512)   2359808   \n",
      "_________________________________________________________________\n",
      "block4_pool (MaxPooling2D)   (None, None, None, 512)   0         \n",
      "_________________________________________________________________\n",
      "block5_conv1 (Conv2D)        (None, None, None, 512)   2359808   \n",
      "_________________________________________________________________\n",
      "block5_conv2 (Conv2D)        (None, None, None, 512)   2359808   \n",
      "_________________________________________________________________\n",
      "block5_conv3 (Conv2D)        (None, None, None, 512)   2359808   \n",
      "_________________________________________________________________\n",
      "block5_pool (MaxPooling2D)   (None, None, None, 512)   0         \n",
      "=================================================================\n",
      "Total params: 14,714,688\n",
      "Trainable params: 14,714,688\n",
      "Non-trainable params: 0\n",
      "_________________________________________________________________\n",
      "None\n"
     ]
    }
   ],
   "source": [
    "base_model=md.get_vgg16_imagenet(summary=True,include_fc=False)"
   ]
  },
  {
   "cell_type": "code",
   "execution_count": 4,
   "metadata": {
    "collapsed": true
   },
   "outputs": [],
   "source": [
    "def dotproduct(v1, v2):\n",
    "  return sum((a*b) for a, b in zip(v1, v2))\n",
    "\n",
    "def length(v):\n",
    "  return math.sqrt(dotproduct(v, v))\n",
    "\n",
    "def angle(v1, v2):\n",
    "    cos_val=dotproduct(v1, v2) / (length(v1) * length(v2))\n",
    "    cos_val=float(cos_val)\n",
    "    cos_val=clean_cos(cos_val)\n",
    "    angle_in_rad=math.acos(cos_val)\n",
    "    #print(angle_in_rad)\n",
    "    return angle_in_rad\n",
    "\n",
    "def clean_cos(cos_val):\n",
    "    return min(1,max(cos_val,-1))"
   ]
  },
  {
   "cell_type": "code",
   "execution_count": 5,
   "metadata": {
    "collapsed": true
   },
   "outputs": [],
   "source": [
    "def get_frames_data(filename, num_frames_per_clip=16):\n",
    "  ''' Given a directory containing extracted frames, return a video clip of\n",
    "  (num_frames_per_clip) consecutive frames as a list of np arrays '''\n",
    "  ret_arr = []\n",
    "  s_index = 0\n",
    "  for parent, dirnames, filenames in os.walk(filename):\n",
    "    if(len(filenames)<num_frames_per_clip):\n",
    "      return [], s_index\n",
    "    filenames = sorted(filenames)\n",
    "    s_index = random.randint(0, len(filenames) - num_frames_per_clip)\n",
    "    for i in range(s_index, s_index + num_frames_per_clip):\n",
    "      image_name = str(filename) + '/' + str(filenames[i])\n",
    "      img = Image.open(image_name)\n",
    "      img_data = np.array(img)\n",
    "      #lsp.view_image(img_data)\n",
    "      ret_arr.append(img_data)\n",
    "  ret_arr=np.array(ret_arr)\n",
    "  #ret_arr=ret_arr/255\n",
    "  print('ret_arr',ret_arr.shape)\n",
    "  #print('ret_arr',ret_arr[1])\n",
    "  return ret_arr"
   ]
  },
  {
   "cell_type": "code",
   "execution_count": 6,
   "metadata": {
    "collapsed": true
   },
   "outputs": [],
   "source": [
    "## Extraction of features - baseline\n",
    "def extract_baseline_video_features(vid):\n",
    "    \n",
    "    sum_val=0\n",
    "    for i in range(cluster_length):\n",
    "        print('vid',vid.shape)\n",
    "        frame_=vid[i]\n",
    "        print('frame_',frame_.shape)\n",
    "        \n",
    "        #frame_=frame_.reshape(-1,height,width,channel)\n",
    "        #frame= preprocess_input(frame_) # prepare the image for the VGG model\n",
    "        \n",
    "        frame=preprocess(frame_,mean)\n",
    "        print('frame',frame.shape)\n",
    "        frame=frame.reshape(-1,height,width,channel)\n",
    "        \n",
    "        temp_val=base_model.predict(frame)\n",
    "        print('temp_val',temp_val.shape)\n",
    "        temp_val=temp_val.reshape(feature_size)\n",
    "        #print('temp_val',temp_val.shape)\n",
    "        sum_val=sum_val+temp_val\n",
    "        #print('sum_val',sum_val.shape)\n",
    "    features=sum_val/cluster_length\n",
    "    #print('feature from one video.shape',features.shape)\n",
    "    return features"
   ]
  },
  {
   "cell_type": "code",
   "execution_count": 7,
   "metadata": {
    "collapsed": true
   },
   "outputs": [],
   "source": [
    "def preprocess(im,mean):\n",
    "        im = np.float32(im)\n",
    "        im[:,:,2] -= 103.939\n",
    "        im[:,:,1] -= 116.779\n",
    "        im[:,:,0] -= 123.68\n",
    "        im = im[:, :, ::-1]  # change to BGR\n",
    "        return im"
   ]
  },
  {
   "cell_type": "code",
   "execution_count": 8,
   "metadata": {
    "collapsed": true
   },
   "outputs": [],
   "source": [
    "def dist_angle_calc(directory1,directory2):\n",
    "    baseline_dist=[]\n",
    "    baseline_angle=[]\n",
    "    activity_dist=[]\n",
    "    activitynet_angle=[]\n",
    "    \n",
    "    subfolders1=os.listdir(directory1)\n",
    "    subfolders1=sorted(subfolders1)\n",
    "    subfolders2=os.listdir(directory2)\n",
    "    subfolders2=sorted(subfolders2)\n",
    "    \n",
    "    for subfolder1_ in subfolders1:\n",
    "        data1=np.array(get_frames_data(directory1+'/'+subfolder1_))\n",
    "        print('data1',data1.shape)\n",
    "        for subfolder2_ in subfolders2:\n",
    "            data2=np.array(get_frames_data(directory2+'/'+subfolder2_))\n",
    "            print('data2',data2.shape)\n",
    "            \n",
    "            dist_base_=np.linalg.norm(extract_baseline_video_features(data1)-extract_baseline_video_features(data2))\n",
    "            #dist_act_=activity_model(data1)-activity_model(data2)\n",
    "            \n",
    "            baseline_dist.append(dist_base_)\n",
    "            #activity_dist.append(dist_act_)\n",
    "            \n",
    "            angle_base_=angle(extract_baseline_video_features(data1),extract_baseline_video_features(data2))\n",
    "            #angle_act_=activity_model(data1)-activity_model(data2)\n",
    "            \n",
    "            baseline_angle.append(angle_base_)\n",
    "            #activity_angle.append(dist_angle_)\n",
    "    \n",
    "    return baseline_dist,baseline_angle#,activitynet_dist"
   ]
  },
  {
   "cell_type": "code",
   "execution_count": 9,
   "metadata": {},
   "outputs": [
    {
     "name": "stdout",
     "output_type": "stream",
     "text": [
      "ret_arr (16, 112, 112, 3)\n",
      "data1 (2,)\n",
      "ret_arr (16, 112, 112, 3)\n",
      "data2 (2,)\n",
      "vid (2,)\n",
      "frame_ (16, 112, 112, 3)\n",
      "frame (16, 112, 112, 3)\n",
      "temp_val (16, 3, 3, 512)\n"
     ]
    },
    {
     "ename": "ValueError",
     "evalue": "cannot reshape array of size 73728 into shape (4608,)",
     "output_type": "error",
     "traceback": [
      "\u001b[0;31m---------------------------------------------------------------------------\u001b[0m",
      "\u001b[0;31mValueError\u001b[0m                                Traceback (most recent call last)",
      "\u001b[0;32m<ipython-input-9-c562dfeb5cd1>\u001b[0m in \u001b[0;36m<module>\u001b[0;34m()\u001b[0m\n\u001b[1;32m      5\u001b[0m \u001b[0;34m\u001b[0m\u001b[0m\n\u001b[1;32m      6\u001b[0m \u001b[0;34m\u001b[0m\u001b[0m\n\u001b[0;32m----> 7\u001b[0;31m \u001b[0mbaseline_dist_\u001b[0m\u001b[0;34m,\u001b[0m\u001b[0mbaseline_angle_\u001b[0m\u001b[0;34m=\u001b[0m\u001b[0mdist_angle_calc\u001b[0m\u001b[0;34m(\u001b[0m\u001b[0;34m'/nobackup/leopauly/leeds_reordered/hit'\u001b[0m\u001b[0;34m,\u001b[0m\u001b[0;34m'/nobackup/leopauly/leeds_reordered/hit'\u001b[0m\u001b[0;34m)\u001b[0m\u001b[0;34m\u001b[0m\u001b[0m\n\u001b[0m\u001b[1;32m      8\u001b[0m \u001b[0;31m#print(baseline_dist_)\u001b[0m\u001b[0;34m\u001b[0m\u001b[0;34m\u001b[0m\u001b[0m\n\u001b[1;32m      9\u001b[0m \u001b[0mbaseline_plot_sim\u001b[0m\u001b[0;34m.\u001b[0m\u001b[0mappend\u001b[0m\u001b[0;34m(\u001b[0m\u001b[0;34m[\u001b[0m\u001b[0mbaseline_dist_\u001b[0m\u001b[0;34m]\u001b[0m\u001b[0;34m)\u001b[0m\u001b[0;34m\u001b[0m\u001b[0m\n",
      "\u001b[0;32m<ipython-input-8-d9936031e421>\u001b[0m in \u001b[0;36mdist_angle_calc\u001b[0;34m(directory1, directory2)\u001b[0m\n\u001b[1;32m     17\u001b[0m             \u001b[0mprint\u001b[0m\u001b[0;34m(\u001b[0m\u001b[0;34m'data2'\u001b[0m\u001b[0;34m,\u001b[0m\u001b[0mdata2\u001b[0m\u001b[0;34m.\u001b[0m\u001b[0mshape\u001b[0m\u001b[0;34m)\u001b[0m\u001b[0;34m\u001b[0m\u001b[0m\n\u001b[1;32m     18\u001b[0m \u001b[0;34m\u001b[0m\u001b[0m\n\u001b[0;32m---> 19\u001b[0;31m             \u001b[0mdist_base_\u001b[0m\u001b[0;34m=\u001b[0m\u001b[0mnp\u001b[0m\u001b[0;34m.\u001b[0m\u001b[0mlinalg\u001b[0m\u001b[0;34m.\u001b[0m\u001b[0mnorm\u001b[0m\u001b[0;34m(\u001b[0m\u001b[0mextract_baseline_video_features\u001b[0m\u001b[0;34m(\u001b[0m\u001b[0mdata1\u001b[0m\u001b[0;34m)\u001b[0m\u001b[0;34m-\u001b[0m\u001b[0mextract_baseline_video_features\u001b[0m\u001b[0;34m(\u001b[0m\u001b[0mdata2\u001b[0m\u001b[0;34m)\u001b[0m\u001b[0;34m)\u001b[0m\u001b[0;34m\u001b[0m\u001b[0m\n\u001b[0m\u001b[1;32m     20\u001b[0m             \u001b[0;31m#dist_act_=activity_model(data1)-activity_model(data2)\u001b[0m\u001b[0;34m\u001b[0m\u001b[0;34m\u001b[0m\u001b[0m\n\u001b[1;32m     21\u001b[0m \u001b[0;34m\u001b[0m\u001b[0m\n",
      "\u001b[0;32m<ipython-input-6-e409335741e7>\u001b[0m in \u001b[0;36mextract_baseline_video_features\u001b[0;34m(vid)\u001b[0m\n\u001b[1;32m     17\u001b[0m         \u001b[0mtemp_val\u001b[0m\u001b[0;34m=\u001b[0m\u001b[0mbase_model\u001b[0m\u001b[0;34m.\u001b[0m\u001b[0mpredict\u001b[0m\u001b[0;34m(\u001b[0m\u001b[0mframe\u001b[0m\u001b[0;34m)\u001b[0m\u001b[0;34m\u001b[0m\u001b[0m\n\u001b[1;32m     18\u001b[0m         \u001b[0mprint\u001b[0m\u001b[0;34m(\u001b[0m\u001b[0;34m'temp_val'\u001b[0m\u001b[0;34m,\u001b[0m\u001b[0mtemp_val\u001b[0m\u001b[0;34m.\u001b[0m\u001b[0mshape\u001b[0m\u001b[0;34m)\u001b[0m\u001b[0;34m\u001b[0m\u001b[0m\n\u001b[0;32m---> 19\u001b[0;31m         \u001b[0mtemp_val\u001b[0m\u001b[0;34m=\u001b[0m\u001b[0mtemp_val\u001b[0m\u001b[0;34m.\u001b[0m\u001b[0mreshape\u001b[0m\u001b[0;34m(\u001b[0m\u001b[0mfeature_size\u001b[0m\u001b[0;34m)\u001b[0m\u001b[0;34m\u001b[0m\u001b[0m\n\u001b[0m\u001b[1;32m     20\u001b[0m         \u001b[0;31m#print('temp_val',temp_val.shape)\u001b[0m\u001b[0;34m\u001b[0m\u001b[0;34m\u001b[0m\u001b[0m\n\u001b[1;32m     21\u001b[0m         \u001b[0msum_val\u001b[0m\u001b[0;34m=\u001b[0m\u001b[0msum_val\u001b[0m\u001b[0;34m+\u001b[0m\u001b[0mtemp_val\u001b[0m\u001b[0;34m\u001b[0m\u001b[0m\n",
      "\u001b[0;31mValueError\u001b[0m: cannot reshape array of size 73728 into shape (4608,)"
     ]
    }
   ],
   "source": [
    "## Getting feature space distances for values for similar activity videos\n",
    "baseline_plot_sim=[]\n",
    "baseline_plot_angle_sim=[]\n",
    "activitynet_plot_sim=[]\n",
    "\n",
    "\n",
    "baseline_dist_,baseline_angle_=dist_angle_calc('/nobackup/leopauly/leeds_reordered/hit','/nobackup/leopauly/leeds_reordered/hit')\n",
    "#print(baseline_dist_)\n",
    "baseline_plot_sim.append([baseline_dist_])\n",
    "baseline_plot_angle_sim.append([baseline_angle_])\n",
    "\n",
    "baseline_dist_,baseline_angle_=dist_angle_calc('/nobackup/leopauly/leeds_reordered/push','/nobackup/leopauly/leeds_reordered/push')\n",
    "baseline_plot_sim.append([baseline_dist_])\n",
    "baseline_plot_angle_sim.append([baseline_angle_])\n",
    "\n",
    "baseline_dist_,baseline_angle_=dist_angle_calc('/nobackup/leopauly/leeds_reordered/reach','/nobackup/leopauly/leeds_reordered/reach')\n",
    "baseline_plot_sim.append([baseline_dist_])\n",
    "baseline_plot_angle_sim.append([baseline_angle_])\n",
    "\n",
    "baseline_dist_,baseline_angle_=dist_angle_calc('/nobackup/leopauly/leeds_reordered/pour','/nobackup/leopauly/leeds_reordered/pour')\n",
    "baseline_plot_sim.append([baseline_dist_])\n",
    "baseline_plot_angle_sim.append([baseline_angle_])\n"
   ]
  },
  {
   "cell_type": "code",
   "execution_count": null,
   "metadata": {
    "collapsed": true
   },
   "outputs": [],
   "source": [
    "baseline_plot_sim=np.array(baseline_plot_sim)\n",
    "baseline_plot_sim=baseline_plot_sim.reshape(100)\n",
    "print(baseline_plot_sim)\n",
    "print(baseline_plot_sim.shape)"
   ]
  },
  {
   "cell_type": "code",
   "execution_count": null,
   "metadata": {
    "collapsed": true
   },
   "outputs": [],
   "source": [
    "baseline_plot_angle_sim=np.array(baseline_plot_angle_sim)\n",
    "baseline_plot_angle_sim=baseline_plot_angle_sim.reshape(100)\n",
    "print(baseline_plot_angle_sim)\n",
    "print(baseline_plot_angle_sim.shape)"
   ]
  },
  {
   "cell_type": "code",
   "execution_count": null,
   "metadata": {
    "collapsed": true
   },
   "outputs": [],
   "source": [
    "## Getting feature space distances for values for dissimilar activity videos\n",
    "baseline_plot_dis=[]\n",
    "baseline_plot_angle_dis=[]\n",
    "activitynet_plot_dis=[]\n",
    "\n",
    "\n",
    "baseline_dist_,baseline_angle_=dist_angle_calc('/nobackup/leopauly/leeds_reordered/hit','/nobackup/leopauly/leeds_reordered/push')\n",
    "#print(baseline_dist_)\n",
    "baseline_plot_dis.append([baseline_dist_])\n",
    "baseline_plot_angle_dis.append([baseline_angle_])\n",
    "\n",
    "baseline_dist_,baseline_angle_=dist_angle_calc('/nobackup/leopauly/leeds_reordered/hit','/nobackup/leopauly/leeds_reordered/reach')\n",
    "baseline_plot_dis.append([baseline_dist_])\n",
    "baseline_plot_angle_dis.append([baseline_angle_])\n",
    "\n",
    "baseline_dist_,baseline_angle_=dist_angle_calc('/nobackup/leopauly/leeds_reordered/push','/nobackup/leopauly/leeds_reordered/reach')\n",
    "baseline_plot_dis.append([baseline_dist_])\n",
    "baseline_plot_angle_dis.append([baseline_angle_])\n",
    "\n",
    "baseline_dist_,baseline_angle_=dist_angle_calc('/nobackup/leopauly/leeds_reordered/pour','/nobackup/leopauly/leeds_reordered/reach')\n",
    "baseline_plot_dis.append([baseline_dist_])\n",
    "baseline_plot_angle_dis.append([baseline_angle_])\n",
    "\n",
    "baseline_dist_,baseline_angle_=dist_angle_calc('/nobackup/leopauly/leeds_reordered/pour','/nobackup/leopauly/leeds_reordered/hit')\n",
    "baseline_plot_dis.append([baseline_dist_])\n",
    "baseline_plot_angle_dis.append([baseline_angle_])\n",
    "\n",
    "baseline_dist_,baseline_angle_=dist_angle_calc('/nobackup/leopauly/leeds_reordered/pour','/nobackup/leopauly/leeds_reordered/push')\n",
    "baseline_plot_dis.append([baseline_dist_])\n",
    "baseline_plot_angle_dis.append([baseline_angle_])"
   ]
  },
  {
   "cell_type": "code",
   "execution_count": null,
   "metadata": {
    "collapsed": true
   },
   "outputs": [],
   "source": [
    "baseline_plot_dis=np.array(baseline_plot_dis)\n",
    "baseline_plot_dis=baseline_plot_dis.reshape(150)\n",
    "print(baseline_plot_dis)\n",
    "print(baseline_plot_dis.shape)"
   ]
  },
  {
   "cell_type": "code",
   "execution_count": null,
   "metadata": {
    "collapsed": true
   },
   "outputs": [],
   "source": [
    "baseline_plot_angle_dis=np.array(baseline_plot_angle_dis)\n",
    "baseline_plot_angle_dis=baseline_plot_angle_dis.reshape(150)\n",
    "print(baseline_plot_angle_dis)\n",
    "print(baseline_plot_angle_dis.shape)"
   ]
  },
  {
   "cell_type": "code",
   "execution_count": null,
   "metadata": {
    "collapsed": true
   },
   "outputs": [],
   "source": [
    "## Plotting\n",
    "plt.plot(baseline_plot_sim,'ro')\n",
    "plt.plot(baseline_plot_dis,'x')\n",
    "plt.ylabel('Distance')\n",
    "plt.show()"
   ]
  },
  {
   "cell_type": "code",
   "execution_count": null,
   "metadata": {
    "collapsed": true
   },
   "outputs": [],
   "source": [
    "## Plotting\n",
    "plt.plot(baseline_plot_angle_sim,'ro')\n",
    "plt.plot(baseline_plot_angle_dis,'x')\n",
    "plt.ylabel('angle')\n",
    "plt.show()"
   ]
  },
  {
   "cell_type": "code",
   "execution_count": null,
   "metadata": {
    "collapsed": true
   },
   "outputs": [],
   "source": []
  },
  {
   "cell_type": "code",
   "execution_count": null,
   "metadata": {
    "collapsed": true
   },
   "outputs": [],
   "source": []
  }
 ],
 "metadata": {
  "kernelspec": {
   "display_name": "Python 3",
   "language": "python",
   "name": "python3"
  },
  "language_info": {
   "codemirror_mode": {
    "name": "ipython",
    "version": 3
   },
   "file_extension": ".py",
   "mimetype": "text/x-python",
   "name": "python",
   "nbconvert_exporter": "python",
   "pygments_lexer": "ipython3",
   "version": "3.6.1"
  }
 },
 "nbformat": 4,
 "nbformat_minor": 2
}
