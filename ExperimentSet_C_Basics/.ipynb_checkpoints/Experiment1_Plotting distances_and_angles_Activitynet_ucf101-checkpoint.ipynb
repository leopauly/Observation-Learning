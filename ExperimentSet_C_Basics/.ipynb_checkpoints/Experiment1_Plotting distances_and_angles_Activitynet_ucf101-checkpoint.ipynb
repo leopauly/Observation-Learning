{
 "cells": [
  {
   "cell_type": "markdown",
   "metadata": {},
   "source": [
    "### Experiment1_Plotting distances and angles\n",
    "Author : @leopauly | cnlp@leeds.ac.uk <br>\n",
    "Description : Studying the feature vectors in the feature space"
   ]
  },
  {
   "cell_type": "code",
   "execution_count": 1,
   "metadata": {},
   "outputs": [
    {
     "name": "stderr",
     "output_type": "stream",
     "text": [
      "Using TensorFlow backend.\n"
     ]
    }
   ],
   "source": [
    "import os\n",
    "from six.moves import xrange  # pylint: disable=redefined-builtin\n",
    "import PIL.Image as Image\n",
    "import random\n",
    "import numpy as np\n",
    "import cv2\n",
    "import time\n",
    "import math\n",
    "import matplotlib.pyplot as plt\n",
    "import tensorflow as tf\n",
    "from keras import backend as K\n",
    "from sklearn.decomposition import PCA\n",
    "from sklearn.manifold import TSNE\n",
    "from skimage import io\n",
    "\n",
    "# Custom scripts\n",
    "import lscript as lsp\n",
    "import modelling as md"
   ]
  },
  {
   "cell_type": "code",
   "execution_count": 2,
   "metadata": {
    "collapsed": true
   },
   "outputs": [],
   "source": [
    "height=112 \n",
    "width=112 \n",
    "channel=3\n",
    "crop_size=112\n",
    "\n",
    "cluster_length=16\n",
    "feature_size=8192 #4608 #   #16384  #487\n",
    "nb_classes=2\n",
    "saved_path='/nobackup/leopauly/logdirk80_1'\n",
    "\n",
    "batch_size=32\n",
    "memory_batch_size_train=266\n",
    "memory_batch_size_test=170\n",
    "next_batch_start=0\n",
    "sample_batch_size=10"
   ]
  },
  {
   "cell_type": "code",
   "execution_count": 3,
   "metadata": {},
   "outputs": [
    {
     "name": "stderr",
     "output_type": "stream",
     "text": [
      "/home/ufaserv1_f/cnlp/Seeing_to_Learn/Observation-Learning/ExperimentSet_C_Basics/modelling.py:281: UserWarning: Update your `Conv3D` call to the Keras 2 API: `Conv3D(64, (3, 3, 3), activation=\"relu\", name=\"conv1\", input_shape=(16, 112, ..., padding=\"same\")`\n",
      "  input_shape=input_shape))\n",
      "/home/ufaserv1_f/cnlp/Seeing_to_Learn/Observation-Learning/ExperimentSet_C_Basics/modelling.py:283: UserWarning: Update your `MaxPooling3D` call to the Keras 2 API: `MaxPooling3D(pool_size=(1, 2, 2), strides=(1, 2, 2), name=\"pool1\", padding=\"valid\")`\n",
      "  border_mode='valid', name='pool1'))\n",
      "/home/ufaserv1_f/cnlp/Seeing_to_Learn/Observation-Learning/ExperimentSet_C_Basics/modelling.py:286: UserWarning: Update your `Conv3D` call to the Keras 2 API: `Conv3D(128, (3, 3, 3), activation=\"relu\", name=\"conv2\", padding=\"same\")`\n",
      "  border_mode='same', name='conv2'))\n",
      "/home/ufaserv1_f/cnlp/Seeing_to_Learn/Observation-Learning/ExperimentSet_C_Basics/modelling.py:288: UserWarning: Update your `MaxPooling3D` call to the Keras 2 API: `MaxPooling3D(pool_size=(2, 2, 2), strides=(2, 2, 2), name=\"pool2\", padding=\"valid\")`\n",
      "  border_mode='valid', name='pool2'))\n",
      "/home/ufaserv1_f/cnlp/Seeing_to_Learn/Observation-Learning/ExperimentSet_C_Basics/modelling.py:291: UserWarning: Update your `Conv3D` call to the Keras 2 API: `Conv3D(256, (3, 3, 3), activation=\"relu\", name=\"conv3a\", padding=\"same\")`\n",
      "  border_mode='same', name='conv3a'))\n",
      "/home/ufaserv1_f/cnlp/Seeing_to_Learn/Observation-Learning/ExperimentSet_C_Basics/modelling.py:293: UserWarning: Update your `Conv3D` call to the Keras 2 API: `Conv3D(256, (3, 3, 3), activation=\"relu\", name=\"conv3b\", padding=\"same\")`\n",
      "  border_mode='same', name='conv3b'))\n",
      "/home/ufaserv1_f/cnlp/Seeing_to_Learn/Observation-Learning/ExperimentSet_C_Basics/modelling.py:295: UserWarning: Update your `MaxPooling3D` call to the Keras 2 API: `MaxPooling3D(pool_size=(2, 2, 2), strides=(2, 2, 2), name=\"pool3\", padding=\"valid\")`\n",
      "  border_mode='valid', name='pool3'))\n",
      "/home/ufaserv1_f/cnlp/Seeing_to_Learn/Observation-Learning/ExperimentSet_C_Basics/modelling.py:298: UserWarning: Update your `Conv3D` call to the Keras 2 API: `Conv3D(512, (3, 3, 3), activation=\"relu\", name=\"conv4a\", padding=\"same\")`\n",
      "  border_mode='same', name='conv4a'))\n",
      "/home/ufaserv1_f/cnlp/Seeing_to_Learn/Observation-Learning/ExperimentSet_C_Basics/modelling.py:300: UserWarning: Update your `Conv3D` call to the Keras 2 API: `Conv3D(512, (3, 3, 3), activation=\"relu\", name=\"conv4b\", padding=\"same\")`\n",
      "  border_mode='same', name='conv4b'))\n",
      "/home/ufaserv1_f/cnlp/Seeing_to_Learn/Observation-Learning/ExperimentSet_C_Basics/modelling.py:302: UserWarning: Update your `MaxPooling3D` call to the Keras 2 API: `MaxPooling3D(pool_size=(2, 2, 2), strides=(2, 2, 2), name=\"pool4\", padding=\"valid\")`\n",
      "  border_mode='valid', name='pool4'))\n",
      "/home/ufaserv1_f/cnlp/Seeing_to_Learn/Observation-Learning/ExperimentSet_C_Basics/modelling.py:305: UserWarning: Update your `Conv3D` call to the Keras 2 API: `Conv3D(512, (3, 3, 3), activation=\"relu\", name=\"conv5a\", padding=\"same\")`\n",
      "  border_mode='same', name='conv5a'))\n",
      "/home/ufaserv1_f/cnlp/Seeing_to_Learn/Observation-Learning/ExperimentSet_C_Basics/modelling.py:307: UserWarning: Update your `Conv3D` call to the Keras 2 API: `Conv3D(512, (3, 3, 3), activation=\"relu\", name=\"conv5b\", padding=\"same\")`\n",
      "  border_mode='same', name='conv5b'))\n",
      "/home/ufaserv1_f/cnlp/Seeing_to_Learn/Observation-Learning/ExperimentSet_C_Basics/modelling.py:310: UserWarning: Update your `MaxPooling3D` call to the Keras 2 API: `MaxPooling3D(pool_size=(2, 2, 2), strides=(2, 2, 2), name=\"pool5\", padding=\"valid\")`\n",
      "  border_mode='valid', name='pool5'))\n"
     ]
    },
    {
     "name": "stdout",
     "output_type": "stream",
     "text": [
      "_________________________________________________________________\n",
      "Layer (type)                 Output Shape              Param #   \n",
      "=================================================================\n",
      "conv1 (Conv3D)               (None, 16, 112, 112, 64)  5248      \n",
      "_________________________________________________________________\n",
      "pool1 (MaxPooling3D)         (None, 16, 56, 56, 64)    0         \n",
      "_________________________________________________________________\n",
      "conv2 (Conv3D)               (None, 16, 56, 56, 128)   221312    \n",
      "_________________________________________________________________\n",
      "pool2 (MaxPooling3D)         (None, 8, 28, 28, 128)    0         \n",
      "_________________________________________________________________\n",
      "conv3a (Conv3D)              (None, 8, 28, 28, 256)    884992    \n",
      "_________________________________________________________________\n",
      "conv3b (Conv3D)              (None, 8, 28, 28, 256)    1769728   \n",
      "_________________________________________________________________\n",
      "pool3 (MaxPooling3D)         (None, 4, 14, 14, 256)    0         \n",
      "_________________________________________________________________\n",
      "conv4a (Conv3D)              (None, 4, 14, 14, 512)    3539456   \n",
      "_________________________________________________________________\n",
      "conv4b (Conv3D)              (None, 4, 14, 14, 512)    7078400   \n",
      "_________________________________________________________________\n",
      "pool4 (MaxPooling3D)         (None, 2, 7, 7, 512)      0         \n",
      "_________________________________________________________________\n",
      "conv5a (Conv3D)              (None, 2, 7, 7, 512)      7078400   \n",
      "_________________________________________________________________\n",
      "conv5b (Conv3D)              (None, 2, 7, 7, 512)      7078400   \n",
      "_________________________________________________________________\n",
      "zeropad5 (ZeroPadding3D)     (None, 2, 8, 8, 512)      0         \n",
      "_________________________________________________________________\n",
      "pool5 (MaxPooling3D)         (None, 1, 4, 4, 512)      0         \n",
      "_________________________________________________________________\n",
      "flatten_1 (Flatten)          (None, 8192)              0         \n",
      "_________________________________________________________________\n",
      "fc6 (Dense)                  (None, 4096)              33558528  \n",
      "_________________________________________________________________\n",
      "dropout_1 (Dropout)          (None, 4096)              0         \n",
      "_________________________________________________________________\n",
      "fc7 (Dense)                  (None, 4096)              16781312  \n",
      "_________________________________________________________________\n",
      "dropout_2 (Dropout)          (None, 4096)              0         \n",
      "_________________________________________________________________\n",
      "fc8 (Dense)                  (None, 101)               413797    \n",
      "=================================================================\n",
      "Total params: 78,409,573\n",
      "Trainable params: 78,409,573\n",
      "Non-trainable params: 0\n",
      "_________________________________________________________________\n",
      "None\n",
      "Miscellenious items finished..!!\n"
     ]
    }
   ],
   "source": [
    "## Defining placeholders in tf for images and targets\n",
    "x_image = tf.placeholder(tf.float32, [None, 16,height,width,channel],name='x') \n",
    "y_true = tf.placeholder(tf.float32, [None, nb_classes],name='y_true')\n",
    "y_true_cls = tf.placeholder(tf.int64, [None],name='y_true_cls')\n",
    "\n",
    "model_keras = md.C3D_ucf101_training_model_tf(summary=True)\n",
    "out=model_keras(x_image)\n",
    "y_pred = tf.nn.softmax(out)\n",
    "y_pred_cls = tf.argmax(out, dimension=1)\n",
    "correct_prediction = tf.equal(y_pred_cls, y_true_cls)\n",
    "accuracy = tf.reduce_mean(tf.cast(correct_prediction, tf.float32))\n",
    "\n",
    "print('Miscellenious items finished..!!',flush=True)"
   ]
  },
  {
   "cell_type": "code",
   "execution_count": 4,
   "metadata": {
    "collapsed": true
   },
   "outputs": [],
   "source": [
    "def dotproduct(v1, v2):\n",
    "  return sum((a*b) for a, b in zip(v1, v2))\n",
    "\n",
    "def length(v):\n",
    "  return math.sqrt(dotproduct(v, v))\n",
    "\n",
    "def angle(v1, v2):\n",
    "    cos_val=dotproduct(v1, v2) / (length(v1) * length(v2))\n",
    "    cos_val=float(cos_val)\n",
    "    cos_val=clean_cos(cos_val)\n",
    "    angle_in_rad=math.acos(cos_val)\n",
    "    #print(angle_in_rad)\n",
    "    return angle_in_rad\n",
    "\n",
    "def clean_cos(cos_val):\n",
    "    return min(1,max(cos_val,-1))"
   ]
  },
  {
   "cell_type": "code",
   "execution_count": 5,
   "metadata": {
    "collapsed": true
   },
   "outputs": [],
   "source": [
    "def get_compress_frames_data(filename, num_frames_per_clip=16):\n",
    "  ''' Given a directory containing extracted frames, return a video clip of\n",
    "  (num_frames_per_clip) consecutive frames as a list of np arrays '''\n",
    "  ret_arr = []\n",
    "  for parent, dirnames, filenames in os.walk(filename):\n",
    "\n",
    "    filenames = sorted(filenames)\n",
    "    jump=math.floor((len(filenames)/num_frames_per_clip))\n",
    "    loop=0\n",
    "    for i in range(0,len(filenames),jump):\n",
    "      if (loop>15):\n",
    "        break\n",
    "      if (filenames[i].endswith('.png')):\n",
    "        image_name = str(filename) + '/' + str(filenames[i])\n",
    "        img = Image.open(image_name)\n",
    "        img_data = np.array(img)\n",
    "        ret_arr.append(img_data)\n",
    "        loop=loop+1\n",
    "  ret_arr=np.array(ret_arr)\n",
    "  #ret_arr=ret_arr/255\n",
    "  return np.array(ret_arr)"
   ]
  },
  {
   "cell_type": "code",
   "execution_count": 6,
   "metadata": {
    "collapsed": true
   },
   "outputs": [],
   "source": [
    "## Extraction of features - baseline\n",
    "def extract_baseline_video_features(vid):\n",
    "    vid_=vid.reshape(-1,cluster_length,height,width,channel)\n",
    "    f_v = sess.graph.get_tensor_by_name('flatten_1/Reshape:0')\n",
    "    f_v_val=sess.run([f_v], feed_dict={'conv1_input:0':vid_,x_image:vid_,K.learning_phase(): 0 })\n",
    "    features=np.reshape(f_v_val,(-1))\n",
    "    return features"
   ]
  },
  {
   "cell_type": "code",
   "execution_count": 7,
   "metadata": {
    "collapsed": true
   },
   "outputs": [],
   "source": [
    "def dist_angle_calc(directory1,directory2):\n",
    "    baseline_dist=[]\n",
    "    baseline_angle=[]\n",
    "    activity_dist=[]\n",
    "    activitynet_angle=[]\n",
    "    \n",
    "    subfolders1=os.listdir(directory1)\n",
    "    subfolders1=sorted(subfolders1)\n",
    "    subfolders2=os.listdir(directory2)\n",
    "    subfolders2=sorted(subfolders2)\n",
    "    \n",
    "    for subfolder1_ in subfolders1:\n",
    "        data1=get_compress_frames_data(directory1+'/'+subfolder1_)\n",
    "        \n",
    "        for subfolder2_ in subfolders2:\n",
    "            data2=get_compress_frames_data(directory2+'/'+subfolder2_)\n",
    "            \n",
    "            dist_base_=np.linalg.norm(extract_baseline_video_features(data1)-extract_baseline_video_features(data2))\n",
    "            \n",
    "            baseline_dist.append(dist_base_)\n",
    "            \n",
    "            angle_base_=angle(extract_baseline_video_features(data1),extract_baseline_video_features(data2))\n",
    "            \n",
    "            baseline_angle.append(angle_base_)\n",
    "    \n",
    "    return baseline_dist,baseline_angle"
   ]
  },
  {
   "cell_type": "code",
   "execution_count": 8,
   "metadata": {},
   "outputs": [
    {
     "name": "stdout",
     "output_type": "stream",
     "text": [
      "INFO:tensorflow:Restoring parameters from /nobackup/leopauly/logdirk80_1/activity_model.ckpt-67\n",
      "Model restored from file: /nobackup/leopauly/logdirk80_1\n"
     ]
    }
   ],
   "source": [
    "#### Start the session with logging placement.\n",
    "init_op = tf.global_variables_initializer()\n",
    "sess = tf.Session(config=tf.ConfigProto(allow_soft_placement=True, log_device_placement=False))\n",
    "sess.run(init_op)\n",
    "\n",
    "### Restore model weights from previously saved model\n",
    "#saver = tf.train.import_meta_graph(os.path.join(saved_path,'activity_model_1.ckpt-43.meta'))\n",
    "saver = tf.train.Saver()\n",
    "saver.restore(sess, os.path.join(saved_path,'activity_model.ckpt-67'))\n",
    "print(\"Model restored from file: %s\" % saved_path,flush=True)"
   ]
  },
  {
   "cell_type": "code",
   "execution_count": 9,
   "metadata": {
    "collapsed": true
   },
   "outputs": [],
   "source": [
    "## Getting feature space distances for values for similar activity videos\n",
    "baseline_plot_sim=[]\n",
    "baseline_plot_angle_sim=[]\n",
    "activitynet_plot_sim=[]\n",
    "\n",
    "\n",
    "baseline_dist_,baseline_angle_=dist_angle_calc('/nobackup/leopauly/leeds_reordered/hit','/nobackup/leopauly/leeds_reordered/hit')\n",
    "#print(baseline_dist_)\n",
    "baseline_plot_sim.append([baseline_dist_])\n",
    "baseline_plot_angle_sim.append([baseline_angle_])\n",
    "\n",
    "baseline_dist_,baseline_angle_=dist_angle_calc('/nobackup/leopauly/leeds_reordered/push','/nobackup/leopauly/leeds_reordered/push')\n",
    "baseline_plot_sim.append([baseline_dist_])\n",
    "baseline_plot_angle_sim.append([baseline_angle_])\n",
    "\n",
    "baseline_dist_,baseline_angle_=dist_angle_calc('/nobackup/leopauly/leeds_reordered/reach','/nobackup/leopauly/leeds_reordered/reach')\n",
    "baseline_plot_sim.append([baseline_dist_])\n",
    "baseline_plot_angle_sim.append([baseline_angle_])\n",
    "\n",
    "baseline_dist_,baseline_angle_=dist_angle_calc('/nobackup/leopauly/leeds_reordered/pour','/nobackup/leopauly/leeds_reordered/pour')\n",
    "baseline_plot_sim.append([baseline_dist_])\n",
    "baseline_plot_angle_sim.append([baseline_angle_])\n"
   ]
  },
  {
   "cell_type": "code",
   "execution_count": 10,
   "metadata": {},
   "outputs": [
    {
     "name": "stdout",
     "output_type": "stream",
     "text": [
      "[   0.          276.19940186  180.78971863  284.78613281  256.95700073\n",
      "  276.19940186    0.          242.64231873  264.97128296  188.60980225\n",
      "  180.78971863  242.64231873    0.          245.67115784  231.12666321\n",
      "  284.78613281  264.97128296  245.67115784    0.          192.87637329\n",
      "  256.95700073  188.60980225  231.12666321  192.87637329    0.            0.\n",
      "  113.4199295   159.57234192  216.42074585  190.31954956  113.4199295     0.\n",
      "  133.13014221  220.29960632  179.64247131  159.57234192  133.13014221\n",
      "    0.          209.22160339  151.75030518  216.42074585  220.29960632\n",
      "  209.22160339    0.          175.27522278  190.31954956  179.64247131\n",
      "  151.75030518  175.27522278    0.            0.           98.28245544\n",
      "  138.81185913  137.76971436  145.85671997   98.28245544    0.\n",
      "  146.16641235  160.62979126  150.95542908  138.81185913  146.16641235\n",
      "    0.           97.08072662  161.45603943  137.76971436  160.62979126\n",
      "   97.08072662    0.          159.44750977  145.85671997  150.95542908\n",
      "  161.45603943  159.44750977    0.            0.          316.43133545\n",
      "  239.52084351  166.31347656  275.39849854  316.43133545    0.\n",
      "  250.10437012  339.38085938  314.70932007  239.52084351  250.10437012\n",
      "    0.          253.16908264  285.06307983  166.31347656  339.38085938\n",
      "  253.16908264    0.          272.73599243  275.39849854  314.70932007\n",
      "  285.06307983  272.73599243    0.        ]\n",
      "(100,)\n"
     ]
    }
   ],
   "source": [
    "baseline_plot_sim=np.array(baseline_plot_sim)\n",
    "baseline_plot_sim=baseline_plot_sim.reshape(100)\n",
    "print(baseline_plot_sim)\n",
    "print(baseline_plot_sim.shape)"
   ]
  },
  {
   "cell_type": "code",
   "execution_count": 11,
   "metadata": {},
   "outputs": [
    {
     "name": "stdout",
     "output_type": "stream",
     "text": [
      "[  0.00000000e+00   5.61056637e-01   3.58522110e-01   5.78336468e-01\n",
      "   5.26197079e-01   5.61056637e-01   0.00000000e+00   4.96193380e-01\n",
      "   5.55260543e-01   4.00488406e-01   3.58522110e-01   4.96193380e-01\n",
      "   1.49011612e-08   5.01818820e-01   4.77173087e-01   5.78336468e-01\n",
      "   5.55260543e-01   5.01818820e-01   0.00000000e+00   4.08379336e-01\n",
      "   5.26197079e-01   4.00488406e-01   4.77173087e-01   4.08379336e-01\n",
      "   1.49011612e-08   0.00000000e+00   2.31097300e-01   3.28614441e-01\n",
      "   4.35040809e-01   3.81507072e-01   2.31097300e-01   1.49011612e-08\n",
      "   2.72483773e-01   4.42072263e-01   3.59081047e-01   3.28614441e-01\n",
      "   2.72483773e-01   0.00000000e+00   4.21370334e-01   3.02759854e-01\n",
      "   4.35040809e-01   4.42072263e-01   4.21370334e-01   0.00000000e+00\n",
      "   3.46066270e-01   3.81507072e-01   3.59081047e-01   3.02759854e-01\n",
      "   3.46066270e-01   1.49011612e-08   1.49011612e-08   2.00767309e-01\n",
      "   2.84033621e-01   2.79709185e-01   3.00027374e-01   2.00767309e-01\n",
      "   1.49011612e-08   3.00410618e-01   3.27505112e-01   3.12246545e-01\n",
      "   2.84033621e-01   3.00410618e-01   0.00000000e+00   1.96943911e-01\n",
      "   3.34016860e-01   2.79709185e-01   3.27505112e-01   1.96943911e-01\n",
      "   0.00000000e+00   3.26308899e-01   3.00027374e-01   3.12246545e-01\n",
      "   3.34016860e-01   3.26308899e-01   0.00000000e+00   0.00000000e+00\n",
      "   7.85342194e-01   6.24212903e-01   4.49818338e-01   7.55461796e-01\n",
      "   7.85342194e-01   0.00000000e+00   6.01065424e-01   8.82669670e-01\n",
      "   7.85721624e-01   6.24212903e-01   6.01065424e-01   0.00000000e+00\n",
      "   6.86389066e-01   7.56497002e-01   4.49818338e-01   8.82669670e-01\n",
      "   6.86389066e-01   0.00000000e+00   8.07141682e-01   7.55461796e-01\n",
      "   7.85721624e-01   7.56497002e-01   8.07141682e-01   2.10734243e-08]\n",
      "(100,)\n"
     ]
    }
   ],
   "source": [
    "baseline_plot_angle_sim=np.array(baseline_plot_angle_sim)\n",
    "baseline_plot_angle_sim=baseline_plot_angle_sim.reshape(100)\n",
    "print(baseline_plot_angle_sim)\n",
    "print(baseline_plot_angle_sim.shape)"
   ]
  },
  {
   "cell_type": "code",
   "execution_count": 12,
   "metadata": {
    "collapsed": true
   },
   "outputs": [],
   "source": [
    "## Getting feature space distances for values for dissimilar activity videos\n",
    "baseline_plot_dis=[]\n",
    "baseline_plot_angle_dis=[]\n",
    "activitynet_plot_dis=[]\n",
    "\n",
    "\n",
    "baseline_dist_,baseline_angle_=dist_angle_calc('/nobackup/leopauly/leeds_reordered/hit','/nobackup/leopauly/leeds_reordered/push')\n",
    "#print(baseline_dist_)\n",
    "baseline_plot_dis.append([baseline_dist_])\n",
    "baseline_plot_angle_dis.append([baseline_angle_])\n",
    "\n",
    "baseline_dist_,baseline_angle_=dist_angle_calc('/nobackup/leopauly/leeds_reordered/hit','/nobackup/leopauly/leeds_reordered/reach')\n",
    "baseline_plot_dis.append([baseline_dist_])\n",
    "baseline_plot_angle_dis.append([baseline_angle_])\n",
    "\n",
    "baseline_dist_,baseline_angle_=dist_angle_calc('/nobackup/leopauly/leeds_reordered/push','/nobackup/leopauly/leeds_reordered/reach')\n",
    "baseline_plot_dis.append([baseline_dist_])\n",
    "baseline_plot_angle_dis.append([baseline_angle_])\n",
    "\n",
    "baseline_dist_,baseline_angle_=dist_angle_calc('/nobackup/leopauly/leeds_reordered/pour','/nobackup/leopauly/leeds_reordered/reach')\n",
    "baseline_plot_dis.append([baseline_dist_])\n",
    "baseline_plot_angle_dis.append([baseline_angle_])\n",
    "\n",
    "baseline_dist_,baseline_angle_=dist_angle_calc('/nobackup/leopauly/leeds_reordered/pour','/nobackup/leopauly/leeds_reordered/hit')\n",
    "baseline_plot_dis.append([baseline_dist_])\n",
    "baseline_plot_angle_dis.append([baseline_angle_])\n",
    "\n",
    "baseline_dist_,baseline_angle_=dist_angle_calc('/nobackup/leopauly/leeds_reordered/pour','/nobackup/leopauly/leeds_reordered/push')\n",
    "baseline_plot_dis.append([baseline_dist_])\n",
    "baseline_plot_angle_dis.append([baseline_angle_])"
   ]
  },
  {
   "cell_type": "code",
   "execution_count": 13,
   "metadata": {},
   "outputs": [
    {
     "name": "stdout",
     "output_type": "stream",
     "text": [
      "[ 295.05267334  313.3454895   316.41204834  242.88046265  289.18533325\n",
      "  227.8245697   244.04161072  241.95092773  199.08865356  212.0065155\n",
      "  248.15762329  252.45462036  259.82382202  175.72647095  231.84558105\n",
      "  195.94268799  204.06741333  220.56758118  256.58474731  246.73564148\n",
      "  160.85638428  181.78250122  188.72138977  213.67837524  207.77778625\n",
      "  323.69207764  320.63653564  307.14123535  326.94274902  316.14138794\n",
      "  298.20251465  304.1338501   291.35516357  296.94223022  265.17333984\n",
      "  300.26446533  306.00802612  284.53189087  295.46005249  279.39660645\n",
      "  215.97355652  242.83326721  218.41304016  223.63943481  208.62808228\n",
      "  228.4067688   239.220047    221.48390198  222.96585083  196.34835815\n",
      "  215.63816833  221.77012634  222.37689209  221.50364685  154.07318115\n",
      "  200.35227966  216.46569824  209.02685547  199.71510315  162.11161804\n",
      "  243.70582581  256.69363403  247.07559204  233.35243225  205.74932861\n",
      "  311.66506958  318.98623657  297.55447388  300.48779297  275.29858398\n",
      "  256.66891479  263.39953613  257.28057861  255.06819153  221.12083435\n",
      "  288.62741089  299.08300781  295.36035156  298.3057251   309.82894897\n",
      "  391.09414673  400.52786255  387.54553223  384.31347656  393.4206543\n",
      "  336.93774414  344.69750977  336.86288452  330.45724487  337.56478882\n",
      "  302.20388794  304.85372925  311.42657471  316.01177979  310.51217651\n",
      "  390.26242065  392.64584351  381.29711914  386.74435425  391.23846436\n",
      "  368.04269409  335.57202148  356.13589478  314.13464355  295.26828003\n",
      "  446.57427979  413.61529541  435.50839233  397.97036743  384.1368103\n",
      "  409.79870605  378.34384155  392.28207397  354.15710449  339.22988892\n",
      "  370.48040771  344.48880005  357.00216675  325.30114746  304.0098877\n",
      "  419.11862183  390.175354    417.79049683  394.63439941  370.96478271\n",
      "  332.93041992  322.18151855  323.02120972  369.26272583  350.23458862\n",
      "  415.61550903  409.33810425  402.84292603  438.52706909  422.90341187\n",
      "  367.29425049  355.17562866  340.43109131  391.55627441  371.22805786\n",
      "  330.11553955  321.34811401  318.04202271  365.31362915  346.57528687\n",
      "  406.59378052  406.28112793  398.46252441  427.70413208  417.93139648]\n",
      "(150,)\n"
     ]
    }
   ],
   "source": [
    "baseline_plot_dis=np.array(baseline_plot_dis)\n",
    "baseline_plot_dis=baseline_plot_dis.reshape(150)\n",
    "print(baseline_plot_dis)\n",
    "print(baseline_plot_dis.shape)"
   ]
  },
  {
   "cell_type": "code",
   "execution_count": 14,
   "metadata": {},
   "outputs": [
    {
     "name": "stdout",
     "output_type": "stream",
     "text": [
      "[ 0.59734566  0.63406209  0.64496199  0.48107092  0.57524433  0.47270491\n",
      "  0.50514045  0.5055551   0.40080837  0.4277548   0.50475833  0.5122802\n",
      "  0.53130067  0.34895204  0.46236035  0.40475278  0.42014919  0.45907133\n",
      "  0.52015303  0.49964006  0.33430832  0.37739578  0.39884131  0.43309882\n",
      "  0.42034029  0.65666263  0.65225598  0.62349462  0.66108324  0.64601503\n",
      "  0.6218798   0.6373672   0.60939797  0.6161303   0.55722581  0.61311987\n",
      "  0.62737236  0.58167993  0.60063048  0.57407827  0.44588872  0.5046487\n",
      "  0.45272804  0.45967163  0.43524076  0.48039287  0.50711437  0.46782914\n",
      "  0.46504003  0.41779266  0.44280929  0.45736683  0.45844204  0.45297048\n",
      "  0.31795256  0.40958682  0.44463837  0.42893547  0.40650172  0.33322046\n",
      "  0.50408117  0.5338042   0.51309597  0.47981762  0.42883529  0.63237539\n",
      "  0.64987571  0.60436313  0.60668157  0.56044006  0.5176141   0.53307219\n",
      "  0.52015455  0.51259579  0.44685776  0.62517802  0.65913015  0.64854729\n",
      "  0.64373571  0.69811914  0.86177824  0.8892129   0.85737867  0.84030008\n",
      "  0.88006101  0.74835519  0.77343604  0.75299781  0.72583698  0.7647002\n",
      "  0.63217928  0.65046311  0.67088661  0.66688155  0.68497165  0.89966881\n",
      "  0.9130399   0.88103388  0.88232523  0.92081259  0.8031631   0.76552153\n",
      "  0.78560741  0.70528932  0.69623418  0.97041152  0.92861842  0.95473687\n",
      "  0.88785713  0.88551078  0.9040901   0.86799793  0.87217718  0.80305923\n",
      "  0.80173516  0.80620731  0.79286264  0.78300292  0.72640251  0.720106\n",
      "  0.9438258   0.91690174  0.95539414  0.92550459  0.90592097  0.7455785\n",
      "  0.71161349  0.72777691  0.80888345  0.75865536  0.92334639  0.90383881\n",
      "  0.89887157  0.95288768  0.9154079   0.82795478  0.79225605  0.7672876\n",
      "  0.85984643  0.80854511  0.72781476  0.69126526  0.70139516  0.79317098\n",
      "  0.73308655  0.94806772  0.94112852  0.93492933  0.97018298  0.943465  ]\n",
      "(150,)\n"
     ]
    }
   ],
   "source": [
    "baseline_plot_angle_dis=np.array(baseline_plot_angle_dis)\n",
    "baseline_plot_angle_dis=baseline_plot_angle_dis.reshape(150)\n",
    "print(baseline_plot_angle_dis)\n",
    "print(baseline_plot_angle_dis.shape)"
   ]
  },
  {
   "cell_type": "code",
   "execution_count": 15,
   "metadata": {},
   "outputs": [
    {
     "data": {
      "image/png": "[encoded data removed]",
      "text/plain": [
       "<matplotlib.figure.Figure at 0x2b9c1b6c25f8>"
      ]
     },
     "metadata": {},
     "output_type": "display_data"
    }
   ],
   "source": [
    "## Plotting\n",
    "plt.plot(baseline_plot_sim,'ro')\n",
    "plt.plot(baseline_plot_dis,'x')\n",
    "plt.ylabel('Distance')\n",
    "plt.show()"
   ]
  },
  {
   "cell_type": "code",
   "execution_count": 16,
   "metadata": {},
   "outputs": [
    {
     "data": {
      "image/png": "[encoded data removed]",
      "text/plain": [
       "<matplotlib.figure.Figure at 0x2b9c27f7ba20>"
      ]
     },
     "metadata": {},
     "output_type": "display_data"
    }
   ],
   "source": [
    "## Plotting\n",
    "plt.plot(baseline_plot_angle_sim,'ro')\n",
    "plt.plot(baseline_plot_angle_dis,'x')\n",
    "plt.ylabel('angle')\n",
    "plt.show()"
   ]
  },
  {
   "cell_type": "code",
   "execution_count": null,
   "metadata": {
    "collapsed": true
   },
   "outputs": [],
   "source": []
  }
 ],
 "metadata": {
  "kernelspec": {
   "display_name": "Python 3",
   "language": "python",
   "name": "python3"
  },
  "language_info": {
   "codemirror_mode": {
    "name": "ipython",
    "version": 3
   },
   "file_extension": ".py",
   "mimetype": "text/x-python",
   "name": "python",
   "nbconvert_exporter": "python",
   "pygments_lexer": "ipython3",
   "version": "3.6.1"
  }
 },
 "nbformat": 4,
 "nbformat_minor": 2
}
