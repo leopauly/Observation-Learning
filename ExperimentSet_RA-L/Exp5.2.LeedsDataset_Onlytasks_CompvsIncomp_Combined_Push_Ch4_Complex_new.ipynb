{
 "cells": [
  {
   "cell_type": "markdown",
   "metadata": {
    "collapsed": true
   },
   "source": [
    "### Exp5.2.L_LeedsDataset_Onlytasks_CompvsIncomp_Combined_Push_Complex_new\n",
    "Author : @leopauly | cnlp@leeds.ac.uk <br>\n",
    "Description : Studying the feature vectors in the feature space using Leeds Action Dataset"
   ]
  },
  {
   "cell_type": "code",
   "execution_count": 1,
   "metadata": {},
   "outputs": [
    {
     "name": "stderr",
     "output_type": "stream",
     "text": [
      "Using TensorFlow backend.\n"
     ]
    }
   ],
   "source": [
    "import os\n",
    "from six.moves import xrange  \n",
    "import PIL.Image as Image\n",
    "import random\n",
    "import numpy as np\n",
    "import cv2\n",
    "import time\n",
    "import math\n",
    "import matplotlib.pyplot as plt\n",
    "import tensorflow as tf\n",
    "from keras import backend as K\n",
    "from sklearn.decomposition import PCA\n",
    "from sklearn.manifold import TSNE\n",
    "from skimage import io\n",
    "import warnings\n",
    "warnings.filterwarnings('ignore')\n",
    "\n",
    "# Custom scripts\n",
    "import lscript as lsp\n",
    "import modelling as md"
   ]
  },
  {
   "cell_type": "code",
   "execution_count": 2,
   "metadata": {
    "collapsed": true
   },
   "outputs": [],
   "source": [
    "height=112 \n",
    "width=112 \n",
    "channel=3\n",
    "crop_size=112\n",
    "\n",
    "cluster_length=16\n",
    "feature_size=8192 \n",
    "nb_classes=2\n",
    "saved_path='/nobackup/leopauly/S2l/'\n",
    "\n",
    "batch_size=32\n",
    "memory_batch_size_train=266\n",
    "memory_batch_size_test=170\n",
    "next_batch_start=0\n",
    "sample_batch_size=10"
   ]
  },
  {
   "cell_type": "markdown",
   "metadata": {},
   "source": [
    "####  Loading model"
   ]
  },
  {
   "cell_type": "code",
   "execution_count": 3,
   "metadata": {},
   "outputs": [
    {
     "name": "stdout",
     "output_type": "stream",
     "text": [
      "_________________________________________________________________\n",
      "Layer (type)                 Output Shape              Param #   \n",
      "=================================================================\n",
      "conv1 (Conv3D)               (None, 16, 112, 112, 64)  5248      \n",
      "_________________________________________________________________\n",
      "pool1 (MaxPooling3D)         (None, 16, 56, 56, 64)    0         \n",
      "_________________________________________________________________\n",
      "conv2 (Conv3D)               (None, 16, 56, 56, 128)   221312    \n",
      "_________________________________________________________________\n",
      "pool2 (MaxPooling3D)         (None, 8, 28, 28, 128)    0         \n",
      "_________________________________________________________________\n",
      "conv3a (Conv3D)              (None, 8, 28, 28, 256)    884992    \n",
      "_________________________________________________________________\n",
      "conv3b (Conv3D)              (None, 8, 28, 28, 256)    1769728   \n",
      "_________________________________________________________________\n",
      "pool3 (MaxPooling3D)         (None, 4, 14, 14, 256)    0         \n",
      "_________________________________________________________________\n",
      "conv4a (Conv3D)              (None, 4, 14, 14, 512)    3539456   \n",
      "_________________________________________________________________\n",
      "conv4b (Conv3D)              (None, 4, 14, 14, 512)    7078400   \n",
      "_________________________________________________________________\n",
      "pool4 (MaxPooling3D)         (None, 2, 7, 7, 512)      0         \n",
      "_________________________________________________________________\n",
      "conv5a (Conv3D)              (None, 2, 7, 7, 512)      7078400   \n",
      "_________________________________________________________________\n",
      "conv5b (Conv3D)              (None, 2, 7, 7, 512)      7078400   \n",
      "_________________________________________________________________\n",
      "zeropad5 (ZeroPadding3D)     (None, 2, 8, 8, 512)      0         \n",
      "_________________________________________________________________\n",
      "pool5 (MaxPooling3D)         (None, 1, 4, 4, 512)      0         \n",
      "_________________________________________________________________\n",
      "flatten_1 (Flatten)          (None, 8192)              0         \n",
      "_________________________________________________________________\n",
      "fc6 (Dense)                  (None, 4096)              33558528  \n",
      "_________________________________________________________________\n",
      "dropout_1 (Dropout)          (None, 4096)              0         \n",
      "_________________________________________________________________\n",
      "fc7 (Dense)                  (None, 4096)              16781312  \n",
      "_________________________________________________________________\n",
      "dropout_2 (Dropout)          (None, 4096)              0         \n",
      "_________________________________________________________________\n",
      "fc8 (Dense)                  (None, 101)               413797    \n",
      "=================================================================\n",
      "Total params: 78,409,573\n",
      "Trainable params: 78,409,573\n",
      "Non-trainable params: 0\n",
      "_________________________________________________________________\n",
      "None\n",
      "Miscellenious items finished..!!\n"
     ]
    }
   ],
   "source": [
    "## Defining placeholders in tf for images and targets\n",
    "x_image = tf.placeholder(tf.float32, [None, 16,height,width,channel],name='x') \n",
    "y_true = tf.placeholder(tf.float32, [None, nb_classes],name='y_true')\n",
    "y_true_cls = tf.placeholder(tf.int64, [None],name='y_true_cls')\n",
    "\n",
    "model_keras = md.C3D_ucf101_training_model_tf(summary=True)\n",
    "out=model_keras(x_image)\n",
    "y_pred = tf.nn.softmax(out)\n",
    "y_pred_cls = tf.argmax(out, dimension=1)\n",
    "correct_prediction = tf.equal(y_pred_cls, y_true_cls)\n",
    "accuracy = tf.reduce_mean(tf.cast(correct_prediction, tf.float32))\n",
    "\n",
    "print('Miscellenious items finished..!!',flush=True)"
   ]
  },
  {
   "cell_type": "markdown",
   "metadata": {},
   "source": [
    "####  Feature extraction and Distance calculation"
   ]
  },
  {
   "cell_type": "code",
   "execution_count": 4,
   "metadata": {},
   "outputs": [
    {
     "name": "stdout",
     "output_type": "stream",
     "text": [
      "INFO:tensorflow:Restoring parameters from /nobackup/leopauly/S2l/activity_model.ckpt-67\n",
      "Model restored from file: /nobackup/leopauly/S2l/\n"
     ]
    }
   ],
   "source": [
    "## Start the session with logging placement.\n",
    "init_op = tf.global_variables_initializer()\n",
    "sess = tf.Session(config=tf.ConfigProto(allow_soft_placement=True, log_device_placement=False))\n",
    "sess.run(init_op)\n",
    "\n",
    "## Restore model weights from previously saved model\n",
    "saver = tf.train.Saver()\n",
    "saver.restore(sess, os.path.join(saved_path,'activity_model.ckpt-67'))\n",
    "print(\"Model restored from file: %s\" % saved_path,flush=True)"
   ]
  },
  {
   "cell_type": "code",
   "execution_count": 5,
   "metadata": {
    "collapsed": true
   },
   "outputs": [],
   "source": [
    "## Uniform sampling of frames\n",
    "def get_compress_frames_data(filename, num_frames_per_clip=16):\n",
    "  ''' Given a directory containing extracted frames, return a video clip of\n",
    "  (num_frames_per_clip) consecutive frames as a list of np arrays '''\n",
    "  ret_arr = []\n",
    "  for parent, dirnames, filenames in os.walk(filename):\n",
    "\n",
    "    filenames = sorted(filenames)\n",
    "    jump=math.floor((len(filenames)/num_frames_per_clip))\n",
    "    loop=0\n",
    "    for i in range(0,len(filenames),jump):\n",
    "      if (loop>15):\n",
    "        break\n",
    "      if (filenames[i].endswith('.png')):\n",
    "        image_name = str(filename) + '/' + str(filenames[i])\n",
    "        img = Image.open(image_name)\n",
    "        img_data = np.array(img)\n",
    "        ret_arr.append(img_data)\n",
    "        loop=loop+1\n",
    "  ret_arr=np.array(ret_arr) #ret_arr=ret_arr/255\n",
    "  return np.array(ret_arr)"
   ]
  },
  {
   "cell_type": "code",
   "execution_count": 6,
   "metadata": {
    "collapsed": true
   },
   "outputs": [],
   "source": [
    "## Extraction of features \n",
    "def extract_video_features(vid):\n",
    "    vid_=vid.reshape(-1,cluster_length,height,width,channel)\n",
    "    f_v = sess.graph.get_tensor_by_name('flatten_1/Reshape:0') \n",
    "    f_v_val=sess.run([f_v], feed_dict={'conv1_input:0':vid_,x_image:vid_,K.learning_phase(): 0 })\n",
    "    features=np.reshape(f_v_val,(-1))\n",
    "    return features"
   ]
  },
  {
   "cell_type": "code",
   "execution_count": 7,
   "metadata": {
    "scrolled": true
   },
   "outputs": [
    {
     "name": "stdout",
     "output_type": "stream",
     "text": [
      "Sub directories: ['reach_demo_0deg', 'reach_demo_180deg', 'reach_demo_green', 'reach_human', 'reach_robo', 'reach_robo_M2', 'reach_robo_M3', 'reach_robo_arbview1', 'reach_robo_bg', 'reach_robo_bg_change_target', 'reach_robo_change_pos', 'reach_robo_comp0', 'reach_robo_comp1', 'reach_robo_fast', 'reach_robo_obj2', 'reach_robo_sideview_new']\n",
      "\n",
      "Sub directories: ['push_demo_0deg', 'push_demo_180deg', 'push_demo_human', 'push_robo', 'push_robo_M2', 'push_robo_M3', 'push_robo_arbview1', 'push_robo_bg_fast', 'push_robo_change_pos', 'push_robo_changetarget', 'push_robo_comp0', 'push_robo_comp1', 'push_robo_fast', 'push_robo_green', 'push_robo_obj2_new', 'push_robo_sideview']\n",
      "\n",
      "Inter class variance bw class 1 and class 2: 295.575038791\n",
      "Number of combinations: (256,)\n"
     ]
    }
   ],
   "source": [
    "## Calculating distance\n",
    "\n",
    "dist_dif=[]\n",
    "\n",
    "base_dir_a='/nobackup/leopauly/S2l/Dataset/Ch4/Leeds_Dataset_Complex_new/Reach/'\n",
    "sub_dir_a=os.listdir(base_dir_a)\n",
    "sub_dir_a=sorted(sub_dir_a)\n",
    "if '.DS_Store' in sub_dir_a:\n",
    "    sub_dir_a.remove('.DS_Store')\n",
    "print('Sub directories:',sub_dir_a)\n",
    "\n",
    "base_dir_b='/nobackup/leopauly/S2l/Dataset/Ch4/Leeds_Dataset_Complex_new/Push/'\n",
    "sub_dir_b=os.listdir(base_dir_b)\n",
    "sub_dir_b=sorted(sub_dir_b)\n",
    "if '.DS_Store' in sub_dir_b:\n",
    "    sub_dir_b.remove('.DS_Store')\n",
    "print('\\nSub directories:',sub_dir_b)\n",
    "\n",
    "for sub_dir_a_ in sub_dir_a:\n",
    "        #print(sub_dir_a_)\n",
    "        vid_a=get_compress_frames_data(base_dir_a+sub_dir_a_)\n",
    "        \n",
    "        for sub_dir_b_ in sub_dir_b:\n",
    "            #print(sub_dir_b_)\n",
    "            vid_b=get_compress_frames_data(base_dir_b+sub_dir_b_)\n",
    "            feature_dist=np.linalg.norm(extract_video_features(vid_a)-extract_video_features(vid_b))\n",
    "            dist_dif.append(feature_dist)\n",
    "\n",
    "\n",
    "## Calculating inter-class variance\n",
    "inter_var=sum(dist_dif)/len(dist_dif)\n",
    "print('\\nInter class variance bw class 1 and class 2:',inter_var)\n",
    "print('Number of combinations:',np.array(dist_dif).shape)\n",
    "\n",
    "inter1=inter_var"
   ]
  },
  {
   "cell_type": "code",
   "execution_count": 8,
   "metadata": {},
   "outputs": [
    {
     "name": "stdout",
     "output_type": "stream",
     "text": [
      "Sub directories: ['push_demo_0deg', 'push_demo_180deg', 'push_demo_human', 'push_robo', 'push_robo_M2', 'push_robo_M3', 'push_robo_arbview1', 'push_robo_bg_fast', 'push_robo_change_pos', 'push_robo_changetarget', 'push_robo_comp0', 'push_robo_comp1', 'push_robo_fast', 'push_robo_green', 'push_robo_obj2_new', 'push_robo_sideview']\n",
      "\n",
      "Sub directories: ['push_demo_0deg', 'push_demo_180deg', 'push_demo_human', 'push_robo', 'push_robo_M2', 'push_robo_M3', 'push_robo_arbview1', 'push_robo_bg_fast', 'push_robo_change_pos', 'push_robo_changetarget', 'push_robo_comp0', 'push_robo_comp1', 'push_robo_fast', 'push_robo_green', 'push_robo_obj2_new', 'push_robo_sideview']\n",
      "\n",
      "Inter class variance bw class : 288.313766797\n",
      "Number of combinations: (240,)\n"
     ]
    }
   ],
   "source": [
    "## DISTANCE CALCULATION\n",
    "\n",
    "dist_sim_class=[]\n",
    "\n",
    "base_dir_a='/nobackup/leopauly/S2l/Dataset/Ch4/Leeds_Dataset_Complex_new/Push/'\n",
    "sub_dir_a=os.listdir(base_dir_a)\n",
    "sub_dir_a=sorted(sub_dir_a)\n",
    "if '.DS_Store' in sub_dir_a:\n",
    "    sub_dir_a.remove('.DS_Store')\n",
    "print('Sub directories:',sub_dir_a)\n",
    "\n",
    "base_dir_b='/nobackup/leopauly/S2l/Dataset/Ch4/Leeds_Dataset_Complex_new/Push/'\n",
    "sub_dir_b=os.listdir(base_dir_b)\n",
    "sub_dir_b=sorted(sub_dir_b)\n",
    "if '.DS_Store' in sub_dir_b:\n",
    "    sub_dir_b.remove('.DS_Store')\n",
    "print('\\nSub directories:',sub_dir_b)\n",
    "\n",
    "## Calculating Distances\n",
    "for sub_dir_a_ in sub_dir_a:\n",
    "        #print(sub_dir_a_)\n",
    "        vid_a=get_compress_frames_data(base_dir_a+sub_dir_a_)\n",
    "        \n",
    "        for sub_dir_b_ in sub_dir_b:\n",
    "            #print(sub_dir_b_)\n",
    "            if(sub_dir_a_!=sub_dir_b_):\n",
    "                vid_b=get_compress_frames_data(base_dir_b+sub_dir_b_)\n",
    "                feature_dist=np.linalg.norm(extract_video_features(vid_a)-extract_video_features(vid_b))\n",
    "                dist_sim_class.append(feature_dist)\n",
    "\n",
    "            \n",
    "## Calculating intra-class variance\n",
    "dist_sim_class_nozero=dist_sim_class\n",
    "intra_var_class=sum(dist_sim_class_nozero)/len(dist_sim_class_nozero)\n",
    "print('\\nInter class variance bw class :',intra_var_class)\n",
    "print('Number of combinations:',np.shape(dist_sim_class_nozero))\n",
    "\n",
    "intra=intra_var_class"
   ]
  },
  {
   "cell_type": "code",
   "execution_count": 9,
   "metadata": {},
   "outputs": [
    {
     "name": "stdout",
     "output_type": "stream",
     "text": [
      "Sub directories: ['Multi_robo_M3', 'multi_demo_0deg', 'multi_demo_180deg', 'multi_robo', 'multi_robo_M2', 'multi_robo_arbview1', 'multi_robo_bg', 'multi_robo_change_pos', 'multi_robo_change_target', 'multi_robo_comp0', 'multi_robo_comp1', 'multi_robo_fast_new', 'multi_robo_human_new', 'multi_robo_obj', 'multi_robo_obj2', 'multi_robo_sideview']\n",
      "\n",
      "Sub directories: ['push_demo_0deg', 'push_demo_180deg', 'push_demo_human', 'push_robo', 'push_robo_M2', 'push_robo_M3', 'push_robo_arbview1', 'push_robo_bg_fast', 'push_robo_change_pos', 'push_robo_changetarget', 'push_robo_comp0', 'push_robo_comp1', 'push_robo_fast', 'push_robo_green', 'push_robo_obj2_new', 'push_robo_sideview']\n",
      "\n",
      "Inter class variance bw class 1 and class 2: 319.171940207\n",
      "Number of combinations: (256,)\n"
     ]
    }
   ],
   "source": [
    "## Calculating distance\n",
    "\n",
    "dist_dif=[]\n",
    "\n",
    "base_dir_a='/nobackup/leopauly/S2l/Dataset/Ch4/Leeds_Dataset_Complex_new/Reach n Push/'\n",
    "sub_dir_a=os.listdir(base_dir_a)\n",
    "sub_dir_a=sorted(sub_dir_a)\n",
    "if '.DS_Store' in sub_dir_a:\n",
    "    sub_dir_a.remove('.DS_Store')\n",
    "print('Sub directories:',sub_dir_a)\n",
    "\n",
    "base_dir_b='/nobackup/leopauly/S2l/Dataset/Ch4/Leeds_Dataset_Complex_new/Push/'\n",
    "sub_dir_b=os.listdir(base_dir_b)\n",
    "sub_dir_b=sorted(sub_dir_b)\n",
    "if '.DS_Store' in sub_dir_b:\n",
    "    sub_dir_b.remove('.DS_Store')\n",
    "print('\\nSub directories:',sub_dir_b)\n",
    "\n",
    "for sub_dir_a_ in sub_dir_a:\n",
    "        #print(sub_dir_a_)\n",
    "        vid_a=get_compress_frames_data(base_dir_a+sub_dir_a_)\n",
    "        \n",
    "        for sub_dir_b_ in sub_dir_b:\n",
    "            #print(sub_dir_b_)\n",
    "            vid_b=get_compress_frames_data(base_dir_b+sub_dir_b_)\n",
    "            feature_dist=np.linalg.norm(extract_video_features(vid_a)-extract_video_features(vid_b))\n",
    "            dist_dif.append(feature_dist)\n",
    "\n",
    "\n",
    "## Calculating inter-class variance\n",
    "inter_var=sum(dist_dif)/len(dist_dif)\n",
    "print('\\nInter class variance bw class 1 and class 2:',inter_var)\n",
    "print('Number of combinations:',np.array(dist_dif).shape)\n",
    "\n",
    "inter2=inter_var"
   ]
  },
  {
   "cell_type": "code",
   "execution_count": 10,
   "metadata": {},
   "outputs": [
    {
     "name": "stdout",
     "output_type": "stream",
     "text": [
      "0.9754\n",
      "--- 1.0\n",
      "0.9033\n"
     ]
    }
   ],
   "source": [
    "##Ratios\n",
    "print(round(intra/inter1,4))\n",
    "print('---',round(intra/intra,4))\n",
    "print(round(intra/inter2,4))"
   ]
  },
  {
   "cell_type": "code",
   "execution_count": null,
   "metadata": {
    "collapsed": true
   },
   "outputs": [],
   "source": []
  }
 ],
 "metadata": {
  "kernelspec": {
   "display_name": "Python 3",
   "language": "python",
   "name": "python3"
  },
  "language_info": {
   "codemirror_mode": {
    "name": "ipython",
    "version": 3
   },
   "file_extension": ".py",
   "mimetype": "text/x-python",
   "name": "python",
   "nbconvert_exporter": "python",
   "pygments_lexer": "ipython3",
   "version": "3.6.1"
  }
 },
 "nbformat": 4,
 "nbformat_minor": 2
}
