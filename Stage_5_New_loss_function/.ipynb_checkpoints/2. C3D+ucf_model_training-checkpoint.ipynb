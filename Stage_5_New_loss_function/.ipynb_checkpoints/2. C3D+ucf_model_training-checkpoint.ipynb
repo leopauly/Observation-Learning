{
 "cells": [
  {
   "cell_type": "markdown",
   "metadata": {},
   "source": [
    "### C3D+UCF_model_training\n",
    "Author : @leopauly | cnlp@leeds.ac.uk <br>\n",
    "Description : Training the C3D model using UCF 101 action recognition dataset"
   ]
  },
  {
   "cell_type": "code",
   "execution_count": 1,
   "metadata": {},
   "outputs": [
    {
     "name": "stderr",
     "output_type": "stream",
     "text": [
      "Using TensorFlow backend.\n"
     ]
    }
   ],
   "source": [
    "## Imports\n",
    "from keras.layers.convolutional import Convolution3D, MaxPooling3D, ZeroPadding3D\n",
    "from keras.layers.core import Dense, Dropout, Flatten\n",
    "from keras.models import Sequential\n",
    "import random\n",
    "import numpy as np\n",
    "from PIL import Image\n",
    "from os import listdir\n",
    "from scipy.ndimage import imread\n",
    "import keras\n",
    "\n",
    "# Custom scripts\n",
    "import lscript as lsp\n",
    "import modelling as md\n",
    "#from DataSet.DataSet import DataSet\n",
    "import dataset as dset\n",
    "import ucf101_dataset as ucf"
   ]
  },
  {
   "cell_type": "code",
   "execution_count": 2,
   "metadata": {},
   "outputs": [],
   "source": [
    "height=112 \n",
    "width=112 \n",
    "channel=3\n",
    "cluster_length=16\n",
    "nb_classes=101\n",
    "\n",
    "next_batch_start=0\n",
    "batch_size=8\n",
    "total_videos=13320\n",
    "memory_batch_size=13000\n",
    "iterations=(int(total_videos/memory_batch_size)) #10001\n",
    "epoch=int((memory_batch_size/batch_size)*10)"
   ]
  },
  {
   "cell_type": "markdown",
   "metadata": {},
   "source": [
    "#### Getting the model"
   ]
  },
  {
   "cell_type": "code",
   "execution_count": 3,
   "metadata": {},
   "outputs": [
    {
     "name": "stderr",
     "output_type": "stream",
     "text": [
      "/home/ufaserv1_f/cnlp/Seeing_to_Learn/Observation-Learning/Stage_5_New_loss_function /modelling.py:334: UserWarning: Update your `Conv3D` call to the Keras 2 API: `Conv3D(64, (3, 3, 3), activation=\"relu\", name=\"conv1\", input_shape=(16, 112, ..., padding=\"same\")`\n",
      "  input_shape=input_shape))\n",
      "/home/ufaserv1_f/cnlp/Seeing_to_Learn/Observation-Learning/Stage_5_New_loss_function /modelling.py:336: UserWarning: Update your `MaxPooling3D` call to the Keras 2 API: `MaxPooling3D(pool_size=(1, 2, 2), strides=(1, 2, 2), name=\"pool1\", padding=\"valid\")`\n",
      "  border_mode='valid', name='pool1'))\n",
      "/home/ufaserv1_f/cnlp/Seeing_to_Learn/Observation-Learning/Stage_5_New_loss_function /modelling.py:339: UserWarning: Update your `Conv3D` call to the Keras 2 API: `Conv3D(128, (3, 3, 3), activation=\"relu\", name=\"conv2\", padding=\"same\")`\n",
      "  border_mode='same', name='conv2'))\n",
      "/home/ufaserv1_f/cnlp/Seeing_to_Learn/Observation-Learning/Stage_5_New_loss_function /modelling.py:341: UserWarning: Update your `MaxPooling3D` call to the Keras 2 API: `MaxPooling3D(pool_size=(2, 2, 2), strides=(2, 2, 2), name=\"pool2\", padding=\"valid\")`\n",
      "  border_mode='valid', name='pool2'))\n",
      "/home/ufaserv1_f/cnlp/Seeing_to_Learn/Observation-Learning/Stage_5_New_loss_function /modelling.py:344: UserWarning: Update your `Conv3D` call to the Keras 2 API: `Conv3D(256, (3, 3, 3), activation=\"relu\", name=\"conv3a\", padding=\"same\")`\n",
      "  border_mode='same', name='conv3a'))\n",
      "/home/ufaserv1_f/cnlp/Seeing_to_Learn/Observation-Learning/Stage_5_New_loss_function /modelling.py:346: UserWarning: Update your `Conv3D` call to the Keras 2 API: `Conv3D(256, (3, 3, 3), activation=\"relu\", name=\"conv3b\", padding=\"same\")`\n",
      "  border_mode='same', name='conv3b'))\n",
      "/home/ufaserv1_f/cnlp/Seeing_to_Learn/Observation-Learning/Stage_5_New_loss_function /modelling.py:348: UserWarning: Update your `MaxPooling3D` call to the Keras 2 API: `MaxPooling3D(pool_size=(2, 2, 2), strides=(2, 2, 2), name=\"pool3\", padding=\"valid\")`\n",
      "  border_mode='valid', name='pool3'))\n",
      "/home/ufaserv1_f/cnlp/Seeing_to_Learn/Observation-Learning/Stage_5_New_loss_function /modelling.py:351: UserWarning: Update your `Conv3D` call to the Keras 2 API: `Conv3D(512, (3, 3, 3), activation=\"relu\", name=\"conv4a\", padding=\"same\")`\n",
      "  border_mode='same', name='conv4a'))\n",
      "/home/ufaserv1_f/cnlp/Seeing_to_Learn/Observation-Learning/Stage_5_New_loss_function /modelling.py:353: UserWarning: Update your `Conv3D` call to the Keras 2 API: `Conv3D(512, (3, 3, 3), activation=\"relu\", name=\"conv4b\", padding=\"same\")`\n",
      "  border_mode='same', name='conv4b'))\n",
      "/home/ufaserv1_f/cnlp/Seeing_to_Learn/Observation-Learning/Stage_5_New_loss_function /modelling.py:355: UserWarning: Update your `MaxPooling3D` call to the Keras 2 API: `MaxPooling3D(pool_size=(2, 2, 2), strides=(2, 2, 2), name=\"pool4\", padding=\"valid\")`\n",
      "  border_mode='valid', name='pool4'))\n",
      "/home/ufaserv1_f/cnlp/Seeing_to_Learn/Observation-Learning/Stage_5_New_loss_function /modelling.py:358: UserWarning: Update your `Conv3D` call to the Keras 2 API: `Conv3D(512, (3, 3, 3), activation=\"relu\", name=\"conv5a\", padding=\"same\")`\n",
      "  border_mode='same', name='conv5a'))\n",
      "/home/ufaserv1_f/cnlp/Seeing_to_Learn/Observation-Learning/Stage_5_New_loss_function /modelling.py:360: UserWarning: Update your `Conv3D` call to the Keras 2 API: `Conv3D(512, (3, 3, 3), activation=\"relu\", name=\"conv5b\", padding=\"same\")`\n",
      "  border_mode='same', name='conv5b'))\n"
     ]
    },
    {
     "name": "stdout",
     "output_type": "stream",
     "text": [
      "_________________________________________________________________\n",
      "Layer (type)                 Output Shape              Param #   \n",
      "=================================================================\n",
      "conv1 (Conv3D)               (None, 16, 112, 112, 64)  5248      \n",
      "_________________________________________________________________\n",
      "pool1 (MaxPooling3D)         (None, 16, 56, 56, 64)    0         \n",
      "_________________________________________________________________\n",
      "conv2 (Conv3D)               (None, 16, 56, 56, 128)   221312    \n",
      "_________________________________________________________________\n",
      "pool2 (MaxPooling3D)         (None, 8, 28, 28, 128)    0         \n",
      "_________________________________________________________________\n",
      "conv3a (Conv3D)              (None, 8, 28, 28, 256)    884992    \n",
      "_________________________________________________________________\n",
      "conv3b (Conv3D)              (None, 8, 28, 28, 256)    1769728   \n",
      "_________________________________________________________________\n",
      "pool3 (MaxPooling3D)         (None, 4, 14, 14, 256)    0         \n",
      "_________________________________________________________________\n",
      "conv4a (Conv3D)              (None, 4, 14, 14, 512)    3539456   \n",
      "_________________________________________________________________\n",
      "conv4b (Conv3D)              (None, 4, 14, 14, 512)    7078400   \n",
      "_________________________________________________________________\n",
      "pool4 (MaxPooling3D)         (None, 2, 7, 7, 512)      0         \n",
      "_________________________________________________________________\n",
      "conv5a (Conv3D)              (None, 2, 7, 7, 512)      7078400   \n",
      "_________________________________________________________________\n",
      "conv5b (Conv3D)              (None, 2, 7, 7, 512)      7078400   \n",
      "_________________________________________________________________\n",
      "zeropad5 (ZeroPadding3D)     (None, 2, 8, 8, 512)      0         \n",
      "_________________________________________________________________\n",
      "pool5 (MaxPooling3D)         (None, 1, 4, 4, 512)      0         \n",
      "_________________________________________________________________\n",
      "flatten_1 (Flatten)          (None, 8192)              0         \n",
      "_________________________________________________________________\n",
      "fc6 (Dense)                  (None, 4096)              33558528  \n",
      "_________________________________________________________________\n",
      "dropout_1 (Dropout)          (None, 4096)              0         \n",
      "_________________________________________________________________\n",
      "fc7 (Dense)                  (None, 4096)              16781312  \n",
      "_________________________________________________________________\n",
      "dropout_2 (Dropout)          (None, 4096)              0         \n",
      "_________________________________________________________________\n",
      "fc8 (Dense)                  (None, 101)               413797    \n",
      "=================================================================\n",
      "Total params: 78,409,573\n",
      "Trainable params: 78,409,573\n",
      "Non-trainable params: 0\n",
      "_________________________________________________________________\n",
      "None\n"
     ]
    },
    {
     "name": "stderr",
     "output_type": "stream",
     "text": [
      "/home/ufaserv1_f/cnlp/Seeing_to_Learn/Observation-Learning/Stage_5_New_loss_function /modelling.py:363: UserWarning: Update your `MaxPooling3D` call to the Keras 2 API: `MaxPooling3D(pool_size=(2, 2, 2), strides=(2, 2, 2), name=\"pool5\", padding=\"valid\")`\n",
      "  border_mode='valid', name='pool5'))\n"
     ]
    }
   ],
   "source": [
    "model = md.C3D_ucf101_training_model()"
   ]
  },
  {
   "cell_type": "code",
   "execution_count": 4,
   "metadata": {},
   "outputs": [],
   "source": [
    "adam=keras.optimizers.Adam(lr=0.001)\n",
    "model.compile(optimizer=adam,loss='categorical_crossentropy',metrics=['accuracy'])"
   ]
  },
  {
   "cell_type": "markdown",
   "metadata": {},
   "source": [
    "#### Training "
   ]
  },
  {
   "cell_type": "code",
   "execution_count": null,
   "metadata": {
    "collapsed": true
   },
   "outputs": [],
   "source": [
    "def testing(iterations):\n",
    "    test_images, test_labels_uncat, next_batch_start, _ = ucf. read_vid_and_label('UCF101_data_preparation/test.list',1000,-1,16,112,normalisation=True)\n",
    "    test_labels=keras.utils.to_categorical(test_labels_uncat, num_classes=nb_classes)\n",
    "    #print(test_images.shape)\n",
    "    print(test_labels_uncat)\n",
    "    score = model.evaluate(test_images, test_labels, batch_size=50)\n",
    "    print('Test accuracy after iteration ',iterations,'is:',score)\n"
   ]
  },
  {
   "cell_type": "code",
   "execution_count": null,
   "metadata": {
    "scrolled": true
   },
   "outputs": [
    {
     "name": "stdout",
     "output_type": "stream",
     "text": [
      "Loading /nobackup/leopauly/UCF101/UCF-101/BreastStroke/v_BreastStroke_g06_c01...\n",
      "Loading /nobackup/leopauly/UCF101/UCF-101/TrampolineJumping/v_TrampolineJumping_g05_c01...\n",
      "Loading /nobackup/leopauly/UCF101/UCF-101/Fencing/v_Fencing_g24_c02...\n",
      "Loading /nobackup/leopauly/UCF101/UCF-101/FieldHockeyPenalty/v_FieldHockeyPenalty_g24_c02...\n",
      "Loading /nobackup/leopauly/UCF101/UCF-101/CricketShot/v_CricketShot_g16_c03...\n",
      "Loading /nobackup/leopauly/UCF101/UCF-101/MoppingFloor/v_MoppingFloor_g08_c02...\n",
      "Loading /nobackup/leopauly/UCF101/UCF-101/PushUps/v_PushUps_g20_c01...\n",
      "Loading /nobackup/leopauly/UCF101/UCF-101/IceDancing/v_IceDancing_g25_c03...\n",
      "Loading /nobackup/leopauly/UCF101/UCF-101/PlayingFlute/v_PlayingFlute_g04_c03...\n",
      "Loading /nobackup/leopauly/UCF101/UCF-101/JumpRope/v_JumpRope_g18_c07...\n",
      "Loading /nobackup/leopauly/UCF101/UCF-101/Drumming/v_Drumming_g01_c06...\n",
      "Loading /nobackup/leopauly/UCF101/UCF-101/FrontCrawl/v_FrontCrawl_g08_c04...\n",
      "Loading /nobackup/leopauly/UCF101/UCF-101/PlayingViolin/v_PlayingViolin_g05_c03...\n",
      "Loading /nobackup/leopauly/UCF101/UCF-101/Mixing/v_Mixing_g06_c02...\n",
      "Loading /nobackup/leopauly/UCF101/UCF-101/RopeClimbing/v_RopeClimbing_g18_c01...\n",
      "Loading /nobackup/leopauly/UCF101/UCF-101/RockClimbingIndoor/v_RockClimbingIndoor_g09_c03...\n",
      "Loading /nobackup/leopauly/UCF101/UCF-101/WritingOnBoard/v_WritingOnBoard_g03_c05...\n",
      "Loading /nobackup/leopauly/UCF101/UCF-101/Archery/v_Archery_g05_c05...\n",
      "Loading /nobackup/leopauly/UCF101/UCF-101/PlayingDhol/v_PlayingDhol_g04_c03...\n",
      "Loading /nobackup/leopauly/UCF101/UCF-101/JavelinThrow/v_JavelinThrow_g25_c05...\n",
      "Loading /nobackup/leopauly/UCF101/UCF-101/WalkingWithDog/v_WalkingWithDog_g07_c03...\n",
      "Loading /nobackup/leopauly/UCF101/UCF-101/Skijet/v_Skijet_g01_c01...\n",
      "Loading /nobackup/leopauly/UCF101/UCF-101/PlayingGuitar/v_PlayingGuitar_g09_c02...\n",
      "Loading /nobackup/leopauly/UCF101/UCF-101/Kayaking/v_Kayaking_g21_c01...\n",
      "Loading /nobackup/leopauly/UCF101/UCF-101/BoxingSpeedBag/v_BoxingSpeedBag_g17_c03...\n",
      "Loading /nobackup/leopauly/UCF101/UCF-101/FrisbeeCatch/v_FrisbeeCatch_g08_c04...\n",
      "Loading /nobackup/leopauly/UCF101/UCF-101/PullUps/v_PullUps_g05_c04...\n",
      "Loading /nobackup/leopauly/UCF101/UCF-101/RockClimbingIndoor/v_RockClimbingIndoor_g06_c04...\n",
      "Loading /nobackup/leopauly/UCF101/UCF-101/BaseballPitch/v_BaseballPitch_g13_c03...\n",
      "Loading /nobackup/leopauly/UCF101/UCF-101/Punch/v_Punch_g17_c07...\n",
      "Loading /nobackup/leopauly/UCF101/UCF-101/SoccerJuggling/v_SoccerJuggling_g19_c02...\n"
     ]
    }
   ],
   "source": [
    "for i in range(iterations):\n",
    "    train_images, train_labels_uncat, next_batch_start, _ = ucf. read_vid_and_label('UCF101_data_preparation/train.list',memory_batch_size,-1,cluster_length,112,normalisation=True)\n",
    "    train_labels=keras.utils.to_categorical(train_labels_uncat, num_classes=nb_classes)\n",
    "    #print(train_images.shape)\n",
    "    #print(train_labels_uncat)\n",
    "    model.fit(train_images, train_labels,batch_size=batch_size, epochs=epoch, verbose=1,validation_split=0.25, validation_data=None, shuffle=True)\n",
    "    #print(next_batch_start)\n",
    "    testing(iterations)"
   ]
  },
  {
   "cell_type": "code",
   "execution_count": null,
   "metadata": {
    "collapsed": true
   },
   "outputs": [],
   "source": []
  }
 ],
 "metadata": {
  "kernelspec": {
   "display_name": "Python 3",
   "language": "python",
   "name": "python3"
  },
  "language_info": {
   "codemirror_mode": {
    "name": "ipython",
    "version": 3
   },
   "file_extension": ".py",
   "mimetype": "text/x-python",
   "name": "python",
   "nbconvert_exporter": "python",
   "pygments_lexer": "ipython3",
   "version": "3.6.1"
  }
 },
 "nbformat": 4,
 "nbformat_minor": 2
}
