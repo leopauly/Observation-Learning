{
 "cells": [
  {
   "cell_type": "markdown",
   "metadata": {},
   "source": [
    "### C3D+UCF_modelwithloss_training\n",
    "Author : @leopauly | cnlp@leeds.ac.uk <br>\n",
    "Description : Training the C3D model with new loss using UCF 101 action recognition dataset"
   ]
  },
  {
   "cell_type": "code",
   "execution_count": 1,
   "metadata": {},
   "outputs": [
    {
     "name": "stderr",
     "output_type": "stream",
     "text": [
      "Using TensorFlow backend.\n"
     ]
    }
   ],
   "source": [
    "## Imports\n",
    "from keras.layers.convolutional import Convolution3D, MaxPooling3D, ZeroPadding3D\n",
    "from keras.layers.core import Dense, Dropout, Flatten\n",
    "from keras.models import Sequential\n",
    "import random\n",
    "from keras.layers import Input\n",
    "import numpy as np\n",
    "from PIL import Image\n",
    "from os import listdir\n",
    "from scipy.ndimage import imread\n",
    "import keras\n",
    "from keras.models import Model\n",
    "import keras.backend as K\n",
    "\n",
    "# Custom scripts\n",
    "import lscript as lsp\n",
    "import modelling as md\n",
    "#from DataSet.DataSet import DataSet\n",
    "import dataset as dset\n",
    "import ucf101_dataset as ucf"
   ]
  },
  {
   "cell_type": "code",
   "execution_count": 2,
   "metadata": {
    "collapsed": true
   },
   "outputs": [],
   "source": [
    "height=112 \n",
    "width=112 \n",
    "channel=3\n",
    "#nb_class=3\n",
    "#cluster_length=16\n",
    "next_batch_start=0\n",
    "batch_size=100\n",
    "epochs=10\n",
    "nb_classes=101\n",
    "iterations=2\n",
    "num_epoch=2\n",
    "#strides=1\n",
    "total_frames_in_seq=16\n",
    "#time_step=16\n",
    "#num_clusters= int( (total_frames_in_seq-cluster_length) / strides) + 1\n",
    "feature_size=8192 #8192   #16384  #487"
   ]
  },
  {
   "cell_type": "markdown",
   "metadata": {},
   "source": [
    "#### Getting the model"
   ]
  },
  {
   "cell_type": "code",
   "execution_count": 3,
   "metadata": {},
   "outputs": [
    {
     "name": "stderr",
     "output_type": "stream",
     "text": [
      "/home/ufaserv1_f/cnlp/Seeing_to_Learn/Observation-Learning/Stage_5_New_loss_function /modelling.py:334: UserWarning: Update your `Conv3D` call to the Keras 2 API: `Conv3D(64, (3, 3, 3), activation=\"relu\", name=\"conv1\", input_shape=(16, 112, ..., padding=\"same\")`\n",
      "  input_shape=input_shape))\n",
      "/home/ufaserv1_f/cnlp/Seeing_to_Learn/Observation-Learning/Stage_5_New_loss_function /modelling.py:336: UserWarning: Update your `MaxPooling3D` call to the Keras 2 API: `MaxPooling3D(pool_size=(1, 2, 2), strides=(1, 2, 2), name=\"pool1\", padding=\"valid\")`\n",
      "  border_mode='valid', name='pool1'))\n",
      "/home/ufaserv1_f/cnlp/Seeing_to_Learn/Observation-Learning/Stage_5_New_loss_function /modelling.py:339: UserWarning: Update your `Conv3D` call to the Keras 2 API: `Conv3D(128, (3, 3, 3), activation=\"relu\", name=\"conv2\", padding=\"same\")`\n",
      "  border_mode='same', name='conv2'))\n",
      "/home/ufaserv1_f/cnlp/Seeing_to_Learn/Observation-Learning/Stage_5_New_loss_function /modelling.py:341: UserWarning: Update your `MaxPooling3D` call to the Keras 2 API: `MaxPooling3D(pool_size=(2, 2, 2), strides=(2, 2, 2), name=\"pool2\", padding=\"valid\")`\n",
      "  border_mode='valid', name='pool2'))\n",
      "/home/ufaserv1_f/cnlp/Seeing_to_Learn/Observation-Learning/Stage_5_New_loss_function /modelling.py:344: UserWarning: Update your `Conv3D` call to the Keras 2 API: `Conv3D(256, (3, 3, 3), activation=\"relu\", name=\"conv3a\", padding=\"same\")`\n",
      "  border_mode='same', name='conv3a'))\n",
      "/home/ufaserv1_f/cnlp/Seeing_to_Learn/Observation-Learning/Stage_5_New_loss_function /modelling.py:346: UserWarning: Update your `Conv3D` call to the Keras 2 API: `Conv3D(256, (3, 3, 3), activation=\"relu\", name=\"conv3b\", padding=\"same\")`\n",
      "  border_mode='same', name='conv3b'))\n",
      "/home/ufaserv1_f/cnlp/Seeing_to_Learn/Observation-Learning/Stage_5_New_loss_function /modelling.py:348: UserWarning: Update your `MaxPooling3D` call to the Keras 2 API: `MaxPooling3D(pool_size=(2, 2, 2), strides=(2, 2, 2), name=\"pool3\", padding=\"valid\")`\n",
      "  border_mode='valid', name='pool3'))\n",
      "/home/ufaserv1_f/cnlp/Seeing_to_Learn/Observation-Learning/Stage_5_New_loss_function /modelling.py:351: UserWarning: Update your `Conv3D` call to the Keras 2 API: `Conv3D(512, (3, 3, 3), activation=\"relu\", name=\"conv4a\", padding=\"same\")`\n",
      "  border_mode='same', name='conv4a'))\n",
      "/home/ufaserv1_f/cnlp/Seeing_to_Learn/Observation-Learning/Stage_5_New_loss_function /modelling.py:353: UserWarning: Update your `Conv3D` call to the Keras 2 API: `Conv3D(512, (3, 3, 3), activation=\"relu\", name=\"conv4b\", padding=\"same\")`\n",
      "  border_mode='same', name='conv4b'))\n",
      "/home/ufaserv1_f/cnlp/Seeing_to_Learn/Observation-Learning/Stage_5_New_loss_function /modelling.py:355: UserWarning: Update your `MaxPooling3D` call to the Keras 2 API: `MaxPooling3D(pool_size=(2, 2, 2), strides=(2, 2, 2), name=\"pool4\", padding=\"valid\")`\n",
      "  border_mode='valid', name='pool4'))\n",
      "/home/ufaserv1_f/cnlp/Seeing_to_Learn/Observation-Learning/Stage_5_New_loss_function /modelling.py:358: UserWarning: Update your `Conv3D` call to the Keras 2 API: `Conv3D(512, (3, 3, 3), activation=\"relu\", name=\"conv5a\", padding=\"same\")`\n",
      "  border_mode='same', name='conv5a'))\n",
      "/home/ufaserv1_f/cnlp/Seeing_to_Learn/Observation-Learning/Stage_5_New_loss_function /modelling.py:360: UserWarning: Update your `Conv3D` call to the Keras 2 API: `Conv3D(512, (3, 3, 3), activation=\"relu\", name=\"conv5b\", padding=\"same\")`\n",
      "  border_mode='same', name='conv5b'))\n"
     ]
    },
    {
     "name": "stdout",
     "output_type": "stream",
     "text": [
      "_________________________________________________________________\n",
      "Layer (type)                 Output Shape              Param #   \n",
      "=================================================================\n",
      "conv1 (Conv3D)               (None, 16, 112, 112, 64)  5248      \n",
      "_________________________________________________________________\n",
      "pool1 (MaxPooling3D)         (None, 16, 56, 56, 64)    0         \n",
      "_________________________________________________________________\n",
      "conv2 (Conv3D)               (None, 16, 56, 56, 128)   221312    \n",
      "_________________________________________________________________\n",
      "pool2 (MaxPooling3D)         (None, 8, 28, 28, 128)    0         \n",
      "_________________________________________________________________\n",
      "conv3a (Conv3D)              (None, 8, 28, 28, 256)    884992    \n",
      "_________________________________________________________________\n",
      "conv3b (Conv3D)              (None, 8, 28, 28, 256)    1769728   \n",
      "_________________________________________________________________\n",
      "pool3 (MaxPooling3D)         (None, 4, 14, 14, 256)    0         \n",
      "_________________________________________________________________\n",
      "conv4a (Conv3D)              (None, 4, 14, 14, 512)    3539456   \n",
      "_________________________________________________________________\n",
      "conv4b (Conv3D)              (None, 4, 14, 14, 512)    7078400   \n",
      "_________________________________________________________________\n",
      "pool4 (MaxPooling3D)         (None, 2, 7, 7, 512)      0         \n",
      "_________________________________________________________________\n",
      "conv5a (Conv3D)              (None, 2, 7, 7, 512)      7078400   \n",
      "_________________________________________________________________\n",
      "conv5b (Conv3D)              (None, 2, 7, 7, 512)      7078400   \n",
      "_________________________________________________________________\n",
      "zeropad5 (ZeroPadding3D)     (None, 2, 8, 8, 512)      0         \n",
      "_________________________________________________________________\n",
      "pool5 (MaxPooling3D)         (None, 1, 4, 4, 512)      0         \n",
      "_________________________________________________________________\n",
      "flatten_1 (Flatten)          (None, 8192)              0         \n",
      "_________________________________________________________________\n",
      "fc6 (Dense)                  (None, 4096)              33558528  \n",
      "_________________________________________________________________\n",
      "dropout_1 (Dropout)          (None, 4096)              0         \n",
      "_________________________________________________________________\n",
      "fc7 (Dense)                  (None, 4096)              16781312  \n",
      "_________________________________________________________________\n",
      "dropout_2 (Dropout)          (None, 4096)              0         \n",
      "_________________________________________________________________\n",
      "fc8 (Dense)                  (None, 101)               413797    \n",
      "=================================================================\n",
      "Total params: 78,409,573\n",
      "Trainable params: 78,409,573\n",
      "Non-trainable params: 0\n",
      "_________________________________________________________________\n",
      "None\n"
     ]
    },
    {
     "name": "stderr",
     "output_type": "stream",
     "text": [
      "/home/ufaserv1_f/cnlp/Seeing_to_Learn/Observation-Learning/Stage_5_New_loss_function /modelling.py:363: UserWarning: Update your `MaxPooling3D` call to the Keras 2 API: `MaxPooling3D(pool_size=(2, 2, 2), strides=(2, 2, 2), name=\"pool5\", padding=\"valid\")`\n",
      "  border_mode='valid', name='pool5'))\n"
     ]
    }
   ],
   "source": [
    "model = md.C3D_ucf101_training_model()"
   ]
  },
  {
   "cell_type": "code",
   "execution_count": 4,
   "metadata": {},
   "outputs": [
    {
     "name": "stderr",
     "output_type": "stream",
     "text": [
      "/opt/conda/lib/python3.6/site-packages/ipykernel_launcher.py:9: UserWarning: Update your `Conv3D` call to the Keras 2 API: `Conv3D(64, (3, 3, 3), activation=\"relu\", name=\"conv1\", input_shape=(16, 112, ..., padding=\"same\")`\n",
      "  if __name__ == '__main__':\n",
      "/opt/conda/lib/python3.6/site-packages/ipykernel_launcher.py:11: UserWarning: Update your `MaxPooling3D` call to the Keras 2 API: `MaxPooling3D(pool_size=(1, 2, 2), strides=(1, 2, 2), name=\"pool1\", padding=\"valid\")`\n",
      "  # This is added back by InteractiveShellApp.init_path()\n",
      "/opt/conda/lib/python3.6/site-packages/ipykernel_launcher.py:14: UserWarning: Update your `Conv3D` call to the Keras 2 API: `Conv3D(128, (3, 3, 3), activation=\"relu\", name=\"conv2\", padding=\"same\")`\n",
      "  \n",
      "/opt/conda/lib/python3.6/site-packages/ipykernel_launcher.py:16: UserWarning: Update your `MaxPooling3D` call to the Keras 2 API: `MaxPooling3D(pool_size=(2, 2, 2), strides=(2, 2, 2), name=\"pool2\", padding=\"valid\")`\n",
      "  app.launch_new_instance()\n",
      "/opt/conda/lib/python3.6/site-packages/ipykernel_launcher.py:19: UserWarning: Update your `Conv3D` call to the Keras 2 API: `Conv3D(256, (3, 3, 3), activation=\"relu\", name=\"conv3a\", padding=\"same\")`\n",
      "/opt/conda/lib/python3.6/site-packages/ipykernel_launcher.py:21: UserWarning: Update your `Conv3D` call to the Keras 2 API: `Conv3D(256, (3, 3, 3), activation=\"relu\", name=\"conv3b\", padding=\"same\")`\n",
      "/opt/conda/lib/python3.6/site-packages/ipykernel_launcher.py:23: UserWarning: Update your `MaxPooling3D` call to the Keras 2 API: `MaxPooling3D(pool_size=(2, 2, 2), strides=(2, 2, 2), name=\"pool3\", padding=\"valid\")`\n",
      "/opt/conda/lib/python3.6/site-packages/ipykernel_launcher.py:26: UserWarning: Update your `Conv3D` call to the Keras 2 API: `Conv3D(512, (3, 3, 3), activation=\"relu\", name=\"conv4a\", padding=\"same\")`\n",
      "/opt/conda/lib/python3.6/site-packages/ipykernel_launcher.py:28: UserWarning: Update your `Conv3D` call to the Keras 2 API: `Conv3D(512, (3, 3, 3), activation=\"relu\", name=\"conv4b\", padding=\"same\")`\n",
      "/opt/conda/lib/python3.6/site-packages/ipykernel_launcher.py:30: UserWarning: Update your `MaxPooling3D` call to the Keras 2 API: `MaxPooling3D(pool_size=(2, 2, 2), strides=(2, 2, 2), name=\"pool4\", padding=\"valid\")`\n",
      "/opt/conda/lib/python3.6/site-packages/ipykernel_launcher.py:33: UserWarning: Update your `Conv3D` call to the Keras 2 API: `Conv3D(512, (3, 3, 3), activation=\"relu\", name=\"conv5a\", padding=\"same\")`\n",
      "/opt/conda/lib/python3.6/site-packages/ipykernel_launcher.py:35: UserWarning: Update your `Conv3D` call to the Keras 2 API: `Conv3D(512, (3, 3, 3), activation=\"relu\", name=\"conv5b\", padding=\"same\")`\n",
      "/opt/conda/lib/python3.6/site-packages/ipykernel_launcher.py:38: UserWarning: Update your `MaxPooling3D` call to the Keras 2 API: `MaxPooling3D(pool_size=(2, 2, 2), strides=(2, 2, 2), name=\"pool5\", padding=\"valid\")`\n"
     ]
    },
    {
     "name": "stdout",
     "output_type": "stream",
     "text": [
      "_________________________________________________________________\n",
      "Layer (type)                 Output Shape              Param #   \n",
      "=================================================================\n",
      "input_1 (InputLayer)         (None, 16, 112, 112, 3)   0         \n",
      "_________________________________________________________________\n",
      "sequential_2 (Sequential)    (None, 8192)              27655936  \n",
      "_________________________________________________________________\n",
      "sequential_3 (Sequential)    (None, 101)               50753637  \n",
      "=================================================================\n",
      "Total params: 78,409,573\n",
      "Trainable params: 78,409,573\n",
      "Non-trainable params: 0\n",
      "_________________________________________________________________\n",
      "None\n"
     ]
    }
   ],
   "source": [
    "def model_lower():    \n",
    "    model = Sequential()\n",
    "    #if backend == 'tf':\n",
    "    input_shape=(total_frames_in_seq, height, width, channel) # l, h, w, c\n",
    "    #else:\n",
    "    #    input_shape=(channel, total_frames_in_seq, height, width) # c, l, h, w\n",
    "    model.add(Convolution3D(64, 3, 3, 3, activation='relu',\n",
    "                            border_mode='same', name='conv1',\n",
    "                            input_shape=input_shape))\n",
    "    model.add(MaxPooling3D(pool_size=(1, 2, 2), strides=(1, 2, 2),\n",
    "                           border_mode='valid', name='pool1'))\n",
    "    # 2nd layer group\n",
    "    model.add(Convolution3D(128, 3, 3, 3, activation='relu',\n",
    "                            border_mode='same', name='conv2'))\n",
    "    model.add(MaxPooling3D(pool_size=(2, 2, 2), strides=(2, 2, 2),\n",
    "                           border_mode='valid', name='pool2'))\n",
    "    # 3rd layer group\n",
    "    model.add(Convolution3D(256, 3, 3, 3, activation='relu',\n",
    "                            border_mode='same', name='conv3a'))\n",
    "    model.add(Convolution3D(256, 3, 3, 3, activation='relu',\n",
    "                            border_mode='same', name='conv3b'))\n",
    "    model.add(MaxPooling3D(pool_size=(2, 2, 2), strides=(2, 2, 2),\n",
    "                           border_mode='valid', name='pool3'))\n",
    "    # 4th layer group\n",
    "    model.add(Convolution3D(512, 3, 3, 3, activation='relu',\n",
    "                            border_mode='same', name='conv4a'))\n",
    "    model.add(Convolution3D(512, 3, 3, 3, activation='relu',\n",
    "                            border_mode='same', name='conv4b'))\n",
    "    model.add(MaxPooling3D(pool_size=(2, 2, 2), strides=(2, 2, 2),\n",
    "                           border_mode='valid', name='pool4'))\n",
    "    # 5th layer group\n",
    "    model.add(Convolution3D(512, 3, 3, 3, activation='relu',\n",
    "                            border_mode='same', name='conv5a'))\n",
    "    model.add(Convolution3D(512, 3, 3, 3, activation='relu',\n",
    "                            border_mode='same', name='conv5b'))\n",
    "    model.add(ZeroPadding3D(padding=((0, 0), (0, 1), (0, 1)), name='zeropad5'))\n",
    "    model.add(MaxPooling3D(pool_size=(2, 2, 2), strides=(2, 2, 2),\n",
    "                           border_mode='valid', name='pool5'))\n",
    "    model.add(Flatten())\n",
    "    \n",
    "    return model\n",
    "\n",
    "def model_upper():\n",
    "    model = Sequential()\n",
    "    # FC layers group\n",
    "    model.add(Dense(4096, activation='relu', name='fc6',input_shape=(feature_size,)))\n",
    "    model.add(Dropout(.5))\n",
    "    model.add(Dense(4096, activation='relu', name='fc7'))\n",
    "    model.add(Dropout(.5))\n",
    "    model.add(Dense(101, activation='softmax', name='fc8'))\n",
    "    return model\n",
    "    \n",
    "    \n",
    "video_input = Input (shape=(total_frames_in_seq, height, width, channel))\n",
    "model_bottom=model_lower()\n",
    "activity_features= model_bottom(video_input)\n",
    "model_top=model_upper()\n",
    "class_output=model_top(activity_features)\n",
    "model=Model(video_input,class_output)\n",
    "print(model.summary())"
   ]
  },
  {
   "cell_type": "markdown",
   "metadata": {},
   "source": [
    "#### Compiling model and defining loss function "
   ]
  },
  {
   "cell_type": "raw",
   "metadata": {},
   "source": [
    "y=np.array([1,2,3,4,2,5,3,4,3])\n",
    "k=np.unique(y)\n",
    "print(k)\n",
    "#temp=[len(k)][]\n",
    "temp=np.ones([len(k),len(y)])*111\n",
    "for w in range(len(k)):\n",
    "    t=0\n",
    "    for i, j in enumerate(y):\n",
    "        if j == k[w]:\n",
    "            print(i)\n",
    "            temp[w][t]=i\n",
    "            t=t+1\n",
    "print(temp)"
   ]
  },
  {
   "cell_type": "code",
   "execution_count": 5,
   "metadata": {},
   "outputs": [
    {
     "name": "stdout",
     "output_type": "stream",
     "text": [
      "Loading /nobackup/leopauly/UCF101/UCF-101/BreastStroke/v_BreastStroke_g03_c01...\n",
      "Loading /nobackup/leopauly/UCF101/UCF-101/Skijet/v_Skijet_g11_c01...\n",
      "Loading /nobackup/leopauly/UCF101/UCF-101/HeadMassage/v_HeadMassage_g03_c04...\n",
      "Loading /nobackup/leopauly/UCF101/UCF-101/CricketShot/v_CricketShot_g23_c03...\n",
      "Loading /nobackup/leopauly/UCF101/UCF-101/FrisbeeCatch/v_FrisbeeCatch_g02_c01...\n",
      "Loading /nobackup/leopauly/UCF101/UCF-101/JumpingJack/v_JumpingJack_g19_c05...\n",
      "Loading /nobackup/leopauly/UCF101/UCF-101/SkateBoarding/v_SkateBoarding_g10_c03...\n",
      "Loading /nobackup/leopauly/UCF101/UCF-101/HulaHoop/v_HulaHoop_g20_c02...\n",
      "Loading /nobackup/leopauly/UCF101/UCF-101/PlayingDaf/v_PlayingDaf_g18_c03...\n",
      "Loading /nobackup/leopauly/UCF101/UCF-101/Rowing/v_Rowing_g20_c03...\n",
      "Loading /nobackup/leopauly/UCF101/UCF-101/HorseRiding/v_HorseRiding_g15_c01...\n",
      "Loading /nobackup/leopauly/UCF101/UCF-101/UnevenBars/v_UnevenBars_g06_c04...\n",
      "Loading /nobackup/leopauly/UCF101/UCF-101/BoxingSpeedBag/v_BoxingSpeedBag_g17_c02...\n",
      "Loading /nobackup/leopauly/UCF101/UCF-101/Swing/v_Swing_g11_c02...\n",
      "Loading /nobackup/leopauly/UCF101/UCF-101/Nunchucks/v_Nunchucks_g10_c04...\n",
      "Loading /nobackup/leopauly/UCF101/UCF-101/HorseRiding/v_HorseRiding_g08_c01...\n",
      "Loading /nobackup/leopauly/UCF101/UCF-101/Skiing/v_Skiing_g23_c02...\n",
      "Loading /nobackup/leopauly/UCF101/UCF-101/ApplyEyeMakeup/v_ApplyEyeMakeup_g09_c04...\n",
      "Loading /nobackup/leopauly/UCF101/UCF-101/Billiards/v_Billiards_g15_c02...\n",
      "Loading /nobackup/leopauly/UCF101/UCF-101/PlayingDhol/v_PlayingDhol_g09_c05...\n",
      "Loading /nobackup/leopauly/UCF101/UCF-101/HorseRace/v_HorseRace_g13_c04...\n",
      "Loading /nobackup/leopauly/UCF101/UCF-101/BenchPress/v_BenchPress_g07_c03...\n",
      "Loading /nobackup/leopauly/UCF101/UCF-101/HorseRace/v_HorseRace_g11_c06...\n",
      "Loading /nobackup/leopauly/UCF101/UCF-101/JumpRope/v_JumpRope_g19_c01...\n",
      "Loading /nobackup/leopauly/UCF101/UCF-101/ShavingBeard/v_ShavingBeard_g08_c02...\n",
      "Loading /nobackup/leopauly/UCF101/UCF-101/FieldHockeyPenalty/v_FieldHockeyPenalty_g05_c02...\n",
      "Loading /nobackup/leopauly/UCF101/UCF-101/PlayingCello/v_PlayingCello_g12_c01...\n",
      "Loading /nobackup/leopauly/UCF101/UCF-101/TrampolineJumping/v_TrampolineJumping_g13_c03...\n",
      "Loading /nobackup/leopauly/UCF101/UCF-101/PlayingDaf/v_PlayingDaf_g20_c02...\n",
      "Loading /nobackup/leopauly/UCF101/UCF-101/BodyWeightSquats/v_BodyWeightSquats_g19_c03...\n",
      "Loading /nobackup/leopauly/UCF101/UCF-101/PlayingFlute/v_PlayingFlute_g17_c01...\n",
      "Loading /nobackup/leopauly/UCF101/UCF-101/LongJump/v_LongJump_g15_c01...\n",
      "Loading /nobackup/leopauly/UCF101/UCF-101/BoxingPunchingBag/v_BoxingPunchingBag_g19_c04...\n",
      "Loading /nobackup/leopauly/UCF101/UCF-101/HeadMassage/v_HeadMassage_g22_c07...\n",
      "Loading /nobackup/leopauly/UCF101/UCF-101/HorseRiding/v_HorseRiding_g04_c06...\n",
      "Loading /nobackup/leopauly/UCF101/UCF-101/LongJump/v_LongJump_g10_c04...\n",
      "Loading /nobackup/leopauly/UCF101/UCF-101/JugglingBalls/v_JugglingBalls_g13_c02...\n",
      "Loading /nobackup/leopauly/UCF101/UCF-101/ApplyEyeMakeup/v_ApplyEyeMakeup_g11_c04...\n",
      "Loading /nobackup/leopauly/UCF101/UCF-101/BreastStroke/v_BreastStroke_g01_c01...\n",
      "Loading /nobackup/leopauly/UCF101/UCF-101/PlayingSitar/v_PlayingSitar_g05_c01...\n",
      "Loading /nobackup/leopauly/UCF101/UCF-101/PlayingCello/v_PlayingCello_g21_c03...\n",
      "Loading /nobackup/leopauly/UCF101/UCF-101/Knitting/v_Knitting_g10_c03...\n",
      "Loading /nobackup/leopauly/UCF101/UCF-101/MilitaryParade/v_MilitaryParade_g19_c06...\n",
      "Loading /nobackup/leopauly/UCF101/UCF-101/TennisSwing/v_TennisSwing_g18_c02...\n",
      "Loading /nobackup/leopauly/UCF101/UCF-101/CliffDiving/v_CliffDiving_g14_c05...\n",
      "Loading /nobackup/leopauly/UCF101/UCF-101/BabyCrawling/v_BabyCrawling_g12_c06...\n",
      "Loading /nobackup/leopauly/UCF101/UCF-101/Diving/v_Diving_g14_c02...\n",
      "Loading /nobackup/leopauly/UCF101/UCF-101/VolleyballSpiking/v_VolleyballSpiking_g09_c06...\n",
      "Loading /nobackup/leopauly/UCF101/UCF-101/BoxingSpeedBag/v_BoxingSpeedBag_g09_c02...\n",
      "Loading /nobackup/leopauly/UCF101/UCF-101/BlowDryHair/v_BlowDryHair_g18_c04...\n",
      "Loading /nobackup/leopauly/UCF101/UCF-101/BlowDryHair/v_BlowDryHair_g16_c03...\n",
      "Loading /nobackup/leopauly/UCF101/UCF-101/GolfSwing/v_GolfSwing_g22_c06...\n",
      "Loading /nobackup/leopauly/UCF101/UCF-101/BabyCrawling/v_BabyCrawling_g14_c01...\n",
      "Loading /nobackup/leopauly/UCF101/UCF-101/Mixing/v_Mixing_g15_c02...\n",
      "Loading /nobackup/leopauly/UCF101/UCF-101/Basketball/v_Basketball_g22_c07...\n",
      "Loading /nobackup/leopauly/UCF101/UCF-101/Haircut/v_Haircut_g10_c07...\n",
      "Loading /nobackup/leopauly/UCF101/UCF-101/Archery/v_Archery_g02_c03...\n",
      "Loading /nobackup/leopauly/UCF101/UCF-101/HorseRiding/v_HorseRiding_g20_c06...\n",
      "Loading /nobackup/leopauly/UCF101/UCF-101/PushUps/v_PushUps_g03_c03...\n",
      "Loading /nobackup/leopauly/UCF101/UCF-101/JumpRope/v_JumpRope_g21_c06...\n",
      "Loading /nobackup/leopauly/UCF101/UCF-101/Skiing/v_Skiing_g07_c01...\n",
      "Loading /nobackup/leopauly/UCF101/UCF-101/HorseRiding/v_HorseRiding_g24_c04...\n",
      "Loading /nobackup/leopauly/UCF101/UCF-101/BlowDryHair/v_BlowDryHair_g07_c07...\n",
      "Loading /nobackup/leopauly/UCF101/UCF-101/PizzaTossing/v_PizzaTossing_g20_c04...\n",
      "Loading /nobackup/leopauly/UCF101/UCF-101/PlayingFlute/v_PlayingFlute_g20_c01...\n",
      "Loading /nobackup/leopauly/UCF101/UCF-101/PlayingSitar/v_PlayingSitar_g11_c03...\n",
      "Loading /nobackup/leopauly/UCF101/UCF-101/Basketball/v_Basketball_g01_c03...\n",
      "Loading /nobackup/leopauly/UCF101/UCF-101/Basketball/v_Basketball_g21_c03...\n",
      "Loading /nobackup/leopauly/UCF101/UCF-101/Kayaking/v_Kayaking_g09_c05...\n",
      "Loading /nobackup/leopauly/UCF101/UCF-101/TableTennisShot/v_TableTennisShot_g19_c05...\n",
      "Loading /nobackup/leopauly/UCF101/UCF-101/PullUps/v_PullUps_g23_c04...\n",
      "Loading /nobackup/leopauly/UCF101/UCF-101/BlowDryHair/v_BlowDryHair_g21_c02...\n",
      "Loading /nobackup/leopauly/UCF101/UCF-101/MoppingFloor/v_MoppingFloor_g22_c02...\n",
      "Loading /nobackup/leopauly/UCF101/UCF-101/SkyDiving/v_SkyDiving_g05_c01...\n",
      "Loading /nobackup/leopauly/UCF101/UCF-101/Punch/v_Punch_g20_c02...\n",
      "Loading /nobackup/leopauly/UCF101/UCF-101/CricketShot/v_CricketShot_g20_c03...\n",
      "Loading /nobackup/leopauly/UCF101/UCF-101/Diving/v_Diving_g06_c01...\n",
      "Loading /nobackup/leopauly/UCF101/UCF-101/RockClimbingIndoor/v_RockClimbingIndoor_g22_c01...\n",
      "Loading /nobackup/leopauly/UCF101/UCF-101/HammerThrow/v_HammerThrow_g17_c02...\n",
      "Loading /nobackup/leopauly/UCF101/UCF-101/FieldHockeyPenalty/v_FieldHockeyPenalty_g15_c04...\n",
      "Loading /nobackup/leopauly/UCF101/UCF-101/WritingOnBoard/v_WritingOnBoard_g25_c03...\n",
      "Loading /nobackup/leopauly/UCF101/UCF-101/HammerThrow/v_HammerThrow_g06_c02...\n",
      "Loading /nobackup/leopauly/UCF101/UCF-101/BoxingSpeedBag/v_BoxingSpeedBag_g13_c02...\n",
      "Loading /nobackup/leopauly/UCF101/UCF-101/BlowDryHair/v_BlowDryHair_g18_c02...\n",
      "Loading /nobackup/leopauly/UCF101/UCF-101/Haircut/v_Haircut_g21_c03...\n",
      "Loading /nobackup/leopauly/UCF101/UCF-101/Haircut/v_Haircut_g22_c04...\n",
      "Loading /nobackup/leopauly/UCF101/UCF-101/BabyCrawling/v_BabyCrawling_g05_c04...\n",
      "Loading /nobackup/leopauly/UCF101/UCF-101/BabyCrawling/v_BabyCrawling_g11_c04...\n",
      "Loading /nobackup/leopauly/UCF101/UCF-101/PommelHorse/v_PommelHorse_g10_c04...\n",
      "Loading /nobackup/leopauly/UCF101/UCF-101/PlayingDaf/v_PlayingDaf_g15_c02...\n",
      "Loading /nobackup/leopauly/UCF101/UCF-101/SalsaSpin/v_SalsaSpin_g18_c02...\n",
      "Loading /nobackup/leopauly/UCF101/UCF-101/BalanceBeam/v_BalanceBeam_g10_c02...\n",
      "Loading /nobackup/leopauly/UCF101/UCF-101/HandstandWalking/v_HandstandWalking_g18_c06...\n",
      "Loading /nobackup/leopauly/UCF101/UCF-101/TennisSwing/v_TennisSwing_g25_c02...\n",
      "Loading /nobackup/leopauly/UCF101/UCF-101/IceDancing/v_IceDancing_g01_c06...\n",
      "Loading /nobackup/leopauly/UCF101/UCF-101/ShavingBeard/v_ShavingBeard_g09_c05...\n",
      "Loading /nobackup/leopauly/UCF101/UCF-101/PlayingTabla/v_PlayingTabla_g15_c01...\n",
      "Loading /nobackup/leopauly/UCF101/UCF-101/TableTennisShot/v_TableTennisShot_g25_c03...\n",
      "Loading /nobackup/leopauly/UCF101/UCF-101/BalanceBeam/v_BalanceBeam_g20_c04...\n",
      "Loading /nobackup/leopauly/UCF101/UCF-101/Punch/v_Punch_g13_c06...\n",
      "Loading /nobackup/leopauly/UCF101/UCF-101/WallPushups/v_WallPushups_g18_c04...\n",
      "Loading /nobackup/leopauly/UCF101/UCF-101/BaseballPitch/v_BaseballPitch_g09_c04...\n",
      "Loading /nobackup/leopauly/UCF101/UCF-101/BenchPress/v_BenchPress_g08_c03...\n",
      "Loading /nobackup/leopauly/UCF101/UCF-101/CleanAndJerk/v_CleanAndJerk_g08_c03...\n",
      "Loading /nobackup/leopauly/UCF101/UCF-101/PlayingCello/v_PlayingCello_g06_c07...\n"
     ]
    },
    {
     "name": "stdout",
     "output_type": "stream",
     "text": [
      "Loading /nobackup/leopauly/UCF101/UCF-101/Typing/v_Typing_g05_c01...\n",
      "Loading /nobackup/leopauly/UCF101/UCF-101/HighJump/v_HighJump_g20_c05...\n",
      "Loading /nobackup/leopauly/UCF101/UCF-101/WritingOnBoard/v_WritingOnBoard_g03_c05...\n",
      "Loading /nobackup/leopauly/UCF101/UCF-101/Kayaking/v_Kayaking_g08_c06...\n",
      "Loading /nobackup/leopauly/UCF101/UCF-101/StillRings/v_StillRings_g08_c04...\n",
      "Loading /nobackup/leopauly/UCF101/UCF-101/SoccerJuggling/v_SoccerJuggling_g15_c03...\n",
      "Loading /nobackup/leopauly/UCF101/UCF-101/IceDancing/v_IceDancing_g09_c01...\n",
      "Loading /nobackup/leopauly/UCF101/UCF-101/SalsaSpin/v_SalsaSpin_g17_c03...\n",
      "Loading /nobackup/leopauly/UCF101/UCF-101/CuttingInKitchen/v_CuttingInKitchen_g12_c01...\n",
      "Loading /nobackup/leopauly/UCF101/UCF-101/WritingOnBoard/v_WritingOnBoard_g23_c01...\n",
      "Loading /nobackup/leopauly/UCF101/UCF-101/MoppingFloor/v_MoppingFloor_g25_c02...\n",
      "Loading /nobackup/leopauly/UCF101/UCF-101/BoxingPunchingBag/v_BoxingPunchingBag_g04_c04...\n",
      "(100, 16, 112, 112, 3)\n",
      "[[ 0.  0.  0. ...,  0.  0.  0.]\n",
      " [ 0.  0.  0. ...,  0.  0.  0.]\n",
      " [ 0.  0.  0. ...,  0.  0.  0.]\n",
      " ..., \n",
      " [ 0.  0.  0. ...,  0.  1.  0.]\n",
      " [ 0.  0.  0. ...,  0.  0.  0.]\n",
      " [ 0.  0.  0. ...,  0.  0.  0.]]\n"
     ]
    }
   ],
   "source": [
    "train_images, train_labels_uncat, next_batch_start, _ = ucf. read_vid_and_label('UCF101_data_preparation/train.list',batch_size,-1,16,112,normalisation=True)\n",
    "train_labels=keras.utils.to_categorical(train_labels_uncat, num_classes=nb_classes)\n",
    "print(train_labels)"
   ]
  },
  {
   "cell_type": "raw",
   "metadata": {},
   "source": [
    "y_true=train_labels\n",
    "y_true_classes=np.argmax(y_true,axis=1)\n",
    "k=np.unique(y_true_classes)\n",
    "#print('y_true',y_true)\n",
    "print('y_true_classes',y_true_classes)\n",
    "#print('k',k)\n",
    "#targets=np.array(y_true)\n",
    "indexes=np.ones([len(k),batch_size],dtype=np.int8)*(nb_classes+1)\n",
    "for w in range(len(k)):\n",
    "        t=0\n",
    "        for i in range(batch_size):\n",
    "            if y_true_classes[i] == k[w]:\n",
    "                #print(i)\n",
    "                indexes[w][t]=int(i)\n",
    "                t=t+1\n",
    "\n",
    "                \n",
    "print(indexes)\n",
    "#print(w)\n",
    "\n",
    "me=np.array([1,2,3,4,5,6,7,8,9,10,11,12,13,14,15,16,17,18,19,20,21,22])\n",
    "#print(me)\n",
    "\n",
    "for i in range(len(k)):\n",
    "        w=[x for x in indexes[i][:] if x!=(nb_classes+1)]\n",
    "        #print('w',w)\n",
    "        #print('me',me[w])\n",
    "        #loss_2=loss_2+K.var(activity_features[w])\n",
    "\n",
    "#print(me[w])"
   ]
  },
  {
   "cell_type": "raw",
   "metadata": {},
   "source": [
    "test1=np.array([[1,2,3,4,5,6],[11,12,14,13,15,16]])\n",
    "print([x for x in test1[1][:] if x!=12])"
   ]
  },
  {
   "cell_type": "raw",
   "metadata": {},
   "source": [
    "print(temp[1][:])"
   ]
  },
  {
   "cell_type": "code",
   "execution_count": 19,
   "metadata": {},
   "outputs": [],
   "source": [
    "def new_loss(y_true, y_pred):\n",
    "    print('entered loss function')\n",
    "    loss_1=K.categorical_crossentropy(y_true, y_pred)\n",
    "\n",
    "    #y_true=train_labels\n",
    "    y_true_classes=K.argmax(y_true,axis=1)\n",
    "    k=np.unique(y_true_classes)\n",
    "    indexes=np.ones([len(k),batch_size],dtype=np.int8)*(nb_classes+1)\n",
    "    for w in range(len(k)):\n",
    "        t=0\n",
    "        for i in range(batch_size):\n",
    "            if y_true_classes[i] == k[w]:\n",
    "                indexes[w][t]=int(i)\n",
    "                t=t+1\n",
    "    loss_2=0\n",
    "    for i in range(len(k)):\n",
    "        w=[x for x in indexes[i][:] if x!=(nb_classes+1)]\n",
    "        loss_2=loss_2+K.sum(K.var(activity_features[w],axis=0))\n",
    "        #print(K.eval(loss_2))\n",
    "\n",
    "    return loss_1+loss_2"
   ]
  },
  {
   "cell_type": "code",
   "execution_count": 20,
   "metadata": {},
   "outputs": [
    {
     "name": "stdout",
     "output_type": "stream",
     "text": [
      "entered loss function\n"
     ]
    },
    {
     "ename": "InvalidArgumentError",
     "evalue": "You must feed a value for placeholder tensor 'input_1' with dtype float\n\t [[Node: input_1 = Placeholder[dtype=DT_FLOAT, shape=[], _device=\"/job:localhost/replica:0/task:0/gpu:0\"]()]]\n\nCaused by op 'input_1', defined at:\n  File \"/opt/conda/lib/python3.6/runpy.py\", line 193, in _run_module_as_main\n    \"__main__\", mod_spec)\n  File \"/opt/conda/lib/python3.6/runpy.py\", line 85, in _run_code\n    exec(code, run_globals)\n  File \"/opt/conda/lib/python3.6/site-packages/ipykernel_launcher.py\", line 16, in <module>\n    app.launch_new_instance()\n  File \"/opt/conda/lib/python3.6/site-packages/traitlets/config/application.py\", line 658, in launch_instance\n    app.start()\n  File \"/opt/conda/lib/python3.6/site-packages/ipykernel/kernelapp.py\", line 477, in start\n    ioloop.IOLoop.instance().start()\n  File \"/opt/conda/lib/python3.6/site-packages/zmq/eventloop/ioloop.py\", line 177, in start\n    super(ZMQIOLoop, self).start()\n  File \"/opt/conda/lib/python3.6/site-packages/tornado/ioloop.py\", line 888, in start\n    handler_func(fd_obj, events)\n  File \"/opt/conda/lib/python3.6/site-packages/tornado/stack_context.py\", line 277, in null_wrapper\n    return fn(*args, **kwargs)\n  File \"/opt/conda/lib/python3.6/site-packages/zmq/eventloop/zmqstream.py\", line 440, in _handle_events\n    self._handle_recv()\n  File \"/opt/conda/lib/python3.6/site-packages/zmq/eventloop/zmqstream.py\", line 472, in _handle_recv\n    self._run_callback(callback, msg)\n  File \"/opt/conda/lib/python3.6/site-packages/zmq/eventloop/zmqstream.py\", line 414, in _run_callback\n    callback(*args, **kwargs)\n  File \"/opt/conda/lib/python3.6/site-packages/tornado/stack_context.py\", line 277, in null_wrapper\n    return fn(*args, **kwargs)\n  File \"/opt/conda/lib/python3.6/site-packages/ipykernel/kernelbase.py\", line 283, in dispatcher\n    return self.dispatch_shell(stream, msg)\n  File \"/opt/conda/lib/python3.6/site-packages/ipykernel/kernelbase.py\", line 235, in dispatch_shell\n    handler(stream, idents, msg)\n  File \"/opt/conda/lib/python3.6/site-packages/ipykernel/kernelbase.py\", line 399, in execute_request\n    user_expressions, allow_stdin)\n  File \"/opt/conda/lib/python3.6/site-packages/ipykernel/ipkernel.py\", line 196, in do_execute\n    res = shell.run_cell(code, store_history=store_history, silent=silent)\n  File \"/opt/conda/lib/python3.6/site-packages/ipykernel/zmqshell.py\", line 533, in run_cell\n    return super(ZMQInteractiveShell, self).run_cell(*args, **kwargs)\n  File \"/opt/conda/lib/python3.6/site-packages/IPython/core/interactiveshell.py\", line 2717, in run_cell\n    interactivity=interactivity, compiler=compiler, result=result)\n  File \"/opt/conda/lib/python3.6/site-packages/IPython/core/interactiveshell.py\", line 2821, in run_ast_nodes\n    if self.run_code(code, result):\n  File \"/opt/conda/lib/python3.6/site-packages/IPython/core/interactiveshell.py\", line 2881, in run_code\n    exec(code_obj, self.user_global_ns, self.user_ns)\n  File \"<ipython-input-4-e650c5e92164>\", line 54, in <module>\n    video_input = Input (shape=(total_frames_in_seq, height, width, channel))\n  File \"/opt/conda/lib/python3.6/site-packages/keras/engine/topology.py\", line 1426, in Input\n    input_tensor=tensor)\n  File \"/opt/conda/lib/python3.6/site-packages/keras/legacy/interfaces.py\", line 88, in wrapper\n    return func(*args, **kwargs)\n  File \"/opt/conda/lib/python3.6/site-packages/keras/engine/topology.py\", line 1337, in __init__\n    name=self.name)\n  File \"/opt/conda/lib/python3.6/site-packages/keras/backend/tensorflow_backend.py\", line 431, in placeholder\n    x = tf.placeholder(dtype, shape=shape, name=name)\n  File \"/opt/conda/lib/python3.6/site-packages/tensorflow/python/ops/array_ops.py\", line 1507, in placeholder\n    name=name)\n  File \"/opt/conda/lib/python3.6/site-packages/tensorflow/python/ops/gen_array_ops.py\", line 1997, in _placeholder\n    name=name)\n  File \"/opt/conda/lib/python3.6/site-packages/tensorflow/python/framework/op_def_library.py\", line 768, in apply_op\n    op_def=op_def)\n  File \"/opt/conda/lib/python3.6/site-packages/tensorflow/python/framework/ops.py\", line 2336, in create_op\n    original_op=self._default_original_op, op_def=op_def)\n  File \"/opt/conda/lib/python3.6/site-packages/tensorflow/python/framework/ops.py\", line 1228, in __init__\n    self._traceback = _extract_stack()\n\nInvalidArgumentError (see above for traceback): You must feed a value for placeholder tensor 'input_1' with dtype float\n\t [[Node: input_1 = Placeholder[dtype=DT_FLOAT, shape=[], _device=\"/job:localhost/replica:0/task:0/gpu:0\"]()]]\n",
     "output_type": "error",
     "traceback": [
      "\u001b[0;31m---------------------------------------------------------------------------\u001b[0m",
      "\u001b[0;31mInvalidArgumentError\u001b[0m                      Traceback (most recent call last)",
      "\u001b[0;32m/opt/conda/lib/python3.6/site-packages/tensorflow/python/client/session.py\u001b[0m in \u001b[0;36m_do_call\u001b[0;34m(self, fn, *args)\u001b[0m\n\u001b[1;32m   1038\u001b[0m     \u001b[0;32mtry\u001b[0m\u001b[0;34m:\u001b[0m\u001b[0;34m\u001b[0m\u001b[0m\n\u001b[0;32m-> 1039\u001b[0;31m       \u001b[0;32mreturn\u001b[0m \u001b[0mfn\u001b[0m\u001b[0;34m(\u001b[0m\u001b[0;34m*\u001b[0m\u001b[0margs\u001b[0m\u001b[0;34m)\u001b[0m\u001b[0;34m\u001b[0m\u001b[0m\n\u001b[0m\u001b[1;32m   1040\u001b[0m     \u001b[0;32mexcept\u001b[0m \u001b[0merrors\u001b[0m\u001b[0;34m.\u001b[0m\u001b[0mOpError\u001b[0m \u001b[0;32mas\u001b[0m \u001b[0me\u001b[0m\u001b[0;34m:\u001b[0m\u001b[0;34m\u001b[0m\u001b[0m\n",
      "\u001b[0;32m/opt/conda/lib/python3.6/site-packages/tensorflow/python/client/session.py\u001b[0m in \u001b[0;36m_run_fn\u001b[0;34m(session, feed_dict, fetch_list, target_list, options, run_metadata)\u001b[0m\n\u001b[1;32m   1020\u001b[0m                                  \u001b[0mfeed_dict\u001b[0m\u001b[0;34m,\u001b[0m \u001b[0mfetch_list\u001b[0m\u001b[0;34m,\u001b[0m \u001b[0mtarget_list\u001b[0m\u001b[0;34m,\u001b[0m\u001b[0;34m\u001b[0m\u001b[0m\n\u001b[0;32m-> 1021\u001b[0;31m                                  status, run_metadata)\n\u001b[0m\u001b[1;32m   1022\u001b[0m \u001b[0;34m\u001b[0m\u001b[0m\n",
      "\u001b[0;32m/opt/conda/lib/python3.6/contextlib.py\u001b[0m in \u001b[0;36m__exit__\u001b[0;34m(self, type, value, traceback)\u001b[0m\n\u001b[1;32m     88\u001b[0m             \u001b[0;32mtry\u001b[0m\u001b[0;34m:\u001b[0m\u001b[0;34m\u001b[0m\u001b[0m\n\u001b[0;32m---> 89\u001b[0;31m                 \u001b[0mnext\u001b[0m\u001b[0;34m(\u001b[0m\u001b[0mself\u001b[0m\u001b[0;34m.\u001b[0m\u001b[0mgen\u001b[0m\u001b[0;34m)\u001b[0m\u001b[0;34m\u001b[0m\u001b[0m\n\u001b[0m\u001b[1;32m     90\u001b[0m             \u001b[0;32mexcept\u001b[0m \u001b[0mStopIteration\u001b[0m\u001b[0;34m:\u001b[0m\u001b[0;34m\u001b[0m\u001b[0m\n",
      "\u001b[0;32m/opt/conda/lib/python3.6/site-packages/tensorflow/python/framework/errors_impl.py\u001b[0m in \u001b[0;36mraise_exception_on_not_ok_status\u001b[0;34m()\u001b[0m\n\u001b[1;32m    465\u001b[0m           \u001b[0mcompat\u001b[0m\u001b[0;34m.\u001b[0m\u001b[0mas_text\u001b[0m\u001b[0;34m(\u001b[0m\u001b[0mpywrap_tensorflow\u001b[0m\u001b[0;34m.\u001b[0m\u001b[0mTF_Message\u001b[0m\u001b[0;34m(\u001b[0m\u001b[0mstatus\u001b[0m\u001b[0;34m)\u001b[0m\u001b[0;34m)\u001b[0m\u001b[0;34m,\u001b[0m\u001b[0;34m\u001b[0m\u001b[0m\n\u001b[0;32m--> 466\u001b[0;31m           pywrap_tensorflow.TF_GetCode(status))\n\u001b[0m\u001b[1;32m    467\u001b[0m   \u001b[0;32mfinally\u001b[0m\u001b[0;34m:\u001b[0m\u001b[0;34m\u001b[0m\u001b[0m\n",
      "\u001b[0;31mInvalidArgumentError\u001b[0m: You must feed a value for placeholder tensor 'input_1' with dtype float\n\t [[Node: input_1 = Placeholder[dtype=DT_FLOAT, shape=[], _device=\"/job:localhost/replica:0/task:0/gpu:0\"]()]]",
      "\nDuring handling of the above exception, another exception occurred:\n",
      "\u001b[0;31mInvalidArgumentError\u001b[0m                      Traceback (most recent call last)",
      "\u001b[0;32m<ipython-input-20-42c71569a429>\u001b[0m in \u001b[0;36m<module>\u001b[0;34m()\u001b[0m\n\u001b[0;32m----> 1\u001b[0;31m \u001b[0mmodel\u001b[0m\u001b[0;34m.\u001b[0m\u001b[0mcompile\u001b[0m\u001b[0;34m(\u001b[0m\u001b[0moptimizer\u001b[0m\u001b[0;34m=\u001b[0m\u001b[0;34m'adam'\u001b[0m\u001b[0;34m,\u001b[0m\u001b[0mloss\u001b[0m\u001b[0;34m=\u001b[0m\u001b[0mnew_loss\u001b[0m\u001b[0;34m,\u001b[0m\u001b[0mmetrics\u001b[0m\u001b[0;34m=\u001b[0m\u001b[0;34m[\u001b[0m\u001b[0;34m'accuracy'\u001b[0m\u001b[0;34m]\u001b[0m\u001b[0;34m)\u001b[0m\u001b[0;34m\u001b[0m\u001b[0m\n\u001b[0m",
      "\u001b[0;32m/opt/conda/lib/python3.6/site-packages/keras/engine/training.py\u001b[0m in \u001b[0;36mcompile\u001b[0;34m(self, optimizer, loss, metrics, loss_weights, sample_weight_mode, **kwargs)\u001b[0m\n\u001b[1;32m    909\u001b[0m             \u001b[0mloss_weight\u001b[0m \u001b[0;34m=\u001b[0m \u001b[0mloss_weights_list\u001b[0m\u001b[0;34m[\u001b[0m\u001b[0mi\u001b[0m\u001b[0;34m]\u001b[0m\u001b[0;34m\u001b[0m\u001b[0m\n\u001b[1;32m    910\u001b[0m             output_loss = weighted_loss(y_true, y_pred,\n\u001b[0;32m--> 911\u001b[0;31m                                         sample_weight, mask)\n\u001b[0m\u001b[1;32m    912\u001b[0m             \u001b[0;32mif\u001b[0m \u001b[0mlen\u001b[0m\u001b[0;34m(\u001b[0m\u001b[0mself\u001b[0m\u001b[0;34m.\u001b[0m\u001b[0moutputs\u001b[0m\u001b[0;34m)\u001b[0m \u001b[0;34m>\u001b[0m \u001b[0;36m1\u001b[0m\u001b[0;34m:\u001b[0m\u001b[0;34m\u001b[0m\u001b[0m\n\u001b[1;32m    913\u001b[0m                 \u001b[0mself\u001b[0m\u001b[0;34m.\u001b[0m\u001b[0mmetrics_tensors\u001b[0m\u001b[0;34m.\u001b[0m\u001b[0mappend\u001b[0m\u001b[0;34m(\u001b[0m\u001b[0moutput_loss\u001b[0m\u001b[0;34m)\u001b[0m\u001b[0;34m\u001b[0m\u001b[0m\n",
      "\u001b[0;32m/opt/conda/lib/python3.6/site-packages/keras/engine/training.py\u001b[0m in \u001b[0;36mweighted\u001b[0;34m(y_true, y_pred, weights, mask)\u001b[0m\n\u001b[1;32m    434\u001b[0m         \"\"\"\n\u001b[1;32m    435\u001b[0m         \u001b[0;31m# score_array has ndim >= 2\u001b[0m\u001b[0;34m\u001b[0m\u001b[0;34m\u001b[0m\u001b[0m\n\u001b[0;32m--> 436\u001b[0;31m         \u001b[0mscore_array\u001b[0m \u001b[0;34m=\u001b[0m \u001b[0mfn\u001b[0m\u001b[0;34m(\u001b[0m\u001b[0my_true\u001b[0m\u001b[0;34m,\u001b[0m \u001b[0my_pred\u001b[0m\u001b[0;34m)\u001b[0m\u001b[0;34m\u001b[0m\u001b[0m\n\u001b[0m\u001b[1;32m    437\u001b[0m         \u001b[0;32mif\u001b[0m \u001b[0mmask\u001b[0m \u001b[0;32mis\u001b[0m \u001b[0;32mnot\u001b[0m \u001b[0;32mNone\u001b[0m\u001b[0;34m:\u001b[0m\u001b[0;34m\u001b[0m\u001b[0m\n\u001b[1;32m    438\u001b[0m             \u001b[0;31m# Cast the mask to floatX to avoid float64 upcasting in theano\u001b[0m\u001b[0;34m\u001b[0m\u001b[0;34m\u001b[0m\u001b[0m\n",
      "\u001b[0;32m<ipython-input-19-13805bbdd568>\u001b[0m in \u001b[0;36mnew_loss\u001b[0;34m(y_true, y_pred)\u001b[0m\n\u001b[1;32m     17\u001b[0m         \u001b[0mw\u001b[0m\u001b[0;34m=\u001b[0m\u001b[0;34m[\u001b[0m\u001b[0mx\u001b[0m \u001b[0;32mfor\u001b[0m \u001b[0mx\u001b[0m \u001b[0;32min\u001b[0m \u001b[0mindexes\u001b[0m\u001b[0;34m[\u001b[0m\u001b[0mi\u001b[0m\u001b[0;34m]\u001b[0m\u001b[0;34m[\u001b[0m\u001b[0;34m:\u001b[0m\u001b[0;34m]\u001b[0m \u001b[0;32mif\u001b[0m \u001b[0mx\u001b[0m\u001b[0;34m!=\u001b[0m\u001b[0;34m(\u001b[0m\u001b[0mnb_classes\u001b[0m\u001b[0;34m+\u001b[0m\u001b[0;36m1\u001b[0m\u001b[0;34m)\u001b[0m\u001b[0;34m]\u001b[0m\u001b[0;34m\u001b[0m\u001b[0m\n\u001b[1;32m     18\u001b[0m         \u001b[0mloss_2\u001b[0m\u001b[0;34m=\u001b[0m\u001b[0mloss_2\u001b[0m\u001b[0;34m+\u001b[0m\u001b[0mK\u001b[0m\u001b[0;34m.\u001b[0m\u001b[0msum\u001b[0m\u001b[0;34m(\u001b[0m\u001b[0mK\u001b[0m\u001b[0;34m.\u001b[0m\u001b[0mvar\u001b[0m\u001b[0;34m(\u001b[0m\u001b[0mactivity_features\u001b[0m\u001b[0;34m[\u001b[0m\u001b[0mw\u001b[0m\u001b[0;34m]\u001b[0m\u001b[0;34m,\u001b[0m\u001b[0maxis\u001b[0m\u001b[0;34m=\u001b[0m\u001b[0;36m0\u001b[0m\u001b[0;34m)\u001b[0m\u001b[0;34m)\u001b[0m\u001b[0;34m\u001b[0m\u001b[0m\n\u001b[0;32m---> 19\u001b[0;31m         \u001b[0mprint\u001b[0m\u001b[0;34m(\u001b[0m\u001b[0mK\u001b[0m\u001b[0;34m.\u001b[0m\u001b[0meval\u001b[0m\u001b[0;34m(\u001b[0m\u001b[0mloss_2\u001b[0m\u001b[0;34m)\u001b[0m\u001b[0;34m)\u001b[0m\u001b[0;34m\u001b[0m\u001b[0m\n\u001b[0m\u001b[1;32m     20\u001b[0m \u001b[0;34m\u001b[0m\u001b[0m\n\u001b[1;32m     21\u001b[0m     \u001b[0;32mreturn\u001b[0m \u001b[0mloss_1\u001b[0m\u001b[0;34m+\u001b[0m\u001b[0mloss_2\u001b[0m\u001b[0;34m\u001b[0m\u001b[0m\n",
      "\u001b[0;32m/opt/conda/lib/python3.6/site-packages/keras/backend/tensorflow_backend.py\u001b[0m in \u001b[0;36meval\u001b[0;34m(x)\u001b[0m\n\u001b[1;32m    571\u001b[0m     \u001b[0;31m`\u001b[0m\u001b[0;31m`\u001b[0m\u001b[0;31m`\u001b[0m\u001b[0;34m\u001b[0m\u001b[0m\n\u001b[1;32m    572\u001b[0m     \"\"\"\n\u001b[0;32m--> 573\u001b[0;31m     \u001b[0;32mreturn\u001b[0m \u001b[0mto_dense\u001b[0m\u001b[0;34m(\u001b[0m\u001b[0mx\u001b[0m\u001b[0;34m)\u001b[0m\u001b[0;34m.\u001b[0m\u001b[0meval\u001b[0m\u001b[0;34m(\u001b[0m\u001b[0msession\u001b[0m\u001b[0;34m=\u001b[0m\u001b[0mget_session\u001b[0m\u001b[0;34m(\u001b[0m\u001b[0;34m)\u001b[0m\u001b[0;34m)\u001b[0m\u001b[0;34m\u001b[0m\u001b[0m\n\u001b[0m\u001b[1;32m    574\u001b[0m \u001b[0;34m\u001b[0m\u001b[0m\n\u001b[1;32m    575\u001b[0m \u001b[0;34m\u001b[0m\u001b[0m\n",
      "\u001b[0;32m/opt/conda/lib/python3.6/site-packages/tensorflow/python/framework/ops.py\u001b[0m in \u001b[0;36meval\u001b[0;34m(self, feed_dict, session)\u001b[0m\n\u001b[1;32m    567\u001b[0m \u001b[0;34m\u001b[0m\u001b[0m\n\u001b[1;32m    568\u001b[0m     \"\"\"\n\u001b[0;32m--> 569\u001b[0;31m     \u001b[0;32mreturn\u001b[0m \u001b[0m_eval_using_default_session\u001b[0m\u001b[0;34m(\u001b[0m\u001b[0mself\u001b[0m\u001b[0;34m,\u001b[0m \u001b[0mfeed_dict\u001b[0m\u001b[0;34m,\u001b[0m \u001b[0mself\u001b[0m\u001b[0;34m.\u001b[0m\u001b[0mgraph\u001b[0m\u001b[0;34m,\u001b[0m \u001b[0msession\u001b[0m\u001b[0;34m)\u001b[0m\u001b[0;34m\u001b[0m\u001b[0m\n\u001b[0m\u001b[1;32m    570\u001b[0m \u001b[0;34m\u001b[0m\u001b[0m\n\u001b[1;32m    571\u001b[0m \u001b[0;34m\u001b[0m\u001b[0m\n",
      "\u001b[0;32m/opt/conda/lib/python3.6/site-packages/tensorflow/python/framework/ops.py\u001b[0m in \u001b[0;36m_eval_using_default_session\u001b[0;34m(tensors, feed_dict, graph, session)\u001b[0m\n\u001b[1;32m   3739\u001b[0m                        \u001b[0;34m\"the tensor's graph is different from the session's \"\u001b[0m\u001b[0;34m\u001b[0m\u001b[0m\n\u001b[1;32m   3740\u001b[0m                        \"graph.\")\n\u001b[0;32m-> 3741\u001b[0;31m   \u001b[0;32mreturn\u001b[0m \u001b[0msession\u001b[0m\u001b[0;34m.\u001b[0m\u001b[0mrun\u001b[0m\u001b[0;34m(\u001b[0m\u001b[0mtensors\u001b[0m\u001b[0;34m,\u001b[0m \u001b[0mfeed_dict\u001b[0m\u001b[0;34m)\u001b[0m\u001b[0;34m\u001b[0m\u001b[0m\n\u001b[0m\u001b[1;32m   3742\u001b[0m \u001b[0;34m\u001b[0m\u001b[0m\n\u001b[1;32m   3743\u001b[0m \u001b[0;34m\u001b[0m\u001b[0m\n",
      "\u001b[0;32m/opt/conda/lib/python3.6/site-packages/tensorflow/python/client/session.py\u001b[0m in \u001b[0;36mrun\u001b[0;34m(self, fetches, feed_dict, options, run_metadata)\u001b[0m\n\u001b[1;32m    776\u001b[0m     \u001b[0;32mtry\u001b[0m\u001b[0;34m:\u001b[0m\u001b[0;34m\u001b[0m\u001b[0m\n\u001b[1;32m    777\u001b[0m       result = self._run(None, fetches, feed_dict, options_ptr,\n\u001b[0;32m--> 778\u001b[0;31m                          run_metadata_ptr)\n\u001b[0m\u001b[1;32m    779\u001b[0m       \u001b[0;32mif\u001b[0m \u001b[0mrun_metadata\u001b[0m\u001b[0;34m:\u001b[0m\u001b[0;34m\u001b[0m\u001b[0m\n\u001b[1;32m    780\u001b[0m         \u001b[0mproto_data\u001b[0m \u001b[0;34m=\u001b[0m \u001b[0mtf_session\u001b[0m\u001b[0;34m.\u001b[0m\u001b[0mTF_GetBuffer\u001b[0m\u001b[0;34m(\u001b[0m\u001b[0mrun_metadata_ptr\u001b[0m\u001b[0;34m)\u001b[0m\u001b[0;34m\u001b[0m\u001b[0m\n",
      "\u001b[0;32m/opt/conda/lib/python3.6/site-packages/tensorflow/python/client/session.py\u001b[0m in \u001b[0;36m_run\u001b[0;34m(self, handle, fetches, feed_dict, options, run_metadata)\u001b[0m\n\u001b[1;32m    980\u001b[0m     \u001b[0;32mif\u001b[0m \u001b[0mfinal_fetches\u001b[0m \u001b[0;32mor\u001b[0m \u001b[0mfinal_targets\u001b[0m\u001b[0;34m:\u001b[0m\u001b[0;34m\u001b[0m\u001b[0m\n\u001b[1;32m    981\u001b[0m       results = self._do_run(handle, final_targets, final_fetches,\n\u001b[0;32m--> 982\u001b[0;31m                              feed_dict_string, options, run_metadata)\n\u001b[0m\u001b[1;32m    983\u001b[0m     \u001b[0;32melse\u001b[0m\u001b[0;34m:\u001b[0m\u001b[0;34m\u001b[0m\u001b[0m\n\u001b[1;32m    984\u001b[0m       \u001b[0mresults\u001b[0m \u001b[0;34m=\u001b[0m \u001b[0;34m[\u001b[0m\u001b[0;34m]\u001b[0m\u001b[0;34m\u001b[0m\u001b[0m\n",
      "\u001b[0;32m/opt/conda/lib/python3.6/site-packages/tensorflow/python/client/session.py\u001b[0m in \u001b[0;36m_do_run\u001b[0;34m(self, handle, target_list, fetch_list, feed_dict, options, run_metadata)\u001b[0m\n\u001b[1;32m   1030\u001b[0m     \u001b[0;32mif\u001b[0m \u001b[0mhandle\u001b[0m \u001b[0;32mis\u001b[0m \u001b[0;32mNone\u001b[0m\u001b[0;34m:\u001b[0m\u001b[0;34m\u001b[0m\u001b[0m\n\u001b[1;32m   1031\u001b[0m       return self._do_call(_run_fn, self._session, feed_dict, fetch_list,\n\u001b[0;32m-> 1032\u001b[0;31m                            target_list, options, run_metadata)\n\u001b[0m\u001b[1;32m   1033\u001b[0m     \u001b[0;32melse\u001b[0m\u001b[0;34m:\u001b[0m\u001b[0;34m\u001b[0m\u001b[0m\n\u001b[1;32m   1034\u001b[0m       return self._do_call(_prun_fn, self._session, handle, feed_dict,\n",
      "\u001b[0;32m/opt/conda/lib/python3.6/site-packages/tensorflow/python/client/session.py\u001b[0m in \u001b[0;36m_do_call\u001b[0;34m(self, fn, *args)\u001b[0m\n\u001b[1;32m   1050\u001b[0m         \u001b[0;32mexcept\u001b[0m \u001b[0mKeyError\u001b[0m\u001b[0;34m:\u001b[0m\u001b[0;34m\u001b[0m\u001b[0m\n\u001b[1;32m   1051\u001b[0m           \u001b[0;32mpass\u001b[0m\u001b[0;34m\u001b[0m\u001b[0m\n\u001b[0;32m-> 1052\u001b[0;31m       \u001b[0;32mraise\u001b[0m \u001b[0mtype\u001b[0m\u001b[0;34m(\u001b[0m\u001b[0me\u001b[0m\u001b[0;34m)\u001b[0m\u001b[0;34m(\u001b[0m\u001b[0mnode_def\u001b[0m\u001b[0;34m,\u001b[0m \u001b[0mop\u001b[0m\u001b[0;34m,\u001b[0m \u001b[0mmessage\u001b[0m\u001b[0;34m)\u001b[0m\u001b[0;34m\u001b[0m\u001b[0m\n\u001b[0m\u001b[1;32m   1053\u001b[0m \u001b[0;34m\u001b[0m\u001b[0m\n\u001b[1;32m   1054\u001b[0m   \u001b[0;32mdef\u001b[0m \u001b[0m_extend_graph\u001b[0m\u001b[0;34m(\u001b[0m\u001b[0mself\u001b[0m\u001b[0;34m)\u001b[0m\u001b[0;34m:\u001b[0m\u001b[0;34m\u001b[0m\u001b[0m\n",
      "\u001b[0;31mInvalidArgumentError\u001b[0m: You must feed a value for placeholder tensor 'input_1' with dtype float\n\t [[Node: input_1 = Placeholder[dtype=DT_FLOAT, shape=[], _device=\"/job:localhost/replica:0/task:0/gpu:0\"]()]]\n\nCaused by op 'input_1', defined at:\n  File \"/opt/conda/lib/python3.6/runpy.py\", line 193, in _run_module_as_main\n    \"__main__\", mod_spec)\n  File \"/opt/conda/lib/python3.6/runpy.py\", line 85, in _run_code\n    exec(code, run_globals)\n  File \"/opt/conda/lib/python3.6/site-packages/ipykernel_launcher.py\", line 16, in <module>\n    app.launch_new_instance()\n  File \"/opt/conda/lib/python3.6/site-packages/traitlets/config/application.py\", line 658, in launch_instance\n    app.start()\n  File \"/opt/conda/lib/python3.6/site-packages/ipykernel/kernelapp.py\", line 477, in start\n    ioloop.IOLoop.instance().start()\n  File \"/opt/conda/lib/python3.6/site-packages/zmq/eventloop/ioloop.py\", line 177, in start\n    super(ZMQIOLoop, self).start()\n  File \"/opt/conda/lib/python3.6/site-packages/tornado/ioloop.py\", line 888, in start\n    handler_func(fd_obj, events)\n  File \"/opt/conda/lib/python3.6/site-packages/tornado/stack_context.py\", line 277, in null_wrapper\n    return fn(*args, **kwargs)\n  File \"/opt/conda/lib/python3.6/site-packages/zmq/eventloop/zmqstream.py\", line 440, in _handle_events\n    self._handle_recv()\n  File \"/opt/conda/lib/python3.6/site-packages/zmq/eventloop/zmqstream.py\", line 472, in _handle_recv\n    self._run_callback(callback, msg)\n  File \"/opt/conda/lib/python3.6/site-packages/zmq/eventloop/zmqstream.py\", line 414, in _run_callback\n    callback(*args, **kwargs)\n  File \"/opt/conda/lib/python3.6/site-packages/tornado/stack_context.py\", line 277, in null_wrapper\n    return fn(*args, **kwargs)\n  File \"/opt/conda/lib/python3.6/site-packages/ipykernel/kernelbase.py\", line 283, in dispatcher\n    return self.dispatch_shell(stream, msg)\n  File \"/opt/conda/lib/python3.6/site-packages/ipykernel/kernelbase.py\", line 235, in dispatch_shell\n    handler(stream, idents, msg)\n  File \"/opt/conda/lib/python3.6/site-packages/ipykernel/kernelbase.py\", line 399, in execute_request\n    user_expressions, allow_stdin)\n  File \"/opt/conda/lib/python3.6/site-packages/ipykernel/ipkernel.py\", line 196, in do_execute\n    res = shell.run_cell(code, store_history=store_history, silent=silent)\n  File \"/opt/conda/lib/python3.6/site-packages/ipykernel/zmqshell.py\", line 533, in run_cell\n    return super(ZMQInteractiveShell, self).run_cell(*args, **kwargs)\n  File \"/opt/conda/lib/python3.6/site-packages/IPython/core/interactiveshell.py\", line 2717, in run_cell\n    interactivity=interactivity, compiler=compiler, result=result)\n  File \"/opt/conda/lib/python3.6/site-packages/IPython/core/interactiveshell.py\", line 2821, in run_ast_nodes\n    if self.run_code(code, result):\n  File \"/opt/conda/lib/python3.6/site-packages/IPython/core/interactiveshell.py\", line 2881, in run_code\n    exec(code_obj, self.user_global_ns, self.user_ns)\n  File \"<ipython-input-4-e650c5e92164>\", line 54, in <module>\n    video_input = Input (shape=(total_frames_in_seq, height, width, channel))\n  File \"/opt/conda/lib/python3.6/site-packages/keras/engine/topology.py\", line 1426, in Input\n    input_tensor=tensor)\n  File \"/opt/conda/lib/python3.6/site-packages/keras/legacy/interfaces.py\", line 88, in wrapper\n    return func(*args, **kwargs)\n  File \"/opt/conda/lib/python3.6/site-packages/keras/engine/topology.py\", line 1337, in __init__\n    name=self.name)\n  File \"/opt/conda/lib/python3.6/site-packages/keras/backend/tensorflow_backend.py\", line 431, in placeholder\n    x = tf.placeholder(dtype, shape=shape, name=name)\n  File \"/opt/conda/lib/python3.6/site-packages/tensorflow/python/ops/array_ops.py\", line 1507, in placeholder\n    name=name)\n  File \"/opt/conda/lib/python3.6/site-packages/tensorflow/python/ops/gen_array_ops.py\", line 1997, in _placeholder\n    name=name)\n  File \"/opt/conda/lib/python3.6/site-packages/tensorflow/python/framework/op_def_library.py\", line 768, in apply_op\n    op_def=op_def)\n  File \"/opt/conda/lib/python3.6/site-packages/tensorflow/python/framework/ops.py\", line 2336, in create_op\n    original_op=self._default_original_op, op_def=op_def)\n  File \"/opt/conda/lib/python3.6/site-packages/tensorflow/python/framework/ops.py\", line 1228, in __init__\n    self._traceback = _extract_stack()\n\nInvalidArgumentError (see above for traceback): You must feed a value for placeholder tensor 'input_1' with dtype float\n\t [[Node: input_1 = Placeholder[dtype=DT_FLOAT, shape=[], _device=\"/job:localhost/replica:0/task:0/gpu:0\"]()]]\n"
     ]
    }
   ],
   "source": [
    "model.compile(optimizer='adam',loss=new_loss,metrics=['accuracy'])"
   ]
  },
  {
   "cell_type": "markdown",
   "metadata": {},
   "source": [
    "#### Training "
   ]
  },
  {
   "cell_type": "code",
   "execution_count": null,
   "metadata": {
    "scrolled": true
   },
   "outputs": [],
   "source": [
    "for i in range(iterations):\n",
    "    train_images, train_labels_uncat, next_batch_start, _ = ucf. read_vid_and_label('UCF101_data_preparation/train.list',10,-1,16,112,normalisation=True)\n",
    "    train_labels=keras.utils.to_categorical(train_labels_uncat, num_classes=nb_classes)\n",
    "    #print(train_images.shape)\n",
    "    #print(train_labels_uncat)\n",
    "    model.fit(train_images, train_labels,batch_size=batch_size, epochs=num_epoch, verbose=1,validation_split=0.0, validation_data=None, shuffle=False)\n",
    "    #print(next_batch_start)"
   ]
  },
  {
   "cell_type": "code",
   "execution_count": null,
   "metadata": {},
   "outputs": [],
   "source": [
    "test_images, test_labels_uncat, next_batch_start, _ = ucf. read_vid_and_label('UCF101_data_preparation/test.list',1000,-1,16,112,normalisation=True)\n",
    "test_labels=keras.utils.to_categorical(test_labels_uncat, num_classes=nb_classes)\n",
    "#print(test_images.shape)\n",
    "print(test_labels_uncat)\n",
    "score = model.evaluate(test_images, test_labels, batch_size=50)\n",
    "print(score)\n",
    "\n"
   ]
  },
  {
   "cell_type": "code",
   "execution_count": null,
   "metadata": {
    "collapsed": true
   },
   "outputs": [],
   "source": []
  }
 ],
 "metadata": {
  "anaconda-cloud": {},
  "kernelspec": {
   "display_name": "Python 3",
   "language": "python",
   "name": "python3"
  },
  "language_info": {
   "codemirror_mode": {
    "name": "ipython",
    "version": 3
   },
   "file_extension": ".py",
   "mimetype": "text/x-python",
   "name": "python",
   "nbconvert_exporter": "python",
   "pygments_lexer": "ipython3",
   "version": "3.6.1"
  }
 },
 "nbformat": 4,
 "nbformat_minor": 2
}
