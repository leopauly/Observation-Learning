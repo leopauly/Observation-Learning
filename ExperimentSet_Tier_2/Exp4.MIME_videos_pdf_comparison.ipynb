{
 "cells": [
  {
   "cell_type": "markdown",
   "metadata": {
    "collapsed": true
   },
   "source": [
    "Author : @leopauly | cnlp@leeds.ac.uk <br>\n",
    "Description : Studying the feature vectors in the feature space"
   ]
  },
  {
   "cell_type": "code",
   "execution_count": 1,
   "metadata": {},
   "outputs": [
    {
     "name": "stderr",
     "output_type": "stream",
     "text": [
      "Using TensorFlow backend.\n"
     ]
    }
   ],
   "source": [
    "import os\n",
    "from six.moves import xrange  \n",
    "import PIL.Image as Image\n",
    "import random\n",
    "import numpy as np\n",
    "import cv2\n",
    "import time\n",
    "import math\n",
    "import matplotlib.pyplot as plt\n",
    "import tensorflow as tf\n",
    "import sklearn\n",
    "from keras import backend as K\n",
    "from sklearn.decomposition import PCA\n",
    "from sklearn.manifold import TSNE\n",
    "from skimage import io\n",
    "import warnings\n",
    "import scipy\n",
    "from scipy import stats \n",
    "warnings.filterwarnings('ignore')\n",
    "from sklearn.preprocessing import MinMaxScaler\n",
    "\n",
    "# Custom scripts\n",
    "import lscript as lsp\n",
    "import modelling as md"
   ]
  },
  {
   "cell_type": "code",
   "execution_count": 2,
   "metadata": {
    "collapsed": true
   },
   "outputs": [],
   "source": [
    "height=112 \n",
    "width=112 \n",
    "channel=3\n",
    "crop_size=112\n",
    "cluster_length=16\n",
    "feature_size=8192 \n",
    "saved_path='/nobackup/leopauly/S2l/MIME/90_10_shuffle/'"
   ]
  },
  {
   "cell_type": "markdown",
   "metadata": {},
   "source": [
    "####  Loading model"
   ]
  },
  {
   "cell_type": "code",
   "execution_count": 3,
   "metadata": {},
   "outputs": [
    {
     "name": "stdout",
     "output_type": "stream",
     "text": [
      "_________________________________________________________________\n",
      "Layer (type)                 Output Shape              Param #   \n",
      "=================================================================\n",
      "conv1 (Conv3D)               (None, 16, 112, 112, 64)  5248      \n",
      "_________________________________________________________________\n",
      "pool1 (MaxPooling3D)         (None, 16, 56, 56, 64)    0         \n",
      "_________________________________________________________________\n",
      "conv2 (Conv3D)               (None, 16, 56, 56, 128)   221312    \n",
      "_________________________________________________________________\n",
      "pool2 (MaxPooling3D)         (None, 8, 28, 28, 128)    0         \n",
      "_________________________________________________________________\n",
      "conv3a (Conv3D)              (None, 8, 28, 28, 256)    884992    \n",
      "_________________________________________________________________\n",
      "conv3b (Conv3D)              (None, 8, 28, 28, 256)    1769728   \n",
      "_________________________________________________________________\n",
      "pool3 (MaxPooling3D)         (None, 4, 14, 14, 256)    0         \n",
      "_________________________________________________________________\n",
      "conv4a (Conv3D)              (None, 4, 14, 14, 512)    3539456   \n",
      "_________________________________________________________________\n",
      "conv4b (Conv3D)              (None, 4, 14, 14, 512)    7078400   \n",
      "_________________________________________________________________\n",
      "pool4 (MaxPooling3D)         (None, 2, 7, 7, 512)      0         \n",
      "_________________________________________________________________\n",
      "conv5a (Conv3D)              (None, 2, 7, 7, 512)      7078400   \n",
      "_________________________________________________________________\n",
      "conv5b (Conv3D)              (None, 2, 7, 7, 512)      7078400   \n",
      "_________________________________________________________________\n",
      "zeropad5 (ZeroPadding3D)     (None, 2, 8, 8, 512)      0         \n",
      "_________________________________________________________________\n",
      "pool5 (MaxPooling3D)         (None, 1, 4, 4, 512)      0         \n",
      "_________________________________________________________________\n",
      "flatten_1 (Flatten)          (None, 8192)              0         \n",
      "_________________________________________________________________\n",
      "fc6 (Dense)                  (None, 4096)              33558528  \n",
      "_________________________________________________________________\n",
      "dropout_1 (Dropout)          (None, 4096)              0         \n",
      "_________________________________________________________________\n",
      "fc7 (Dense)                  (None, 4096)              16781312  \n",
      "_________________________________________________________________\n",
      "dropout_2 (Dropout)          (None, 4096)              0         \n",
      "_________________________________________________________________\n",
      "fc8 (Dense)                  (None, 20)                81940     \n",
      "=================================================================\n",
      "Total params: 78,077,716\n",
      "Trainable params: 78,077,716\n",
      "Non-trainable params: 0\n",
      "_________________________________________________________________\n",
      "None\n",
      "Miscellenious items finished..!!\n"
     ]
    }
   ],
   "source": [
    "## Defining placeholders in tf for images and targets\n",
    "x_image = tf.placeholder(tf.float32, [None, cluster_length,height,width,channel],name='x') \n",
    "model_keras = md.C3D_MIME20_training_model_tf(summary=True)\n",
    "out=model_keras(x_image)\n",
    "y_pred = tf.nn.softmax(out)\n",
    "\n",
    "print('Miscellenious items finished..!!',flush=True)"
   ]
  },
  {
   "cell_type": "code",
   "execution_count": 4,
   "metadata": {},
   "outputs": [
    {
     "name": "stdout",
     "output_type": "stream",
     "text": [
      "INFO:tensorflow:Restoring parameters from /nobackup/leopauly/S2l/MIME/90_10_shuffle/activity_model.ckpt-155\n",
      "Model restored from file: /nobackup/leopauly/S2l/MIME/90_10_shuffle/\n"
     ]
    }
   ],
   "source": [
    "## Start the session with logging placement.\n",
    "init_op = tf.global_variables_initializer()\n",
    "sess = tf.Session(config=tf.ConfigProto(allow_soft_placement=True, log_device_placement=False))\n",
    "sess.run(init_op)\n",
    "\n",
    "## Restore model weights from previously saved model\n",
    "saver = tf.train.Saver()\n",
    "saver.restore(sess, os.path.join(saved_path,'activity_model.ckpt-155'))\n",
    "print(\"Model restored from file: %s\" % saved_path,flush=True)"
   ]
  },
  {
   "cell_type": "markdown",
   "metadata": {},
   "source": [
    "#### wessertein distance"
   ]
  },
  {
   "cell_type": "code",
   "execution_count": 5,
   "metadata": {
    "collapsed": true
   },
   "outputs": [],
   "source": [
    "def _validate_distribution(values, weights):\n",
    "    \"\"\"\n",
    "    Validate the values and weights from a distribution input of `cdf_distance`\n",
    "    and return them as ndarray objects.\n",
    "    Parameters\n",
    "    ----------\n",
    "    values : array_like\n",
    "        Values observed in the (empirical) distribution.\n",
    "    weights : array_like\n",
    "        Weight for each value.\n",
    "    Returns\n",
    "    -------\n",
    "    values : ndarray\n",
    "        Values as ndarray.\n",
    "    weights : ndarray\n",
    "        Weights as ndarray.\n",
    "    \"\"\"\n",
    "    # Validate the value array.\n",
    "    values = np.asarray(values, dtype=float)\n",
    "    if len(values) == 0:\n",
    "        raise ValueError(\"Distribution can't be empty.\")\n",
    "\n",
    "    # Validate the weight array, if specified.\n",
    "    if weights is not None:\n",
    "        weights = np.asarray(weights, dtype=float)\n",
    "        if len(weights) != len(values):\n",
    "            raise ValueError('Value and weight array-likes for the same '\n",
    "                             'empirical distribution must be of the same size.')\n",
    "        if np.any(weights < 0):\n",
    "            raise ValueError('All weights must be non-negative.')\n",
    "        if not 0 < np.sum(weights) < np.inf:\n",
    "            raise ValueError('Weight array-like sum must be positive and '\n",
    "                             'finite. Set as None for an equal distribution of '\n",
    "                             'weight.')\n",
    "\n",
    "        return values, weights\n",
    "\n",
    "    return values, None\n"
   ]
  },
  {
   "cell_type": "code",
   "execution_count": 6,
   "metadata": {
    "collapsed": true
   },
   "outputs": [],
   "source": [
    "def _cdf_distance(p, u_values, v_values, u_weights=None, v_weights=None):\n",
    "    r\"\"\"\n",
    "    Compute, between two one-dimensional distributions :math:`u` and\n",
    "    :math:`v`, whose respective CDFs are :math:`U` and :math:`V`, the\n",
    "    statistical distance that is defined as:\n",
    "    .. math::\n",
    "        l_p(u, v) = \\left( \\int_{-\\infty}^{+\\infty} |U-V|^p \\right)^{1/p}\n",
    "    p is a positive parameter; p = 1 gives the Wasserstein distance, p = 2\n",
    "    gives the energy distance.\n",
    "    Parameters\n",
    "    ----------\n",
    "    u_values, v_values : array_like\n",
    "        Values observed in the (empirical) distribution.\n",
    "    u_weights, v_weights : array_like, optional\n",
    "        Weight for each value. If unspecified, each value is assigned the same\n",
    "        weight.\n",
    "        `u_weights` (resp. `v_weights`) must have the same length as\n",
    "        `u_values` (resp. `v_values`). If the weight sum differs from 1, it\n",
    "        must still be positive and finite so that the weights can be normalized\n",
    "        to sum to 1.\n",
    "    Returns\n",
    "    -------\n",
    "    distance : float\n",
    "        The computed distance between the distributions.\n",
    "    Notes\n",
    "    -----\n",
    "    The input distributions can be empirical, therefore coming from samples\n",
    "    whose values are effectively inputs of the function, or they can be seen as\n",
    "    generalized functions, in which case they are weighted sums of Dirac delta\n",
    "    functions located at the specified values.\n",
    "    References\n",
    "    ----------\n",
    "    .. [1] Bellemare, Danihelka, Dabney, Mohamed, Lakshminarayanan, Hoyer,\n",
    "           Munos \"The Cramer Distance as a Solution to Biased Wasserstein\n",
    "           Gradients\" (2017). :arXiv:`1705.10743`.\n",
    "    \"\"\"\n",
    "    u_values, u_weights = _validate_distribution(u_values, u_weights)\n",
    "    v_values, v_weights = _validate_distribution(v_values, v_weights)\n",
    "\n",
    "    u_sorter = np.argsort(u_values)\n",
    "    v_sorter = np.argsort(v_values)\n",
    "\n",
    "    all_values = np.concatenate((u_values, v_values))\n",
    "    all_values.sort(kind='mergesort')\n",
    "\n",
    "    # Compute the differences between pairs of successive values of u and v.\n",
    "    deltas = np.diff(all_values)\n",
    "\n",
    "    # Get the respective positions of the values of u and v among the values of\n",
    "    # both distributions.\n",
    "    u_cdf_indices = u_values[u_sorter].searchsorted(all_values[:-1], 'right')\n",
    "    v_cdf_indices = v_values[v_sorter].searchsorted(all_values[:-1], 'right')\n",
    "\n",
    "    # Calculate the CDFs of u and v using their weights, if specified.\n",
    "    if u_weights is None:\n",
    "        u_cdf = u_cdf_indices / u_values.size\n",
    "    else:\n",
    "        u_sorted_cumweights = np.concatenate(([0],\n",
    "                                              np.cumsum(u_weights[u_sorter])))\n",
    "        u_cdf = u_sorted_cumweights[u_cdf_indices] / u_sorted_cumweights[-1]\n",
    "\n",
    "    if v_weights is None:\n",
    "        v_cdf = v_cdf_indices / v_values.size\n",
    "    else:\n",
    "        v_sorted_cumweights = np.concatenate(([0],\n",
    "                                              np.cumsum(v_weights[v_sorter])))\n",
    "        v_cdf = v_sorted_cumweights[v_cdf_indices] / v_sorted_cumweights[-1]\n",
    "        \n",
    "    \n",
    "    # Compute the value of the integral based on the CDFs.\n",
    "    # If p = 1 or p = 2, we avoid using np.power, which introduces an overhead\n",
    "    # of about 15%.\n",
    "    if p == 1:\n",
    "        return np.sum(np.multiply(np.abs(u_cdf - v_cdf), deltas))\n",
    "    if p == 2:\n",
    "        return np.sqrt(np.sum(np.multiply(np.square(u_cdf - v_cdf), deltas)))\n",
    "    return np.power(np.sum(np.multiply(np.power(np.abs(u_cdf - v_cdf), p),\n",
    "                                       deltas)), 1/p)\n"
   ]
  },
  {
   "cell_type": "code",
   "execution_count": 7,
   "metadata": {
    "collapsed": true
   },
   "outputs": [],
   "source": [
    "\n",
    "def wasserstein_distance(u_values, v_values, u_weights=None, v_weights=None):\n",
    "    r\"\"\"\n",
    "    Compute the first Wasserstein distance between two 1D distributions.\n",
    "    This distance is also known as the earth mover's distance, since it can be\n",
    "    seen as the minimum amount of \"work\" required to transform :math:`u` into\n",
    "    :math:`v`, where \"work\" is measured as the amount of distribution weight\n",
    "    that must be moved, multiplied by the distance it has to be moved.\n",
    "    .. versionadded:: 1.0.0\n",
    "    Parameters\n",
    "    ----------\n",
    "    u_values, v_values : array_like\n",
    "        Values observed in the (empirical) distribution.\n",
    "    u_weights, v_weights : array_like, optional\n",
    "        Weight for each value. If unspecified, each value is assigned the same\n",
    "        weight.\n",
    "        `u_weights` (resp. `v_weights`) must have the same length as\n",
    "        `u_values` (resp. `v_values`). If the weight sum differs from 1, it\n",
    "        must still be positive and finite so that the weights can be normalized\n",
    "        to sum to 1.\n",
    "    Returns\n",
    "    -------\n",
    "    distance : float\n",
    "        The computed distance between the distributions.\n",
    "    Notes\n",
    "    -----\n",
    "    The first Wasserstein distance between the distributions :math:`u` and\n",
    "    :math:`v` is:\n",
    "    .. math::\n",
    "        l_1 (u, v) = \\inf_{\\pi \\in \\Gamma (u, v)} \\int_{\\mathbb{R} \\times\n",
    "        \\mathbb{R}} |x-y| \\mathrm{d} \\pi (x, y)\n",
    "    where :math:`\\Gamma (u, v)` is the set of (probability) distributions on\n",
    "    :math:`\\mathbb{R} \\times \\mathbb{R}` whose marginals are :math:`u` and\n",
    "    :math:`v` on the first and second factors respectively.\n",
    "    If :math:`U` and :math:`V` are the respective CDFs of :math:`u` and\n",
    "    :math:`v`, this distance also equals to:\n",
    "    .. math::\n",
    "        l_1(u, v) = \\int_{-\\infty}^{+\\infty} |U-V|\n",
    "    See [2]_ for a proof of the equivalence of both definitions.\n",
    "    The input distributions can be empirical, therefore coming from samples\n",
    "    whose values are effectively inputs of the function, or they can be seen as\n",
    "    generalized functions, in which case they are weighted sums of Dirac delta\n",
    "    functions located at the specified values.\n",
    "    References\n",
    "    ----------\n",
    "    .. [1] \"Wasserstein metric\", https://en.wikipedia.org/wiki/Wasserstein_metric\n",
    "    .. [2] Ramdas, Garcia, Cuturi \"On Wasserstein Two Sample Testing and Related\n",
    "           Families of Nonparametric Tests\" (2015). :arXiv:`1509.02237`.\n",
    "    Examples\n",
    "    --------\n",
    "    >>> from scipy.stats import wasserstein_distance\n",
    "    >>> wasserstein_distance([0, 1, 3], [5, 6, 8])\n",
    "    5.0\n",
    "    >>> wasserstein_distance([0, 1], [0, 1], [3, 1], [2, 2])\n",
    "    0.25\n",
    "    >>> wasserstein_distance([3.4, 3.9, 7.5, 7.8], [4.5, 1.4],\n",
    "    ...                      [1.4, 0.9, 3.1, 7.2], [3.2, 3.5])\n",
    "    4.0781331438047861\n",
    "    \"\"\"\n",
    "    return _cdf_distance(1, u_values, v_values, u_weights, v_weights)"
   ]
  },
  {
   "cell_type": "raw",
   "metadata": {},
   "source": [
    "sampP = [1,1,1,1,1,1,2,3,4,5]\n",
    "sampQ = [1,2,3,4,5,5,5,5,5,5]\n",
    "sampQ2 = [1,2,2,2,2,2,2,3,4,5]\n",
    "\n",
    "P = np.unique(sampP, return_counts=True)[1] / len(sampP)\n",
    "Q = np.unique(sampQ, return_counts=True)[1] / len(sampQ)\n",
    "Q2 = np.unique(sampQ2, return_counts=True)[1] / len(sampQ2)\n",
    "print(P,Q,Q2)\n",
    "\n",
    "\n",
    "wasserstein_distance(range(len(P)), range(len(Q)), Q2, Q)"
   ]
  },
  {
   "cell_type": "code",
   "execution_count": null,
   "metadata": {
    "collapsed": true
   },
   "outputs": [],
   "source": []
  },
  {
   "cell_type": "markdown",
   "metadata": {},
   "source": [
    "####  Feature extraction and Distance calculation"
   ]
  },
  {
   "cell_type": "code",
   "execution_count": 8,
   "metadata": {
    "collapsed": true
   },
   "outputs": [],
   "source": [
    "## Uniform sampling of frames\n",
    "def get_compress_frames_data(filename, num_frames_per_clip=16):\n",
    "  ''' Given a directory containing extracted frames, return a video clip of\n",
    "  (num_frames_per_clip) consecutive frames as a list of np arrays '''\n",
    "  ret_arr = []\n",
    "  for parent, dirnames, filenames in os.walk(filename):\n",
    "\n",
    "    filenames = sorted(filenames)\n",
    "    jump=math.floor((len(filenames)/num_frames_per_clip))\n",
    "    loop=0\n",
    "    for i in range(0,len(filenames),jump):\n",
    "      if (loop>15):\n",
    "        break\n",
    "      if (filenames[i].endswith('.png')):\n",
    "        image_name = str(filename) + '/' + str(filenames[i])\n",
    "        img = Image.open(image_name)\n",
    "        img_data = np.array(img)\n",
    "        ret_arr.append(img_data)\n",
    "        loop=loop+1\n",
    "  ret_arr=np.array(ret_arr) #ret_arr=ret_arr/255\n",
    "  return np.array(ret_arr)"
   ]
  },
  {
   "cell_type": "code",
   "execution_count": 9,
   "metadata": {
    "collapsed": true
   },
   "outputs": [],
   "source": [
    "## Extraction of features \n",
    "def extract_video_features(vid):\n",
    "    vid_=vid.reshape(-1,cluster_length,height,width,channel)\n",
    "    f_v = sess.graph.get_tensor_by_name('flatten_1/Reshape:0') \n",
    "    #'flatten_1/Reshape:0' #dropout_1/cond/Merge:0 #fc8/BiasAdd:0 #Softmax:0\n",
    "    f_v_val=sess.run([f_v], feed_dict={'conv1_input:0':vid_,x_image:vid_,K.learning_phase(): 0 })\n",
    "    features=np.reshape(f_v_val,(-1))\n",
    "    return features"
   ]
  },
  {
   "cell_type": "code",
   "execution_count": 10,
   "metadata": {
    "collapsed": true
   },
   "outputs": [],
   "source": [
    "## Feature extraction\n",
    "def get_features_from_class(class_folder):\n",
    "    feature_set_a=[]\n",
    "    base_dir_a=class_folder\n",
    "    sub_dir_a=os.listdir(base_dir_a)\n",
    "    sub_dir_a=sorted(sub_dir_a)\n",
    "    print(sub_dir_a)\n",
    "    if '.DS_Store' in sub_dir_a:\n",
    "        sub_dir_a.remove('.DS_Store')\n",
    "    for sub_dir_a_ in sub_dir_a:\n",
    "        vid_a=get_compress_frames_data(base_dir_a+sub_dir_a_)\n",
    "        feature_set_a.append(extract_video_features(vid_a))\n",
    "    return np.array(feature_set_a)"
   ]
  },
  {
   "cell_type": "code",
   "execution_count": 11,
   "metadata": {},
   "outputs": [
    {
     "name": "stdout",
     "output_type": "stream",
     "text": [
      "['.DS_Store', 'reach_demo_0deg', 'reach_demo_180deg', 'reach_demo_green', 'reach_human', 'reach_robo', 'reach_robo_M2', 'reach_robo_M3', 'reach_robo_arbview1', 'reach_robo_bg', 'reach_robo_change_pos', 'reach_robo_change_target', 'reach_robo_comp0', 'reach_robo_comp1', 'reach_robo_comp2', 'reach_robo_fast', 'reach_robo_obj2', 'reach_robo_sideview_new']\n",
      "['.DS_Store', 'push_demo_0deg', 'push_demo_180deg', 'push_demo_human', 'push_robo', 'push_robo_M2', 'push_robo_M3', 'push_robo_arbview1', 'push_robo_bg_fast', 'push_robo_change_pos', 'push_robo_changetarget', 'push_robo_comp0', 'push_robo_comp1', 'push_robo_comp2', 'push_robo_fast', 'push_robo_green', 'push_robo_obj2_new', 'push_robo_sideview']\n",
      "['.DS_Store', 'Multi_robo_M3', 'multi_demo_0deg', 'multi_demo_180deg', 'multi_robo', 'multi_robo_M2', 'multi_robo_arbview1', 'multi_robo_bg', 'multi_robo_change_pos', 'multi_robo_change_target', 'multi_robo_comp0', 'multi_robo_comp1', 'multi_robo_comp2', 'multi_robo_fast_new', 'multi_robo_human_new', 'multi_robo_obj', 'multi_robo_obj2', 'multi_robo_sideview']\n"
     ]
    }
   ],
   "source": [
    "feature_set_a=get_features_from_class('/nobackup/leopauly/S2l/Leeds_Action_Dataset_6_7_2020/Reach/')\n",
    "feature_set_b=get_features_from_class('/nobackup/leopauly/S2l/Leeds_Action_Dataset_6_7_2020/Push/')\n",
    "feature_set_c=get_features_from_class('/nobackup/leopauly/S2l/Leeds_Action_Dataset_6_7_2020/Reach n Push/')"
   ]
  },
  {
   "cell_type": "code",
   "execution_count": 12,
   "metadata": {},
   "outputs": [
    {
     "data": {
      "text/plain": [
       "MinMaxScaler(copy=True, feature_range=(0, 1))"
      ]
     },
     "execution_count": 12,
     "metadata": {},
     "output_type": "execute_result"
    }
   ],
   "source": [
    "scaler = MinMaxScaler()\n",
    "scaler.fit(np.concatenate((feature_set_a,feature_set_b,feature_set_c),axis=0))"
   ]
  },
  {
   "cell_type": "code",
   "execution_count": 13,
   "metadata": {
    "collapsed": true
   },
   "outputs": [],
   "source": [
    "def dist_calc(value_a,value_b):\n",
    "    \n",
    "    \n",
    "\n",
    "    value_a=scaler.transform(value_a)\n",
    "    value_b=scaler.transform(value_b)\n",
    "    distance_=wasserstein_distance(range(len(value_a)), range(len(value_b)), value_a, value_b)\n",
    "    #distance_=wasserstein_distance(value_a, value_b)\n",
    "    \n",
    "    \n",
    "    return(distance_)"
   ]
  },
  {
   "cell_type": "raw",
   "metadata": {},
   "source": [
    "value_a=np.array([150,100,100,100])\n",
    "value_b=np.array([75,50,50,50])\n",
    "\n",
    "scaler = MinMaxScaler()\n",
    "scaler.fit(np.concatenate((value_a,value_b),axis=0))\n",
    "\n",
    "print(dist_calc(value_a,value_b))\n",
    "print(wasserstein_distance(value_a, value_b))\n",
    "\n",
    "value_a=scaler.transform(value_a)\n",
    "value_b=scaler.transform(value_b)\n",
    "print(value_a,value_b)\n",
    "\n",
    "print(wasserstein_distance(range(len(value_a)), range(len(value_b)), value_a, value_b))\n",
    "print(wasserstein_distance(value_a, value_b))"
   ]
  },
  {
   "cell_type": "markdown",
   "metadata": {},
   "source": [
    "------------------------------------------------------------------------------------------------------------------"
   ]
  },
  {
   "cell_type": "markdown",
   "metadata": {},
   "source": [
    "#### Reach"
   ]
  },
  {
   "cell_type": "code",
   "execution_count": 14,
   "metadata": {},
   "outputs": [
    {
     "name": "stdout",
     "output_type": "stream",
     "text": [
      "Sub directories: ['reach_demo_0deg', 'reach_demo_180deg', 'reach_demo_green', 'reach_human', 'reach_robo', 'reach_robo_M2', 'reach_robo_M3', 'reach_robo_arbview1', 'reach_robo_bg', 'reach_robo_change_pos', 'reach_robo_change_target', 'reach_robo_comp0', 'reach_robo_comp1', 'reach_robo_comp2', 'reach_robo_fast', 'reach_robo_obj2', 'reach_robo_sideview_new']\n",
      "\n",
      "Sub directories: ['reach_demo_0deg', 'reach_demo_180deg', 'reach_demo_green', 'reach_human', 'reach_robo', 'reach_robo_M2', 'reach_robo_M3', 'reach_robo_arbview1', 'reach_robo_bg', 'reach_robo_change_pos', 'reach_robo_change_target', 'reach_robo_comp0', 'reach_robo_comp1', 'reach_robo_comp2', 'reach_robo_fast', 'reach_robo_obj2', 'reach_robo_sideview_new']\n",
      "\n",
      "Inter class variance bw class : 177.336821946\n",
      "Number of combinations: (272,)\n"
     ]
    }
   ],
   "source": [
    "## DISTANCE CALCULATION\n",
    "\n",
    "dist_sim_class=[]\n",
    "\n",
    "base_dir_a='/nobackup/leopauly/S2l/Leeds_Action_Dataset_6_7_2020/Reach/'\n",
    "sub_dir_a=os.listdir(base_dir_a)\n",
    "sub_dir_a=sorted(sub_dir_a)\n",
    "if '.DS_Store' in sub_dir_a:\n",
    "    sub_dir_a.remove('.DS_Store')\n",
    "print('Sub directories:',sub_dir_a)\n",
    "\n",
    "base_dir_b='/nobackup/leopauly/S2l/Leeds_Action_Dataset_6_7_2020/Reach/'\n",
    "sub_dir_b=os.listdir(base_dir_b)\n",
    "sub_dir_b=sorted(sub_dir_b)\n",
    "if '.DS_Store' in sub_dir_b:\n",
    "    sub_dir_b.remove('.DS_Store')\n",
    "print('\\nSub directories:',sub_dir_b)\n",
    "\n",
    "## Calculating Distances\n",
    "for sub_dir_a_ in sub_dir_a:\n",
    "        #print(sub_dir_a_)\n",
    "        vid_a=get_compress_frames_data(base_dir_a+sub_dir_a_)\n",
    "        \n",
    "        for sub_dir_b_ in sub_dir_b:\n",
    "            if(sub_dir_a_!=sub_dir_b_):\n",
    "                #print(sub_dir_b_)\n",
    "                vid_b=get_compress_frames_data(base_dir_b+sub_dir_b_)\n",
    "                feature_dist=dist_calc(extract_video_features(vid_a),extract_video_features(vid_b))\n",
    "                dist_sim_class.append(feature_dist)\n",
    "\n",
    "            \n",
    "## Calculating intra-class variance\n",
    "dist_sim_class_nozero=dist_sim_class\n",
    "intra_var_class=sum(dist_sim_class_nozero)/len(dist_sim_class_nozero)\n",
    "print('\\nInter class variance bw class :',intra_var_class)\n",
    "print('Number of combinations:',np.shape(dist_sim_class_nozero))\n",
    "\n",
    "intra_reach=intra_var_class"
   ]
  },
  {
   "cell_type": "code",
   "execution_count": 15,
   "metadata": {
    "scrolled": true
   },
   "outputs": [
    {
     "name": "stdout",
     "output_type": "stream",
     "text": [
      "Sub directories: ['reach_demo_0deg', 'reach_demo_180deg', 'reach_demo_green', 'reach_human', 'reach_robo', 'reach_robo_M2', 'reach_robo_M3', 'reach_robo_arbview1', 'reach_robo_bg', 'reach_robo_change_pos', 'reach_robo_change_target', 'reach_robo_comp0', 'reach_robo_comp1', 'reach_robo_comp2', 'reach_robo_fast', 'reach_robo_obj2', 'reach_robo_sideview_new']\n",
      "\n",
      "Sub directories: ['push_demo_0deg', 'push_demo_180deg', 'push_demo_human', 'push_robo', 'push_robo_M2', 'push_robo_M3', 'push_robo_arbview1', 'push_robo_bg_fast', 'push_robo_change_pos', 'push_robo_changetarget', 'push_robo_comp0', 'push_robo_comp1', 'push_robo_comp2', 'push_robo_fast', 'push_robo_green', 'push_robo_obj2_new', 'push_robo_sideview']\n",
      "\n",
      "Inter class variance bw class 1 and class 2: 205.657645084\n",
      "Number of combinations: (289,)\n"
     ]
    }
   ],
   "source": [
    "## Calculating distance\n",
    "\n",
    "dist_dif=[]\n",
    "\n",
    "base_dir_a='/nobackup/leopauly/S2l/Leeds_Action_Dataset_6_7_2020/Reach/'\n",
    "sub_dir_a=os.listdir(base_dir_a)\n",
    "sub_dir_a=sorted(sub_dir_a)\n",
    "if '.DS_Store' in sub_dir_a:\n",
    "    sub_dir_a.remove('.DS_Store')\n",
    "print('Sub directories:',sub_dir_a)\n",
    "\n",
    "base_dir_b='/nobackup/leopauly/S2l/Leeds_Action_Dataset_6_7_2020/Push/'\n",
    "sub_dir_b=os.listdir(base_dir_b)\n",
    "sub_dir_b=sorted(sub_dir_b)\n",
    "if '.DS_Store' in sub_dir_b:\n",
    "    sub_dir_b.remove('.DS_Store')\n",
    "print('\\nSub directories:',sub_dir_b)\n",
    "\n",
    "for sub_dir_a_ in sub_dir_a:\n",
    "        #print(sub_dir_a_)\n",
    "        vid_a=get_compress_frames_data(base_dir_a+sub_dir_a_)\n",
    "        \n",
    "        for sub_dir_b_ in sub_dir_b:\n",
    "            #print(sub_dir_b_)\n",
    "            vid_b=get_compress_frames_data(base_dir_b+sub_dir_b_)\n",
    "            feature_dist=dist_calc(extract_video_features(vid_a),extract_video_features(vid_b))\n",
    "            dist_dif.append(feature_dist)\n",
    "\n",
    "\n",
    "## Calculating inter-class variance\n",
    "inter_var=sum(dist_dif)/len(dist_dif)\n",
    "print('\\nInter class variance bw class 1 and class 2:',inter_var)\n",
    "print('Number of combinations:',np.array(dist_dif).shape)\n",
    "\n",
    "inter1_reach=inter_var"
   ]
  },
  {
   "cell_type": "code",
   "execution_count": 16,
   "metadata": {},
   "outputs": [
    {
     "name": "stdout",
     "output_type": "stream",
     "text": [
      "Sub directories: ['Multi_robo_M3', 'multi_demo_0deg', 'multi_demo_180deg', 'multi_robo', 'multi_robo_M2', 'multi_robo_arbview1', 'multi_robo_bg', 'multi_robo_change_pos', 'multi_robo_change_target', 'multi_robo_comp0', 'multi_robo_comp1', 'multi_robo_comp2', 'multi_robo_fast_new', 'multi_robo_human_new', 'multi_robo_obj', 'multi_robo_obj2', 'multi_robo_sideview']\n",
      "\n",
      "Sub directories: ['reach_demo_0deg', 'reach_demo_180deg', 'reach_demo_green', 'reach_human', 'reach_robo', 'reach_robo_M2', 'reach_robo_M3', 'reach_robo_arbview1', 'reach_robo_bg', 'reach_robo_change_pos', 'reach_robo_change_target', 'reach_robo_comp0', 'reach_robo_comp1', 'reach_robo_comp2', 'reach_robo_fast', 'reach_robo_obj2', 'reach_robo_sideview_new']\n",
      "\n",
      "Inter class variance bw class 1 and class 2: 146.200075739\n",
      "Number of combinations: (289,)\n"
     ]
    }
   ],
   "source": [
    "## Calculating distance\n",
    "\n",
    "dist_dif=[]\n",
    "\n",
    "base_dir_a='/nobackup/leopauly/S2l/Leeds_Action_Dataset_6_7_2020/Reach n Push/'\n",
    "sub_dir_a=os.listdir(base_dir_a)\n",
    "sub_dir_a=sorted(sub_dir_a)\n",
    "if '.DS_Store' in sub_dir_a:\n",
    "    sub_dir_a.remove('.DS_Store')\n",
    "print('Sub directories:',sub_dir_a)\n",
    "\n",
    "base_dir_b='/nobackup/leopauly/S2l/Leeds_Action_Dataset_6_7_2020/Reach/'\n",
    "sub_dir_b=os.listdir(base_dir_b)\n",
    "sub_dir_b=sorted(sub_dir_b)\n",
    "if '.DS_Store' in sub_dir_b:\n",
    "    sub_dir_b.remove('.DS_Store')\n",
    "print('\\nSub directories:',sub_dir_b)\n",
    "\n",
    "for sub_dir_a_ in sub_dir_a:\n",
    "        #print(sub_dir_a_)\n",
    "        vid_a=get_compress_frames_data(base_dir_a+sub_dir_a_)\n",
    "        \n",
    "        for sub_dir_b_ in sub_dir_b:\n",
    "            #print(sub_dir_b_)\n",
    "            vid_b=get_compress_frames_data(base_dir_b+sub_dir_b_)\n",
    "            feature_dist=dist_calc(extract_video_features(vid_a),extract_video_features(vid_b))\n",
    "            dist_dif.append(feature_dist)\n",
    "\n",
    "\n",
    "## Calculating inter-class variance\n",
    "inter_var=sum(dist_dif)/len(dist_dif)\n",
    "print('\\nInter class variance bw class 1 and class 2:',inter_var)\n",
    "print('Number of combinations:',np.array(dist_dif).shape)\n",
    "\n",
    "inter2_reach=inter_var"
   ]
  },
  {
   "cell_type": "markdown",
   "metadata": {
    "collapsed": true
   },
   "source": [
    "------------------------------------------------------------------------------------------------------------------"
   ]
  },
  {
   "cell_type": "markdown",
   "metadata": {},
   "source": [
    "#### Push"
   ]
  },
  {
   "cell_type": "code",
   "execution_count": 17,
   "metadata": {},
   "outputs": [
    {
     "name": "stdout",
     "output_type": "stream",
     "text": [
      "Sub directories: ['reach_demo_0deg', 'reach_demo_180deg', 'reach_demo_green', 'reach_human', 'reach_robo', 'reach_robo_M2', 'reach_robo_M3', 'reach_robo_arbview1', 'reach_robo_bg', 'reach_robo_change_pos', 'reach_robo_change_target', 'reach_robo_comp0', 'reach_robo_comp1', 'reach_robo_comp2', 'reach_robo_fast', 'reach_robo_obj2', 'reach_robo_sideview_new']\n",
      "\n",
      "Sub directories: ['push_demo_0deg', 'push_demo_180deg', 'push_demo_human', 'push_robo', 'push_robo_M2', 'push_robo_M3', 'push_robo_arbview1', 'push_robo_bg_fast', 'push_robo_change_pos', 'push_robo_changetarget', 'push_robo_comp0', 'push_robo_comp1', 'push_robo_comp2', 'push_robo_fast', 'push_robo_green', 'push_robo_obj2_new', 'push_robo_sideview']\n",
      "\n",
      "Inter class variance bw class 1 and class 2: 205.657645084\n",
      "Number of combinations: (289,)\n"
     ]
    }
   ],
   "source": [
    "## Calculating distance\n",
    "\n",
    "dist_dif=[]\n",
    "\n",
    "base_dir_a='/nobackup/leopauly/S2l/Leeds_Action_Dataset_6_7_2020/Reach/'\n",
    "sub_dir_a=os.listdir(base_dir_a)\n",
    "sub_dir_a=sorted(sub_dir_a)\n",
    "if '.DS_Store' in sub_dir_a:\n",
    "    sub_dir_a.remove('.DS_Store')\n",
    "print('Sub directories:',sub_dir_a)\n",
    "\n",
    "base_dir_b='/nobackup/leopauly/S2l/Leeds_Action_Dataset_6_7_2020/Push/'\n",
    "sub_dir_b=os.listdir(base_dir_b)\n",
    "sub_dir_b=sorted(sub_dir_b)\n",
    "if '.DS_Store' in sub_dir_b:\n",
    "    sub_dir_b.remove('.DS_Store')\n",
    "print('\\nSub directories:',sub_dir_b)\n",
    "\n",
    "for sub_dir_a_ in sub_dir_a:\n",
    "        #print(sub_dir_a_)\n",
    "        vid_a=get_compress_frames_data(base_dir_a+sub_dir_a_)\n",
    "        \n",
    "        for sub_dir_b_ in sub_dir_b:\n",
    "            #print(sub_dir_b_)\n",
    "            vid_b=get_compress_frames_data(base_dir_b+sub_dir_b_)\n",
    "            feature_dist=dist_calc(extract_video_features(vid_a),extract_video_features(vid_b))\n",
    "            dist_dif.append(feature_dist)\n",
    "\n",
    "\n",
    "## Calculating inter-class variance\n",
    "inter_var=sum(dist_dif)/len(dist_dif)\n",
    "print('\\nInter class variance bw class 1 and class 2:',inter_var)\n",
    "print('Number of combinations:',np.array(dist_dif).shape)\n",
    "\n",
    "inter1_push=inter_var"
   ]
  },
  {
   "cell_type": "code",
   "execution_count": 18,
   "metadata": {},
   "outputs": [
    {
     "name": "stdout",
     "output_type": "stream",
     "text": [
      "Sub directories: ['push_demo_0deg', 'push_demo_180deg', 'push_demo_human', 'push_robo', 'push_robo_M2', 'push_robo_M3', 'push_robo_arbview1', 'push_robo_bg_fast', 'push_robo_change_pos', 'push_robo_changetarget', 'push_robo_comp0', 'push_robo_comp1', 'push_robo_comp2', 'push_robo_fast', 'push_robo_green', 'push_robo_obj2_new', 'push_robo_sideview']\n",
      "\n",
      "Sub directories: ['push_demo_0deg', 'push_demo_180deg', 'push_demo_human', 'push_robo', 'push_robo_M2', 'push_robo_M3', 'push_robo_arbview1', 'push_robo_bg_fast', 'push_robo_change_pos', 'push_robo_changetarget', 'push_robo_comp0', 'push_robo_comp1', 'push_robo_comp2', 'push_robo_fast', 'push_robo_green', 'push_robo_obj2_new', 'push_robo_sideview']\n",
      "\n",
      "Inter class variance bw class : 240.947783098\n",
      "Number of combinations: (272,)\n"
     ]
    }
   ],
   "source": [
    "## DISTANCE CALCULATION\n",
    "\n",
    "dist_sim_class=[]\n",
    "\n",
    "base_dir_a='/nobackup/leopauly/S2l/Leeds_Action_Dataset_6_7_2020/Push/'\n",
    "sub_dir_a=os.listdir(base_dir_a)\n",
    "sub_dir_a=sorted(sub_dir_a)\n",
    "if '.DS_Store' in sub_dir_a:\n",
    "    sub_dir_a.remove('.DS_Store')\n",
    "print('Sub directories:',sub_dir_a)\n",
    "\n",
    "base_dir_b='/nobackup/leopauly/S2l/Leeds_Action_Dataset_6_7_2020/Push/'\n",
    "sub_dir_b=os.listdir(base_dir_b)\n",
    "sub_dir_b=sorted(sub_dir_b)\n",
    "if '.DS_Store' in sub_dir_b:\n",
    "    sub_dir_b.remove('.DS_Store')\n",
    "print('\\nSub directories:',sub_dir_b)\n",
    "\n",
    "## Calculating Distances\n",
    "for sub_dir_a_ in sub_dir_a:\n",
    "        #print(sub_dir_a_)\n",
    "        vid_a=get_compress_frames_data(base_dir_a+sub_dir_a_)\n",
    "        \n",
    "        for sub_dir_b_ in sub_dir_b:\n",
    "            if(sub_dir_a_!=sub_dir_b_):\n",
    "                #print(sub_dir_b_)\n",
    "                vid_b=get_compress_frames_data(base_dir_b+sub_dir_b_)\n",
    "                feature_dist=dist_calc(extract_video_features(vid_a),extract_video_features(vid_b))\n",
    "                dist_sim_class.append(feature_dist)\n",
    "\n",
    "            \n",
    "## Calculating intra-class variance\n",
    "dist_sim_class_nozero=dist_sim_class\n",
    "intra_var_class=sum(dist_sim_class_nozero)/len(dist_sim_class_nozero)\n",
    "print('\\nInter class variance bw class :',intra_var_class)\n",
    "print('Number of combinations:',np.shape(dist_sim_class_nozero))\n",
    "\n",
    "intra_push=intra_var_class"
   ]
  },
  {
   "cell_type": "code",
   "execution_count": 19,
   "metadata": {},
   "outputs": [
    {
     "name": "stdout",
     "output_type": "stream",
     "text": [
      "Sub directories: ['Multi_robo_M3', 'multi_demo_0deg', 'multi_demo_180deg', 'multi_robo', 'multi_robo_M2', 'multi_robo_arbview1', 'multi_robo_bg', 'multi_robo_change_pos', 'multi_robo_change_target', 'multi_robo_comp0', 'multi_robo_comp1', 'multi_robo_comp2', 'multi_robo_fast_new', 'multi_robo_human_new', 'multi_robo_obj', 'multi_robo_obj2', 'multi_robo_sideview']\n",
      "\n",
      "Sub directories: ['push_demo_0deg', 'push_demo_180deg', 'push_demo_human', 'push_robo', 'push_robo_M2', 'push_robo_M3', 'push_robo_arbview1', 'push_robo_bg_fast', 'push_robo_change_pos', 'push_robo_changetarget', 'push_robo_comp0', 'push_robo_comp1', 'push_robo_comp2', 'push_robo_fast', 'push_robo_green', 'push_robo_obj2_new', 'push_robo_sideview']\n",
      "\n",
      "Inter class variance bw class 1 and class 2: 187.750899496\n",
      "Number of combinations: (289,)\n"
     ]
    }
   ],
   "source": [
    "## Calculating distance\n",
    "\n",
    "dist_dif=[]\n",
    "\n",
    "base_dir_a='/nobackup/leopauly/S2l/Leeds_Action_Dataset_6_7_2020/Reach n Push/'\n",
    "sub_dir_a=os.listdir(base_dir_a)\n",
    "sub_dir_a=sorted(sub_dir_a)\n",
    "if '.DS_Store' in sub_dir_a:\n",
    "    sub_dir_a.remove('.DS_Store')\n",
    "print('Sub directories:',sub_dir_a)\n",
    "\n",
    "base_dir_b='/nobackup/leopauly/S2l/Leeds_Action_Dataset_6_7_2020/Push/'\n",
    "sub_dir_b=os.listdir(base_dir_b)\n",
    "sub_dir_b=sorted(sub_dir_b)\n",
    "if '.DS_Store' in sub_dir_b:\n",
    "    sub_dir_b.remove('.DS_Store')\n",
    "print('\\nSub directories:',sub_dir_b)\n",
    "\n",
    "for sub_dir_a_ in sub_dir_a:\n",
    "        #print(sub_dir_a_)\n",
    "        vid_a=get_compress_frames_data(base_dir_a+sub_dir_a_)\n",
    "        \n",
    "        for sub_dir_b_ in sub_dir_b:\n",
    "            #print(sub_dir_b_)\n",
    "            vid_b=get_compress_frames_data(base_dir_b+sub_dir_b_)\n",
    "            feature_dist=dist_calc(extract_video_features(vid_a),extract_video_features(vid_b))\n",
    "            dist_dif.append(feature_dist)\n",
    "\n",
    "\n",
    "## Calculating inter-class variance\n",
    "inter_var=sum(dist_dif)/len(dist_dif)\n",
    "print('\\nInter class variance bw class 1 and class 2:',inter_var)\n",
    "print('Number of combinations:',np.array(dist_dif).shape)\n",
    "\n",
    "inter2_push=inter_var"
   ]
  },
  {
   "cell_type": "markdown",
   "metadata": {},
   "source": [
    "------------------------------------------------------------------------------------------------------------------"
   ]
  },
  {
   "cell_type": "markdown",
   "metadata": {},
   "source": [
    "#### Push n Reach "
   ]
  },
  {
   "cell_type": "code",
   "execution_count": 20,
   "metadata": {},
   "outputs": [
    {
     "name": "stdout",
     "output_type": "stream",
     "text": [
      "['.DS_Store', 'Multi_robo_M3', 'multi_demo_0deg', 'multi_demo_180deg', 'multi_robo', 'multi_robo_M2', 'multi_robo_arbview1', 'multi_robo_bg', 'multi_robo_change_pos', 'multi_robo_change_target', 'multi_robo_comp0', 'multi_robo_comp1', 'multi_robo_comp2', 'multi_robo_fast_new', 'multi_robo_human_new', 'multi_robo_obj', 'multi_robo_obj2', 'multi_robo_sideview']\n",
      "['.DS_Store', 'reach_demo_0deg', 'reach_demo_180deg', 'reach_demo_green', 'reach_human', 'reach_robo', 'reach_robo_M2', 'reach_robo_M3', 'reach_robo_arbview1', 'reach_robo_bg', 'reach_robo_change_pos', 'reach_robo_change_target', 'reach_robo_comp0', 'reach_robo_comp1', 'reach_robo_comp2', 'reach_robo_fast', 'reach_robo_obj2', 'reach_robo_sideview_new']\n",
      "Inter class variance bw class 1 and class 2: 146.200075739\n",
      "Shape (289,)\n"
     ]
    }
   ],
   "source": [
    "## Calculating distance\n",
    "\n",
    "dist_dif=[]\n",
    "\n",
    "base_dir_a='/nobackup/leopauly/S2l/Leeds_Action_Dataset_6_7_2020/Reach n Push/'\n",
    "sub_dir_a=os.listdir(base_dir_a)\n",
    "sub_dir_a=sorted(sub_dir_a)\n",
    "print(sub_dir_a)\n",
    "if '.DS_Store' in sub_dir_a:\n",
    "    sub_dir_a.remove('.DS_Store')\n",
    "\n",
    "base_dir_b='/nobackup/leopauly/S2l/Leeds_Action_Dataset_6_7_2020/Reach/'\n",
    "sub_dir_b=os.listdir(base_dir_b)\n",
    "sub_dir_b=sorted(sub_dir_b)\n",
    "print(sub_dir_b)\n",
    "if '.DS_Store' in sub_dir_b:\n",
    "    sub_dir_b.remove('.DS_Store')\n",
    "\n",
    "for sub_dir_a_ in sub_dir_a:\n",
    "        #print(sub_dir_a_)\n",
    "        vid_a=get_compress_frames_data(base_dir_a+sub_dir_a_)\n",
    "        \n",
    "        for sub_dir_b_ in sub_dir_b:\n",
    "            #print(sub_dir_b_)\n",
    "            vid_b=get_compress_frames_data(base_dir_b+sub_dir_b_)\n",
    "            feature_dist=dist_calc(extract_video_features(vid_a),extract_video_features(vid_b))\n",
    "            dist_dif.append(feature_dist)\n",
    "\n",
    "\n",
    "## Calculating inter-class variance\n",
    "inter_var=sum(dist_dif)/len(dist_dif)\n",
    "print('Inter class variance bw class 1 and class 2:',inter_var)\n",
    "print('Shape',np.array(dist_dif).shape)\n",
    "\n",
    "inter1_rnp=inter_var"
   ]
  },
  {
   "cell_type": "code",
   "execution_count": 21,
   "metadata": {},
   "outputs": [
    {
     "name": "stdout",
     "output_type": "stream",
     "text": [
      "['.DS_Store', 'Multi_robo_M3', 'multi_demo_0deg', 'multi_demo_180deg', 'multi_robo', 'multi_robo_M2', 'multi_robo_arbview1', 'multi_robo_bg', 'multi_robo_change_pos', 'multi_robo_change_target', 'multi_robo_comp0', 'multi_robo_comp1', 'multi_robo_comp2', 'multi_robo_fast_new', 'multi_robo_human_new', 'multi_robo_obj', 'multi_robo_obj2', 'multi_robo_sideview']\n",
      "['.DS_Store', 'push_demo_0deg', 'push_demo_180deg', 'push_demo_human', 'push_robo', 'push_robo_M2', 'push_robo_M3', 'push_robo_arbview1', 'push_robo_bg_fast', 'push_robo_change_pos', 'push_robo_changetarget', 'push_robo_comp0', 'push_robo_comp1', 'push_robo_comp2', 'push_robo_fast', 'push_robo_green', 'push_robo_obj2_new', 'push_robo_sideview']\n",
      "Inter class variance bw class 1 and class 2: 187.750899496\n",
      "Shape (289,)\n"
     ]
    }
   ],
   "source": [
    "## Calculating distance\n",
    "\n",
    "dist_dif=[]\n",
    "\n",
    "base_dir_a='/nobackup/leopauly/S2l/Leeds_Action_Dataset_6_7_2020/Reach n Push/'\n",
    "sub_dir_a=os.listdir(base_dir_a)\n",
    "sub_dir_a=sorted(sub_dir_a)\n",
    "print(sub_dir_a)\n",
    "if '.DS_Store' in sub_dir_a:\n",
    "    sub_dir_a.remove('.DS_Store')\n",
    "\n",
    "base_dir_b='/nobackup/leopauly/S2l/Leeds_Action_Dataset_6_7_2020/Push/'\n",
    "sub_dir_b=os.listdir(base_dir_b)\n",
    "sub_dir_b=sorted(sub_dir_b)\n",
    "print(sub_dir_b)\n",
    "if '.DS_Store' in sub_dir_b:\n",
    "    sub_dir_b.remove('.DS_Store')\n",
    "\n",
    "for sub_dir_a_ in sub_dir_a:\n",
    "        #print(sub_dir_a_)\n",
    "        vid_a=get_compress_frames_data(base_dir_a+sub_dir_a_)\n",
    "        \n",
    "        for sub_dir_b_ in sub_dir_b:\n",
    "            #print(sub_dir_b_)\n",
    "            vid_b=get_compress_frames_data(base_dir_b+sub_dir_b_)\n",
    "            feature_dist=dist_calc(extract_video_features(vid_a),extract_video_features(vid_b))\n",
    "            dist_dif.append(feature_dist)\n",
    "\n",
    "\n",
    "## Calculating inter-class variance\n",
    "inter_var=sum(dist_dif)/len(dist_dif)\n",
    "print('Inter class variance bw class 1 and class 2:',inter_var)\n",
    "print('Shape',np.array(dist_dif).shape)\n",
    "\n",
    "inter2_rnp=inter_var"
   ]
  },
  {
   "cell_type": "code",
   "execution_count": 22,
   "metadata": {},
   "outputs": [
    {
     "name": "stdout",
     "output_type": "stream",
     "text": [
      "['.DS_Store', 'Multi_robo_M3', 'multi_demo_0deg', 'multi_demo_180deg', 'multi_robo', 'multi_robo_M2', 'multi_robo_arbview1', 'multi_robo_bg', 'multi_robo_change_pos', 'multi_robo_change_target', 'multi_robo_comp0', 'multi_robo_comp1', 'multi_robo_comp2', 'multi_robo_fast_new', 'multi_robo_human_new', 'multi_robo_obj', 'multi_robo_obj2', 'multi_robo_sideview']\n",
      "['.DS_Store', 'Multi_robo_M3', 'multi_demo_0deg', 'multi_demo_180deg', 'multi_robo', 'multi_robo_M2', 'multi_robo_arbview1', 'multi_robo_bg', 'multi_robo_change_pos', 'multi_robo_change_target', 'multi_robo_comp0', 'multi_robo_comp1', 'multi_robo_comp2', 'multi_robo_fast_new', 'multi_robo_human_new', 'multi_robo_obj', 'multi_robo_obj2', 'multi_robo_sideview']\n",
      "Inter class variance bw class : 112.5912146\n"
     ]
    }
   ],
   "source": [
    "## DISTANCE CALCULATION\n",
    "\n",
    "dist_sim_class=[]\n",
    "\n",
    "base_dir_a='/nobackup/leopauly/S2l/Leeds_Action_Dataset_6_7_2020/Reach n Push/'\n",
    "sub_dir_a=os.listdir(base_dir_a)\n",
    "sub_dir_a=sorted(sub_dir_a)\n",
    "print(sub_dir_a)\n",
    "if '.DS_Store' in sub_dir_a:\n",
    "    sub_dir_a.remove('.DS_Store')\n",
    "\n",
    "base_dir_b='/nobackup/leopauly/S2l/Leeds_Action_Dataset_6_7_2020/Reach n Push/'\n",
    "sub_dir_b=os.listdir(base_dir_b)\n",
    "sub_dir_b=sorted(sub_dir_b)\n",
    "print(sub_dir_b)\n",
    "if '.DS_Store' in sub_dir_b:\n",
    "    sub_dir_b.remove('.DS_Store')\n",
    "\n",
    "## Calculating Distances\n",
    "for sub_dir_a_ in sub_dir_a:\n",
    "        #print(sub_dir_a_)\n",
    "        vid_a=get_compress_frames_data(base_dir_a+sub_dir_a_)\n",
    "        \n",
    "        for sub_dir_b_ in sub_dir_b:\n",
    "            if(sub_dir_a_!=sub_dir_b_):\n",
    "                #print(sub_dir_b_)\n",
    "                vid_b=get_compress_frames_data(base_dir_b+sub_dir_b_)\n",
    "                feature_dist=dist_calc(extract_video_features(vid_a),extract_video_features(vid_b))\n",
    "                dist_sim_class.append(feature_dist)\n",
    "\n",
    "            \n",
    "## Calculating intra-class variance\n",
    "dist_sim_class_nozero=dist_sim_class\n",
    "intra_var_class=sum(dist_sim_class_nozero)/len(dist_sim_class_nozero)\n",
    "print('Inter class variance bw class :',intra_var_class)\n",
    "\n",
    "\n",
    "intra_rnp=intra_var_class"
   ]
  },
  {
   "cell_type": "markdown",
   "metadata": {},
   "source": [
    "------------------------------------------------------------------------------------------------------------------"
   ]
  },
  {
   "cell_type": "code",
   "execution_count": 23,
   "metadata": {},
   "outputs": [
    {
     "name": "stdout",
     "output_type": "stream",
     "text": [
      "177.3368\n",
      "205.6576\n",
      "146.2001\n",
      "       205.6576\n",
      "       240.9478\n",
      "       187.7509\n",
      "              146.2001\n",
      "              187.7509\n",
      "              112.5912\n"
     ]
    }
   ],
   "source": [
    "print(round(intra_reach,4))\n",
    "print(round(inter1_reach,4))\n",
    "print(round(inter2_reach,4))\n",
    "\n",
    "\n",
    "print('      ',round(inter1_push,4))\n",
    "print('      ',round(intra_push,4))\n",
    "print('      ',round(inter2_push,4))\n",
    "\n",
    "\n",
    "print('      ','      ',round(inter1_rnp,4))\n",
    "print('      ','      ',round(inter2_rnp,4))\n",
    "print('      ','      ',round(intra_rnp,4))\n"
   ]
  },
  {
   "cell_type": "raw",
   "metadata": {},
   "source": [
    "print(round(intra_reach[0][0],4))\n",
    "print(round(inter1_reach[0][0],4))\n",
    "print(round(inter2_reach[0][0],4))\n",
    "\n",
    "\n",
    "print('      ',round(inter1_push[0][0],4))\n",
    "print('      ',round(intra_push[0][0],4))\n",
    "print('      ',round(inter2_push[0][0],4))\n",
    "\n",
    "\n",
    "print('      ','      ',round(inter1_rnp[0][0],4))\n",
    "print('      ','      ',round(inter2_rnp[0][0],4))\n",
    "print('      ','      ',round(intra_rnp[0][0],4))\n",
    "\n"
   ]
  },
  {
   "cell_type": "raw",
   "metadata": {},
   "source": [
    "##Ratios\n",
    "ratio1_reach=round(intra_reach/intra_reach,2)\n",
    "ratio2_reach=round(intra_reach/inter1_reach,2)\n",
    "ratio3_reach=round(intra_reach/inter2_reach,2)\n",
    "\n",
    "print('---',ratio1_reach)\n",
    "print(ratio2_reach)\n",
    "print(ratio3_reach)"
   ]
  },
  {
   "cell_type": "raw",
   "metadata": {},
   "source": [
    "##Ratios\n",
    "ratio1_push=round(intra_push/inter1_push,2)\n",
    "ratio2_push=round(intra_push/intra_push,2)\n",
    "ratio3_push=round(intra_push/inter2_push,2)\n",
    "\n",
    "print(ratio1_push)\n",
    "print('---',ratio2_push)\n",
    "print(ratio3_push)"
   ]
  },
  {
   "cell_type": "raw",
   "metadata": {},
   "source": [
    "##Ratios\n",
    "ratio1_rnp=round(intra_rnp/inter1_rnp,2)\n",
    "ratio2_rnp=round(intra_rnp/inter2_rnp,2)\n",
    "ratio3_rnp=round(intra_rnp/intra_rnp,2)\n",
    "\n",
    "print(ratio1_rnp)\n",
    "print(ratio2_rnp)\n",
    "print('---',ratio3_rnp)"
   ]
  },
  {
   "cell_type": "raw",
   "metadata": {},
   "source": [
    "class_overlap_ratio=round(((ratio2_reach+ratio3_reach+ratio1_push+ratio3_push+ratio1_rnp+ratio2_rnp)/6),2)\n",
    "print(class_overlap_ratio)"
   ]
  },
  {
   "cell_type": "code",
   "execution_count": null,
   "metadata": {
    "collapsed": true
   },
   "outputs": [],
   "source": []
  }
 ],
 "metadata": {
  "kernelspec": {
   "display_name": "Python 3",
   "language": "python",
   "name": "python3"
  },
  "language_info": {
   "codemirror_mode": {
    "name": "ipython",
    "version": 3
   },
   "file_extension": ".py",
   "mimetype": "text/x-python",
   "name": "python",
   "nbconvert_exporter": "python",
   "pygments_lexer": "ipython3",
   "version": "3.6.1"
  }
 },
 "nbformat": 4,
 "nbformat_minor": 2
}
