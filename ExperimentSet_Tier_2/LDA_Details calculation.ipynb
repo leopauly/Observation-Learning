{
 "cells": [
  {
   "cell_type": "code",
   "execution_count": 1,
   "metadata": {},
   "outputs": [],
   "source": [
    "import os\n",
    "import sys"
   ]
  },
  {
   "cell_type": "code",
   "execution_count": 2,
   "metadata": {
    "collapsed": true
   },
   "outputs": [],
   "source": [
    "def fileCount(folder):\n",
    "    \"count the number of files in a directory\"\n",
    "\n",
    "    count = 0\n",
    "\n",
    "    for filename in os.listdir(folder):\n",
    "        path = os.path.join(folder, filename)\n",
    "\n",
    "        if os.path.isfile(path):\n",
    "            count += 1\n",
    "        elif os.path.isfolder(path):\n",
    "            count += fileCount(path)\n",
    "\n",
    "    return count\n",
    "\n",
    "total_dataset=0"
   ]
  },
  {
   "cell_type": "code",
   "execution_count": 3,
   "metadata": {},
   "outputs": [
    {
     "name": "stdout",
     "output_type": "stream",
     "text": [
      "reach_robo_change_pos 134\n",
      "reach_human 80\n",
      "reach_demo_0deg 129\n",
      "reach_robo_comp2 155\n",
      "reach_robo_fast 352\n",
      "reach_robo_M3 151\n",
      "reach_robo_change_target 168\n",
      "reach_demo_green 188\n",
      "reach_robo_arbview1 160\n",
      "reach_robo_comp0 172\n",
      "reach_demo_180deg 141\n",
      "reach_robo_comp1 197\n",
      "reach_robo_bg 135\n",
      "reach_robo_sideview_new 162\n",
      "reach_robo 253\n",
      "reach_robo_M2 86\n",
      "reach_robo_obj2 150\n",
      "total no: of frames in this class: 2813\n",
      "avg no: of frames per clip in this class: 165.47058823529412\n"
     ]
    }
   ],
   "source": [
    "dir='/nobackup/leopauly/S2l/Leeds_Action_Dataset_6_7_2020/Reach/'\n",
    "filenames=os.listdir(dir)\n",
    "\n",
    "total=0\n",
    "for file in filenames:\n",
    "    if (file!='.DS_Store'):\n",
    "        total=total+fileCount(dir+file)\n",
    "        print(file,fileCount(dir+file))\n",
    "print('total no: of frames in this class:',total)\n",
    "print('avg no: of frames per clip in this class:',total/17)\n",
    "total_dataset=total_dataset+total"
   ]
  },
  {
   "cell_type": "code",
   "execution_count": 4,
   "metadata": {},
   "outputs": [
    {
     "name": "stdout",
     "output_type": "stream",
     "text": [
      "push_robo_obj2_new 164\n",
      "push_robo_fast 246\n",
      "push_robo_change_pos 141\n",
      "push_robo_comp1 220\n",
      "push_robo_arbview1 191\n",
      "push_demo_human 142\n",
      "push_demo_180deg 271\n",
      "push_robo_sideview 120\n",
      "push_robo_comp2 212\n",
      "push_robo_changetarget 99\n",
      "push_demo_0deg 359\n",
      "push_robo_bg_fast 313\n",
      "push_robo_green 264\n",
      "push_robo 126\n",
      "push_robo_M2 143\n",
      "push_robo_M3 140\n",
      "push_robo_comp0 171\n",
      "total no: of frames in this class: 3322\n",
      "avg no: of frames per clip in this class: 195.41176470588235\n"
     ]
    }
   ],
   "source": [
    "dir='/nobackup/leopauly/S2l/Leeds_Action_Dataset_6_7_2020/Push/'\n",
    "filenames=os.listdir(dir)\n",
    "\n",
    "total=0\n",
    "for file in filenames:\n",
    "    if (file!='.DS_Store'):\n",
    "        total=total+fileCount(dir+file)\n",
    "        print(file,fileCount(dir+file))\n",
    "print('total no: of frames in this class:',total)\n",
    "print('avg no: of frames per clip in this class:',total/17)\n",
    "\n",
    "total_dataset=total_dataset+total"
   ]
  },
  {
   "cell_type": "code",
   "execution_count": 5,
   "metadata": {},
   "outputs": [
    {
     "name": "stdout",
     "output_type": "stream",
     "text": [
      "multi_demo_0deg 165\n",
      "multi_robo_obj2 178\n",
      "multi_robo_change_pos 182\n",
      "multi_robo_fast_new 410\n",
      "multi_robo_change_target 161\n",
      "multi_robo_M2 270\n",
      "multi_robo_obj 179\n",
      "multi_robo_bg 275\n",
      "Multi_robo_M3 301\n",
      "multi_robo_sideview 211\n",
      "multi_robo 217\n",
      "multi_robo_comp0 308\n",
      "multi_robo_human_new 221\n",
      "multi_robo_comp1 281\n",
      "multi_robo_comp2 288\n",
      "multi_robo_arbview1 247\n",
      "multi_demo_180deg 217\n",
      "total no: of frames in this class: 4111\n",
      "avg no: of frames per clip in this class: 241.8235294117647\n"
     ]
    }
   ],
   "source": [
    "dir='/nobackup/leopauly/S2l/Leeds_Action_Dataset_6_7_2020/Reach n Push/'\n",
    "filenames=os.listdir(dir)\n",
    "\n",
    "total=0\n",
    "for file in filenames:\n",
    "    if (file!='.DS_Store'):\n",
    "        total=total+fileCount(dir+file)\n",
    "        print(file,fileCount(dir+file))\n",
    "print('total no: of frames in this class:',total)\n",
    "print('avg no: of frames per clip in this class:',total/17)\n",
    "\n",
    "total_dataset=total_dataset+total"
   ]
  },
  {
   "cell_type": "code",
   "execution_count": 6,
   "metadata": {},
   "outputs": [
    {
     "name": "stdout",
     "output_type": "stream",
     "text": [
      "total no: of frames in this dataset: 10246\n",
      "avg no: of frames per clip in this dataset: 200.90196078431373\n"
     ]
    }
   ],
   "source": [
    "print('total no: of frames in this dataset:',total_dataset)\n",
    "print('avg no: of frames per clip in this dataset:',total_dataset/51)"
   ]
  },
  {
   "cell_type": "code",
   "execution_count": 7,
   "metadata": {},
   "outputs": [
    {
     "data": {
      "text/plain": [
       "'/nobackup/leopauly/S2l/Leeds_Action_Dataset_6_7_2020/Reach n Push/'"
      ]
     },
     "execution_count": 7,
     "metadata": {},
     "output_type": "execute_result"
    }
   ],
   "source": [
    "'/nobackup/leopauly/S2l/Leeds_Action_Dataset_6_7_2020/Reach/'\n",
    "'/nobackup/leopauly/S2l/Leeds_Action_Dataset_6_7_2020/Reach n Push/'\n"
   ]
  },
  {
   "cell_type": "code",
   "execution_count": null,
   "metadata": {
    "collapsed": true
   },
   "outputs": [],
   "source": []
  }
 ],
 "metadata": {
  "kernelspec": {
   "display_name": "Python 3",
   "language": "python",
   "name": "python3"
  },
  "language_info": {
   "codemirror_mode": {
    "name": "ipython",
    "version": 3
   },
   "file_extension": ".py",
   "mimetype": "text/x-python",
   "name": "python",
   "nbconvert_exporter": "python",
   "pygments_lexer": "ipython3",
   "version": "3.6.1"
  }
 },
 "nbformat": 4,
 "nbformat_minor": 2
}
