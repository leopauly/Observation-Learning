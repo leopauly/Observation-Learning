{
 "cells": [
  {
   "cell_type": "markdown",
   "metadata": {
    "collapsed": true
   },
   "source": [
    "### Feature_Selection\n",
    "Author : @leopauly | cnlp@leeds.ac.uk <br>\n",
    "Description : Selecting the best performing features"
   ]
  },
  {
   "cell_type": "code",
   "execution_count": 1,
   "metadata": {},
   "outputs": [
    {
     "name": "stderr",
     "output_type": "stream",
     "text": [
      "Using TensorFlow backend.\n"
     ]
    }
   ],
   "source": [
    "import os\n",
    "from six.moves import xrange  \n",
    "import PIL.Image as Image\n",
    "import random\n",
    "import numpy as np\n",
    "import cv2\n",
    "import time\n",
    "import math\n",
    "import matplotlib.pyplot as plt\n",
    "import tensorflow as tf\n",
    "from keras import backend as K\n",
    "from sklearn.decomposition import PCA\n",
    "from sklearn.manifold import TSNE\n",
    "from skimage import io\n",
    "import warnings\n",
    "warnings.filterwarnings('ignore')\n",
    "\n",
    "# Custom scripts\n",
    "import lscript as lsp\n",
    "import modelling as md"
   ]
  },
  {
   "cell_type": "code",
   "execution_count": 2,
   "metadata": {
    "collapsed": true
   },
   "outputs": [],
   "source": [
    "height=112 \n",
    "width=112 \n",
    "channel=3\n",
    "crop_size=112\n",
    "\n",
    "cluster_length=16\n",
    "feature_size=8192 \n",
    "nb_classes=2\n",
    "saved_path='/nobackup/leopauly/S2l/'\n",
    "\n",
    "batch_size=32\n",
    "memory_batch_size_train=266\n",
    "memory_batch_size_test=170\n",
    "next_batch_start=0\n",
    "sample_batch_size=10"
   ]
  },
  {
   "cell_type": "markdown",
   "metadata": {},
   "source": [
    "####  Loading model "
   ]
  },
  {
   "cell_type": "code",
   "execution_count": 3,
   "metadata": {},
   "outputs": [
    {
     "name": "stdout",
     "output_type": "stream",
     "text": [
      "Miscellenious items finished..!!\n"
     ]
    }
   ],
   "source": [
    "## Defining placeholders in tf for images and targets\n",
    "x_image = tf.placeholder(tf.float32, [None, 16,height,width,channel],name='x') \n",
    "y_true = tf.placeholder(tf.float32, [None, nb_classes],name='y_true')\n",
    "y_true_cls = tf.placeholder(tf.int64, [None],name='y_true_cls')\n",
    "\n",
    "model_keras = md.C3D_ucf101_training_model_tf(summary=False)\n",
    "out=model_keras(x_image)\n",
    "y_pred = tf.nn.softmax(out)\n",
    "y_pred_cls = tf.argmax(out, dimension=1)\n",
    "correct_prediction = tf.equal(y_pred_cls, y_true_cls)\n",
    "accuracy = tf.reduce_mean(tf.cast(correct_prediction, tf.float32))\n",
    "\n",
    "print('Miscellenious items finished..!!',flush=True)"
   ]
  },
  {
   "cell_type": "code",
   "execution_count": 4,
   "metadata": {},
   "outputs": [
    {
     "name": "stdout",
     "output_type": "stream",
     "text": [
      "INFO:tensorflow:Restoring parameters from /nobackup/leopauly/S2l/activity_model.ckpt-67\n",
      "Model restored from file: /nobackup/leopauly/S2l/\n"
     ]
    }
   ],
   "source": [
    "## Start the session with logging placement.\n",
    "init_op = tf.global_variables_initializer()\n",
    "sess = tf.Session(config=tf.ConfigProto(allow_soft_placement=True, log_device_placement=False))\n",
    "sess.run(init_op)\n",
    "\n",
    "## Restore model weights from previously saved model\n",
    "saver = tf.train.Saver()\n",
    "saver.restore(sess, os.path.join(saved_path,'activity_model.ckpt-67'))\n",
    "print(\"Model restored from file: %s\" % saved_path,flush=True)"
   ]
  },
  {
   "cell_type": "markdown",
   "metadata": {},
   "source": [
    "####  Feature extraction"
   ]
  },
  {
   "cell_type": "code",
   "execution_count": 5,
   "metadata": {
    "collapsed": true
   },
   "outputs": [],
   "source": [
    "def get_compress_frames_data(filename, num_frames_per_clip=16):\n",
    "  ''' Given a directory containing extracted frames, return a video clip of\n",
    "  (num_frames_per_clip) consecutive frames as a list of np arrays '''\n",
    "  ret_arr = []\n",
    "  for parent, dirnames, filenames in os.walk(filename):\n",
    "\n",
    "    filenames = sorted(filenames)\n",
    "    jump=math.floor((len(filenames)/num_frames_per_clip))\n",
    "    loop=0\n",
    "    for i in range(0,len(filenames),jump):\n",
    "      if (loop>15):\n",
    "        break\n",
    "      if (filenames[i].endswith('.png')):\n",
    "        #print(str(filename) + '/' + str(filenames[i]))\n",
    "        image_name = str(filename) + '/' + str(filenames[i])\n",
    "        img = Image.open(image_name)\n",
    "        img_data = np.array(img)\n",
    "        ret_arr.append(img_data)\n",
    "        loop=loop+1\n",
    "  ret_arr=np.array(ret_arr)\n",
    "  #ret_arr=ret_arr/255\n",
    "  return np.array(ret_arr)"
   ]
  },
  {
   "cell_type": "code",
   "execution_count": 42,
   "metadata": {
    "collapsed": true
   },
   "outputs": [],
   "source": [
    "## Extraction of features \n",
    "layer_name='Softmax:0' #('flatten_1/Reshape:0') #('dropout_2/cond/Merge:0') #('fc8/BiasAdd:0')\n",
    "def extract_video_features(vid):\n",
    "    vid_=vid.reshape(-1,cluster_length,height,width,channel)\n",
    "    f_v = sess.graph.get_tensor_by_name(layer_name)  \n",
    "    f_v_val=sess.run([f_v], feed_dict={'conv1_input:0':vid_,x_image:vid_,K.learning_phase(): 0 })\n",
    "    features=np.reshape(f_v_val,(-1))\n",
    "    return features"
   ]
  },
  {
   "cell_type": "code",
   "execution_count": 43,
   "metadata": {
    "collapsed": true
   },
   "outputs": [],
   "source": [
    "## Feature extraction from each class\n",
    "def get_features_from_class(class_folder):\n",
    "    feature_set_a=[]\n",
    "    base_dir_a=class_folder\n",
    "    sub_dir_a=os.listdir(base_dir_a)\n",
    "    sub_dir_a=sorted(sub_dir_a)\n",
    "    if '.DS_Store' in sub_dir_a:\n",
    "        sub_dir_a.remove('.DS_Store')\n",
    "    print('\\nSub directories:\\n',sub_dir_a)\n",
    "    for sub_dir_a_ in sub_dir_a:\n",
    "        vid_a=get_compress_frames_data(base_dir_a+sub_dir_a_)\n",
    "        feature_set_a.append(extract_video_features(vid_a))\n",
    "    return np.array(feature_set_a)"
   ]
  },
  {
   "cell_type": "code",
   "execution_count": 44,
   "metadata": {},
   "outputs": [
    {
     "name": "stdout",
     "output_type": "stream",
     "text": [
      "\n",
      "Sub directories:\n",
      " ['0', '1', '2', '3', '4', '5', '6', '7', '8', '9']\n",
      "\n",
      "Sub directories:\n",
      " ['0', '1', '2', '3', '4', '5', '6', '7', '8', '9']\n",
      "\n",
      "Label shape: (20,)\n",
      "Feature set shape: (20, 101)\n"
     ]
    }
   ],
   "source": [
    "## Extracting features\n",
    "feature_set_a=get_features_from_class('/nobackup/leopauly/S2l/Dataset/Feature_Selection_Dataset1/Move/')\n",
    "feature_set_b=get_features_from_class('/nobackup/leopauly/S2l/Dataset/Feature_Selection_Dataset1/displace/')\n",
    "features_all=np.concatenate((feature_set_a,feature_set_b),axis=0)\n",
    "feature_labels_true=np.array([0,0,0,0,0,0,0,0,0,0,1,1,1,1,1,1,1,1,1,1])\n",
    "print('\\nLabel shape:',feature_labels_true.shape)\n",
    "print('Feature set shape:',features_all.shape)"
   ]
  },
  {
   "cell_type": "markdown",
   "metadata": {},
   "source": [
    "####  Feature selection"
   ]
  },
  {
   "cell_type": "code",
   "execution_count": 45,
   "metadata": {},
   "outputs": [
    {
     "name": "stdout",
     "output_type": "stream",
     "text": [
      "\n",
      "Indexes of selected features:\n",
      " [  2  12  14  15  16  17  35  38  43  45  51  55  57  60  64  72  73  81\n",
      "  98 100]\n",
      "No of selected features: (20,)\n",
      "sel_feat_idx_Softmax:0_0.2.txt\n",
      "\n",
      "Indexes of selected features:\n",
      " [  0   2   6   8  12  14  15  16  17  18  21  22  30  31  32  35  38  43\n",
      "  45  46  48  51  53  55  57  60  61  63  64  66  71  72  73  74  80  81\n",
      "  88  89  98 100]\n",
      "No of selected features: (40,)\n",
      "sel_feat_idx_Softmax:0_0.4.txt\n",
      "\n",
      "Indexes of selected features:\n",
      " [  0   1   2   5   6   7   8  10  11  12  14  15  16  17  18  19  20  21\n",
      "  22  26  30  31  32  34  35  38  39  42  43  44  45  46  48  49  50  51\n",
      "  53  54  55  57  60  61  63  64  65  66  71  72  73  74  80  81  86  87\n",
      "  88  89  93  94  98 100]\n",
      "No of selected features: (60,)\n",
      "sel_feat_idx_Softmax:0_0.6.txt\n",
      "\n",
      "Indexes of selected features:\n",
      " [  0   1   2   4   5   6   7   8   9  10  11  12  13  14  15  16  17  18\n",
      "  19  20  21  22  24  26  28  30  31  32  34  35  36  38  39  42  43  44\n",
      "  45  46  48  49  50  51  52  53  54  55  57  58  60  61  63  64  65  66\n",
      "  67  68  69  70  71  72  73  74  75  78  79  80  81  82  85  86  87  88\n",
      "  89  90  93  94  95  96  98 100]\n",
      "No of selected features: (80,)\n",
      "sel_feat_idx_Softmax:0_0.8.txt\n",
      "\n",
      "Indexes of selected features:\n",
      " [  0   1   2   3   4   5   6   7   8   9  10  11  12  13  14  15  16  17\n",
      "  18  19  20  21  22  23  24  25  26  27  28  29  30  31  32  33  34  35\n",
      "  36  37  38  39  40  41  42  43  44  45  46  47  48  49  50  51  52  53\n",
      "  54  55  56  57  58  59  60  61  62  63  64  65  66  67  68  69  70  71\n",
      "  72  73  74  75  76  77  78  79  80  81  82  83  84  85  86  87  88  89\n",
      "  90  91  92  93  94  95  96  97  98  99 100]\n",
      "No of selected features: (101,)\n",
      "sel_feat_idx_Softmax:0_1.0.txt\n"
     ]
    }
   ],
   "source": [
    "## Selecting top k features\n",
    "percentage_of_features=np.array([.2,.4,.6,.8,1])\n",
    "\n",
    "for percent in (percentage_of_features):\n",
    "    num_selected_features=int((features_all.shape[1])*percent)\n",
    "    from sklearn.feature_selection import f_classif, chi2, mutual_info_classif\n",
    "    from sklearn.feature_selection import SelectKBest\n",
    "    selector= SelectKBest(f_classif, k=num_selected_features)\n",
    "    features_all_selected=selector.fit_transform(features_all,feature_labels_true)\n",
    "    select_feature_cols = selector.get_support(indices=True)\n",
    "    print('\\nIndexes of selected features:\\n',select_feature_cols)\n",
    "    print('No of selected features:',select_feature_cols.shape)\n",
    "\n",
    "    ## Saving array indexes  \n",
    "    file_name='sel_feat_idx_'+layer_name.translate({ord('/'): None})+'_'+str(percent)+'.txt'\n",
    "    np.savetxt(file_name,select_feature_cols)\n",
    "    print(file_name)"
   ]
  },
  {
   "cell_type": "raw",
   "metadata": {
    "collapsed": true
   },
   "source": [
    "## selecting features based on the indexes\n",
    "def sel_feat(org_features):\n",
    "    selected_features = [org_features[i] for i in select_feature_cols]\n",
    "    return np.array(selected_features)"
   ]
  },
  {
   "cell_type": "raw",
   "metadata": {
    "collapsed": true
   },
   "source": [
    "sess.close()"
   ]
  },
  {
   "cell_type": "code",
   "execution_count": null,
   "metadata": {
    "collapsed": true
   },
   "outputs": [],
   "source": []
  },
  {
   "cell_type": "code",
   "execution_count": null,
   "metadata": {
    "collapsed": true
   },
   "outputs": [],
   "source": []
  }
 ],
 "metadata": {
  "kernelspec": {
   "display_name": "Python 3",
   "language": "python",
   "name": "python3"
  },
  "language_info": {
   "codemirror_mode": {
    "name": "ipython",
    "version": 3
   },
   "file_extension": ".py",
   "mimetype": "text/x-python",
   "name": "python",
   "nbconvert_exporter": "python",
   "pygments_lexer": "ipython3",
   "version": "3.6.1"
  }
 },
 "nbformat": 4,
 "nbformat_minor": 2
}
